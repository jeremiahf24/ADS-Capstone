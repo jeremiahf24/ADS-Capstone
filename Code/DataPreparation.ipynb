{
 "cells": [
  {
   "cell_type": "markdown",
   "id": "4a48e0b2-1c00-4582-92af-0c637de8503b",
   "metadata": {},
   "source": [
    "## Importing Packages"
   ]
  },
  {
   "cell_type": "code",
   "execution_count": 36,
   "id": "980e4411-a9dd-47e7-8a05-312f34680df1",
   "metadata": {},
   "outputs": [],
   "source": [
    "import os\n",
    "import json\n",
    "import pandas as pd\n",
    "import numpy as np\n",
    "import cv2\n",
    "import boto3\n",
    "import glob\n",
    "import matplotlib.pyplot as plt\n",
    "from skimage import io\n",
    "from shapely import wkt\n",
    "from shapely.geometry import mapping\n",
    "from collections import defaultdict\n",
    "\n",
    "import warnings\n",
    "warnings.filterwarnings(\"ignore\")"
   ]
  },
  {
   "cell_type": "markdown",
   "id": "12f7cd35-1bdd-4b39-b733-a3910556cc9a",
   "metadata": {},
   "source": [
    "## Download images from AWS S3 bucket"
   ]
  },
  {
   "cell_type": "code",
   "execution_count": 37,
   "id": "56aa3c1a-a433-4a97-a7e8-e28dde994fe0",
   "metadata": {},
   "outputs": [],
   "source": [
    "# # S3 Bucket Name & Image Directory Location\n",
    "# S3_Bucket_Name = 'hurricaneimagebucket'  \n",
    "# Image_Directory = '../Images'\n",
    "\n",
    "# # boto3 to initialize S3 client\n",
    "# s3_client = boto3.client('s3')\n",
    "\n",
    "# # S3 Bucket Download Images Function\n",
    "# def S3_Download(S3_Bucket_Name, Image_Directory):\n",
    "#     # Objects list within S3 Bucket\n",
    "#     S3_Response = s3_client.list_objects_v2(Bucket = S3_Bucket_Name)\n",
    "\n",
    "#     # Check if the bucket contains any objects\n",
    "#     if 'Contents' in S3_Response:\n",
    "#         for S3_Object in S3_Response['Contents']:\n",
    "#             file_name = S3_Object['Key']\n",
    "\n",
    "#             # Check if file is .png if want to add other formats i.e. file_name.endswith(('.png','.jpeg'))\n",
    "#             if file_name.endswith('.png'):  # Image format\n",
    "#                 # Uncomment line below if you are requiring to see the downloads\n",
    "#                 # print(f'Downloading {file_name}...')\n",
    "\n",
    "#                 # Join Path\n",
    "#                 Image_path = os.path.join(Image_Directory, file_name)\n",
    "\n",
    "#                 # Create any necessary directories\n",
    "#                 os.makedirs(os.path.dirname(Image_path), exist_ok = True)\n",
    "\n",
    "#                 # Download the image\n",
    "#                 s3_client.download_file(S3_Bucket_Name, file_name, Image_path)\n",
    "#                 # Uncomment line below if you are requiring to see the downloads\n",
    "#                 # print(f'Image downloaded {file_name}')\n",
    "#     else:\n",
    "#         print('No images found in the bucket')\n",
    "\n",
    "# # Call the function\n",
    "# S3_Download(S3_Bucket_Name, Image_Directory)"
   ]
  },
  {
   "cell_type": "markdown",
   "id": "19b57d02-b328-475b-93e7-83df31ea6a87",
   "metadata": {},
   "source": [
    "## Data Loading"
   ]
  },
  {
   "cell_type": "code",
   "execution_count": 38,
   "id": "65c50774-6383-4cb4-8a82-658611104736",
   "metadata": {},
   "outputs": [],
   "source": [
    "# Function to read JSON files\n",
    "def extract_JSON_data(directory):\n",
    "    pre_data = []\n",
    "    post_data = []\n",
    "\n",
    "    for filename in os.listdir(directory):\n",
    "        file_path = os.path.join(directory, filename)\n",
    "        with open(file_path, 'r') as file:\n",
    "            content = json.load(file)\n",
    "\n",
    "        # Filter by hurricane natural disaster only\n",
    "        disaster = content['metadata'].get('disaster')\n",
    "        if disaster and \"hurricane\" in disaster.lower():\n",
    "            img_name = content['metadata'].get('img_name', \"\")\n",
    "            data = {\n",
    "                'img_name': img_name,\n",
    "                'xy': content['features'].get('xy'),\n",
    "                'sensor': content['metadata'].get('sensor'),\n",
    "                'provider_asset_type': content['metadata'].get('provider_asset_type'),\n",
    "                'gsd': content['metadata'].get('gsd'),\n",
    "                'capture_date': content['metadata'].get('capture_date'),\n",
    "                'off_nadir_angle': content['metadata'].get('off_nadir_angle'),\n",
    "                'pan_resolution': content['metadata'].get('pan_resolution'),\n",
    "                'sun_azimuth': content['metadata'].get('sun_azimuth'),\n",
    "                'sun_elevation': content['metadata'].get('sun_elevation'),\n",
    "                'target_azimuth': content['metadata'].get('target_azimuth'),\n",
    "                'disaster': disaster,\n",
    "                'disaster_type': content['metadata'].get('disaster_type'),\n",
    "                'catalog_id': content['metadata'].get('catalog_id'),\n",
    "                'original_width': content['metadata'].get('original_width'),\n",
    "                'original_height': content['metadata'].get('original_height'),\n",
    "                'width': content['metadata'].get('width'),\n",
    "                'height': content['metadata'].get('height'),\n",
    "                'id': content['metadata'].get('id')\n",
    "            }\n",
    "            \n",
    "            # Separate pre and post DataFrame\n",
    "            if \"pre\" in img_name.lower():\n",
    "                pre_data.append(data)\n",
    "            elif \"post\" in img_name.lower():\n",
    "                post_data.append(data)\n",
    "    \n",
    "    hurricane_pre_df = pd.DataFrame(pre_data)\n",
    "    hurricane_post_df = pd.DataFrame(post_data)\n",
    "    \n",
    "    return hurricane_pre_df, hurricane_post_df"
   ]
  },
  {
   "cell_type": "code",
   "execution_count": 39,
   "id": "eb736fad-7df3-45cc-85b9-14272b86a84a",
   "metadata": {},
   "outputs": [],
   "source": [
    "# Function to extract pre- and post-disaster images\n",
    "def extract_images(image_folder) :\n",
    "    \n",
    "    # List to store pre- and post-hurricane images\n",
    "    pre_images, post_images = [], []\n",
    "    \n",
    "    print(\"Retrieving pre and post disaster images from:\", image_folder)\n",
    "    \n",
    "    for image in glob.iglob(f'{image_folder}/*') :\n",
    "        if image.endswith(\".png\") :\n",
    "            if \"pre\" in image.lower():\n",
    "                pre_images.append(image)\n",
    "            elif \"post\" in image.lower():\n",
    "                post_images.append(image)\n",
    "    \n",
    "    return pre_images, post_images"
   ]
  },
  {
   "cell_type": "code",
   "execution_count": 40,
   "id": "a2750c25-ddff-4bee-8adf-e8728daefa53",
   "metadata": {},
   "outputs": [],
   "source": [
    "# Function to load images\n",
    "def load_image(image_path) :\n",
    "    \n",
    "    image = cv2.imread(image_path)\n",
    "    # Convert image from BGR to RGB format\n",
    "    rgb_image = cv2.cvtColor(image, cv2.COLOR_BGR2RGB)\n",
    "    \n",
    "    return rgb_image"
   ]
  },
  {
   "cell_type": "code",
   "execution_count": 42,
   "id": "6a2034ac-3ad7-4594-885b-3377794feb76",
   "metadata": {},
   "outputs": [],
   "source": [
    "def prepare_data(images_dir, json_dir):\n",
    "    hurricane_pre_df, hurricane_post_df = extract_JSON_data(json_dir)\n",
    "    pre_hurricane_images, post_hurricane_images = extract_images(images_dir)\n",
    "    print(f\"\\nTotal pre-disaster images: {len(pre_hurricane_images)}\")\n",
    "    print(f\"\\nTotal post-disaster images: {len(post_hurricane_images)}\")\n",
    "\n",
    "    return hurricane_pre_df, hurricane_post_df, pre_hurricane_images, post_hurricane_images"
   ]
  }
 ],
 "metadata": {
  "kernelspec": {
   "display_name": "Python 3 (ipykernel)",
   "language": "python",
   "name": "python3"
  },
  "language_info": {
   "codemirror_mode": {
    "name": "ipython",
    "version": 3
   },
   "file_extension": ".py",
   "mimetype": "text/x-python",
   "name": "python",
   "nbconvert_exporter": "python",
   "pygments_lexer": "ipython3",
   "version": "3.11.7"
  }
 },
 "nbformat": 4,
 "nbformat_minor": 5
}
