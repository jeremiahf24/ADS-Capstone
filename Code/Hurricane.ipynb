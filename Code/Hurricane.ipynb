{
 "cells": [
  {
   "cell_type": "code",
   "id": "131b3eed-7870-4ad7-9d20-b3d6500a6eee",
   "metadata": {
    "ExecuteTime": {
     "end_time": "2024-10-26T17:06:40.465786Z",
     "start_time": "2024-10-26T17:06:39.972676Z"
    }
   },
   "source": [
    "import os\n",
    "import json\n",
    "import pandas as pd"
   ],
   "outputs": [
    {
     "name": "stderr",
     "output_type": "stream",
     "text": [
      "C:\\Users\\Jeremiah\\AppData\\Roaming\\Python\\Python310\\site-packages\\pandas\\core\\arrays\\masked.py:60: UserWarning: Pandas requires version '1.3.6' or newer of 'bottleneck' (version '1.3.5' currently installed).\n",
      "  from pandas.core import (\n"
     ]
    }
   ],
   "execution_count": 3
  },
  {
   "cell_type": "code",
   "id": "08cc9f63-9504-4cb3-bfa8-788199fe817f",
   "metadata": {
    "ExecuteTime": {
     "end_time": "2024-10-26T17:06:38.052302Z",
     "start_time": "2024-10-26T17:06:38.029297Z"
    }
   },
   "source": [
    "# JSON files Directory\n",
    "directory = 'train_images_labels_targets/train/labels'\n",
    "\n",
    "wind_count = 0\n",
    "\n",
    "# Iterate through all the JSON files in the directory\n",
    "for file_name in os.listdir(directory):\n",
    "    file_path = os.path.join(directory, file_name)\n",
    "    # Open and read the JSON file\n",
    "    with open(file_path, 'r') as file:\n",
    "        data = json.load(file)\n",
    "        \n",
    "        # only count wind disaster type metadata\n",
    "        if data.get('metadata', {}).get('disaster_type') == 'wind':\n",
    "            wind_count += 1\n",
    "\n",
    "print(f\"\\nTotal number of files 'wind': {wind_count}\")"
   ],
   "outputs": [
    {
     "ename": "NameError",
     "evalue": "name 'os' is not defined",
     "output_type": "error",
     "traceback": [
      "\u001B[1;31m---------------------------------------------------------------------------\u001B[0m",
      "\u001B[1;31mNameError\u001B[0m                                 Traceback (most recent call last)",
      "Cell \u001B[1;32mIn[2], line 7\u001B[0m\n\u001B[0;32m      4\u001B[0m wind_count \u001B[38;5;241m=\u001B[39m \u001B[38;5;241m0\u001B[39m\n\u001B[0;32m      6\u001B[0m \u001B[38;5;66;03m# Iterate through all the JSON files in the directory\u001B[39;00m\n\u001B[1;32m----> 7\u001B[0m \u001B[38;5;28;01mfor\u001B[39;00m file_name \u001B[38;5;129;01min\u001B[39;00m \u001B[43mos\u001B[49m\u001B[38;5;241m.\u001B[39mlistdir(directory):\n\u001B[0;32m      8\u001B[0m     file_path \u001B[38;5;241m=\u001B[39m os\u001B[38;5;241m.\u001B[39mpath\u001B[38;5;241m.\u001B[39mjoin(directory, file_name)\n\u001B[0;32m      9\u001B[0m     \u001B[38;5;66;03m# Open and read the JSON file\u001B[39;00m\n",
      "\u001B[1;31mNameError\u001B[0m: name 'os' is not defined"
     ]
    }
   ],
   "execution_count": 2
  },
  {
   "cell_type": "code",
   "execution_count": 3,
   "id": "7233205a-3ac2-4548-9232-8f94cc957eb6",
   "metadata": {},
   "outputs": [],
   "source": [
    "def read_json_files(directory):\n",
    "    data = []\n",
    "    \n",
    "    # Loop through each file in the specified directory\n",
    "    for filename in os.listdir(directory):\n",
    "        file_path = os.path.join(directory, filename)\n",
    "        with open(file_path, 'r') as file:\n",
    "            content = json.load(file)\n",
    "\n",
    "        disaster_type = content['metadata'].get('disaster_type')\n",
    "        # print(f\"Processing file: {filename}, Disaster Type: {disaster_type}\")  # Debug output\n",
    "        \n",
    "        # Only process files with disaster_type \"wind\"\n",
    "        if disaster_type == \"wind\":\n",
    "            # Separate Post and Pre by Status\n",
    "            status = 'Post' if 'post' in filename.lower() else 'Pre'\n",
    "            record_id = \"_\".join(filename.split('.')[0].split('_')[:-1]) # only to get disaster name and number\n",
    "            \n",
    "            # Split features and metadata\n",
    "            for feature in content.get('features', {}).get('lng_lat', []):\n",
    "                feature_data = {\n",
    "                    'disaster_type': disaster_type,\n",
    "                    'status': status,\n",
    "                    'filename' : record_id,\n",
    "                    'feature_type': feature['properties'].get('feature_type'),\n",
    "                    'subtype': feature['properties'].get('subtype', None), \n",
    "                    'uid': feature['properties'].get('uid'),\n",
    "                    'wkt': feature['wkt'],\n",
    "                    # 'sensor': content['metadata'].get('sensor'),\n",
    "                    # 'provider_asset_type': content['metadata'].get('provider_asset_type'),\n",
    "                    'gsd': content['metadata'].get('gsd'),\n",
    "                    'capture_date': content['metadata'].get('capture_date'),\n",
    "                    'off_nadir_angle': content['metadata'].get('off_nadir_angle'),\n",
    "                    'pan_resolution': content['metadata'].get('pan_resolution'),\n",
    "                    'sun_azimuth': content['metadata'].get('sun_azimuth'),\n",
    "                    'sun_elevation': content['metadata'].get('sun_elevation'),\n",
    "                    'target_azimuth': content['metadata'].get('target_azimuth'),\n",
    "                    'disaster': content['metadata'].get('disaster'),\n",
    "                    'catalog_id': content['metadata'].get('catalog_id'),\n",
    "                    # 'original_width': content['metadata'].get('original_width'),\n",
    "                    # 'original_height': content['metadata'].get('original_height'),\n",
    "                    # 'width': content['metadata'].get('width'),\n",
    "                    # 'height': content['metadata'].get('height'),\n",
    "                    'id' : content['metadata'].get('id'), \n",
    "                    'img_name': content['metadata'].get('img_name')\n",
    "                }\n",
    "                data.append(feature_data)\n",
    "\n",
    "    df = pd.DataFrame(data)\n",
    "    return df\n"
   ]
  },
  {
   "cell_type": "code",
   "execution_count": 4,
   "id": "aca0a92b-6f49-4823-a9f5-9ba1f06fee6d",
   "metadata": {},
   "outputs": [],
   "source": [
    "hurricane_df = read_json_files(directory)"
   ]
  },
  {
   "cell_type": "code",
   "id": "679088a4-0d12-4ef8-ae20-a9c86a75e315",
   "metadata": {
    "ExecuteTime": {
     "end_time": "2024-10-26T17:02:47.256764Z",
     "start_time": "2024-10-26T17:02:46.755201Z"
    }
   },
   "source": [
    "hurricane_df.head()"
   ],
   "outputs": [
    {
     "ename": "NameError",
     "evalue": "name 'hurricane_df' is not defined",
     "output_type": "error",
     "traceback": [
      "\u001B[1;31m---------------------------------------------------------------------------\u001B[0m",
      "\u001B[1;31mNameError\u001B[0m                                 Traceback (most recent call last)",
      "Cell \u001B[1;32mIn[1], line 1\u001B[0m\n\u001B[1;32m----> 1\u001B[0m \u001B[43mhurricane_df\u001B[49m\u001B[38;5;241m.\u001B[39mhead()\n",
      "\u001B[1;31mNameError\u001B[0m: name 'hurricane_df' is not defined"
     ]
    }
   ],
   "execution_count": 1
  },
  {
   "cell_type": "code",
   "execution_count": 6,
   "id": "d851362d-26b6-4862-bdc5-59e5b637014a",
   "metadata": {},
   "outputs": [
    {
     "data": {
      "text/plain": [
       "(73250, 18)"
      ]
     },
     "execution_count": 6,
     "metadata": {},
     "output_type": "execute_result"
    }
   ],
   "source": [
    "hurricane_df.shape"
   ]
  },
  {
   "cell_type": "code",
   "execution_count": 7,
   "id": "27de63da-24a2-4607-abb9-46e5e6bf7908",
   "metadata": {
    "scrolled": true
   },
   "outputs": [
    {
     "name": "stdout",
     "output_type": "stream",
     "text": [
      "<class 'pandas.core.frame.DataFrame'>\n",
      "RangeIndex: 73250 entries, 0 to 73249\n",
      "Data columns (total 18 columns):\n",
      " #   Column           Non-Null Count  Dtype  \n",
      "---  ------           --------------  -----  \n",
      " 0   disaster_type    73250 non-null  object \n",
      " 1   status           73250 non-null  object \n",
      " 2   filename         73250 non-null  object \n",
      " 3   feature_type     73250 non-null  object \n",
      " 4   subtype          36625 non-null  object \n",
      " 5   uid              73250 non-null  object \n",
      " 6   wkt              73250 non-null  object \n",
      " 7   gsd              73250 non-null  float64\n",
      " 8   capture_date     73250 non-null  object \n",
      " 9   off_nadir_angle  73250 non-null  float64\n",
      " 10  pan_resolution   73250 non-null  float64\n",
      " 11  sun_azimuth      73250 non-null  float64\n",
      " 12  sun_elevation    73250 non-null  float64\n",
      " 13  target_azimuth   73250 non-null  float64\n",
      " 14  disaster         73250 non-null  object \n",
      " 15  catalog_id       73250 non-null  object \n",
      " 16  id               73250 non-null  object \n",
      " 17  img_name         73250 non-null  object \n",
      "dtypes: float64(6), object(12)\n",
      "memory usage: 10.1+ MB\n"
     ]
    }
   ],
   "source": [
    "hurricane_df.info()"
   ]
  },
  {
   "cell_type": "code",
   "execution_count": 10,
   "id": "b4ec7142-d480-494d-ac24-3ce2bfbd28c4",
   "metadata": {},
   "outputs": [
    {
     "data": {
      "text/html": [
       "<div>\n",
       "<style scoped>\n",
       "    .dataframe tbody tr th:only-of-type {\n",
       "        vertical-align: middle;\n",
       "    }\n",
       "\n",
       "    .dataframe tbody tr th {\n",
       "        vertical-align: top;\n",
       "    }\n",
       "\n",
       "    .dataframe thead th {\n",
       "        text-align: right;\n",
       "    }\n",
       "</style>\n",
       "<table border=\"1\" class=\"dataframe\">\n",
       "  <thead>\n",
       "    <tr style=\"text-align: right;\">\n",
       "      <th></th>\n",
       "      <th>disaster_type</th>\n",
       "      <th>status</th>\n",
       "      <th>filename</th>\n",
       "      <th>feature_type</th>\n",
       "      <th>subtype</th>\n",
       "      <th>uid</th>\n",
       "      <th>wkt</th>\n",
       "      <th>gsd</th>\n",
       "      <th>capture_date</th>\n",
       "      <th>off_nadir_angle</th>\n",
       "      <th>pan_resolution</th>\n",
       "      <th>sun_azimuth</th>\n",
       "      <th>sun_elevation</th>\n",
       "      <th>target_azimuth</th>\n",
       "      <th>disaster</th>\n",
       "      <th>catalog_id</th>\n",
       "      <th>id</th>\n",
       "      <th>img_name</th>\n",
       "    </tr>\n",
       "  </thead>\n",
       "  <tbody>\n",
       "    <tr>\n",
       "      <th>22318</th>\n",
       "      <td>wind</td>\n",
       "      <td>Post</td>\n",
       "      <td>hurricane-matthew_00000329_post</td>\n",
       "      <td>building</td>\n",
       "      <td>minor-damage</td>\n",
       "      <td>97cbad54-550e-4b99-8c36-2eb2c47229c6</td>\n",
       "      <td>POLYGON ((-74.13475790257469 18.64278474590648...</td>\n",
       "      <td>2.722003</td>\n",
       "      <td>2016-10-11T15:59:14.035Z</td>\n",
       "      <td>35.466908</td>\n",
       "      <td>0.678957</td>\n",
       "      <td>156.503387</td>\n",
       "      <td>62.046967</td>\n",
       "      <td>103.106628</td>\n",
       "      <td>hurricane-matthew</td>\n",
       "      <td>103001005F15AA00</td>\n",
       "      <td>MjU4NjQyMw.k4PLtBoCwyZ-_0JDeD4uw8wGK9k</td>\n",
       "      <td>hurricane-matthew_00000329_post_disaster.png</td>\n",
       "    </tr>\n",
       "    <tr>\n",
       "      <th>22349</th>\n",
       "      <td>wind</td>\n",
       "      <td>Pre</td>\n",
       "      <td>hurricane-matthew_00000329_pre</td>\n",
       "      <td>building</td>\n",
       "      <td>None</td>\n",
       "      <td>97cbad54-550e-4b99-8c36-2eb2c47229c6</td>\n",
       "      <td>POLYGON ((-74.13475790257465 18.64278474590649...</td>\n",
       "      <td>1.957535</td>\n",
       "      <td>2013-06-09T15:51:17.851Z</td>\n",
       "      <td>14.371258</td>\n",
       "      <td>0.488291</td>\n",
       "      <td>69.879898</td>\n",
       "      <td>74.259109</td>\n",
       "      <td>251.317047</td>\n",
       "      <td>hurricane-matthew</td>\n",
       "      <td>103001002468D900</td>\n",
       "      <td>MjU4NTExOQ.ujjqlEdXOVzT5nJeLVJqtGljsk0</td>\n",
       "      <td>hurricane-matthew_00000329_pre_disaster.png</td>\n",
       "    </tr>\n",
       "  </tbody>\n",
       "</table>\n",
       "</div>"
      ],
      "text/plain": [
       "      disaster_type status                         filename feature_type  \\\n",
       "22318          wind   Post  hurricane-matthew_00000329_post     building   \n",
       "22349          wind    Pre   hurricane-matthew_00000329_pre     building   \n",
       "\n",
       "            subtype                                   uid  \\\n",
       "22318  minor-damage  97cbad54-550e-4b99-8c36-2eb2c47229c6   \n",
       "22349          None  97cbad54-550e-4b99-8c36-2eb2c47229c6   \n",
       "\n",
       "                                                     wkt       gsd  \\\n",
       "22318  POLYGON ((-74.13475790257469 18.64278474590648...  2.722003   \n",
       "22349  POLYGON ((-74.13475790257465 18.64278474590649...  1.957535   \n",
       "\n",
       "                   capture_date  off_nadir_angle  pan_resolution  sun_azimuth  \\\n",
       "22318  2016-10-11T15:59:14.035Z        35.466908        0.678957   156.503387   \n",
       "22349  2013-06-09T15:51:17.851Z        14.371258        0.488291    69.879898   \n",
       "\n",
       "       sun_elevation  target_azimuth           disaster        catalog_id  \\\n",
       "22318      62.046967      103.106628  hurricane-matthew  103001005F15AA00   \n",
       "22349      74.259109      251.317047  hurricane-matthew  103001002468D900   \n",
       "\n",
       "                                           id  \\\n",
       "22318  MjU4NjQyMw.k4PLtBoCwyZ-_0JDeD4uw8wGK9k   \n",
       "22349  MjU4NTExOQ.ujjqlEdXOVzT5nJeLVJqtGljsk0   \n",
       "\n",
       "                                           img_name  \n",
       "22318  hurricane-matthew_00000329_post_disaster.png  \n",
       "22349   hurricane-matthew_00000329_pre_disaster.png  "
      ]
     },
     "execution_count": 10,
     "metadata": {},
     "output_type": "execute_result"
    }
   ],
   "source": [
    "hurricane_df[hurricane_df['uid']=='97cbad54-550e-4b99-8c36-2eb2c47229c6']"
   ]
  },
  {
   "cell_type": "code",
   "execution_count": 14,
   "id": "de00e2b9-7e37-4de8-b30e-757c4ed045f2",
   "metadata": {},
   "outputs": [
    {
     "data": {
      "text/plain": [
       "1114"
      ]
     },
     "execution_count": 14,
     "metadata": {},
     "output_type": "execute_result"
    }
   ],
   "source": [
    "hurricane_df['img_name'].nunique()"
   ]
  },
  {
   "cell_type": "code",
   "execution_count": null,
   "id": "dee7903b-7fac-41bc-ba6a-25b1b180bb5a",
   "metadata": {},
   "outputs": [],
   "source": []
  }
 ],
 "metadata": {
  "kernelspec": {
   "display_name": "Python 3 (ipykernel)",
   "language": "python",
   "name": "python3"
  },
  "language_info": {
   "codemirror_mode": {
    "name": "ipython",
    "version": 3
   },
   "file_extension": ".py",
   "mimetype": "text/x-python",
   "name": "python",
   "nbconvert_exporter": "python",
   "pygments_lexer": "ipython3",
   "version": "3.11.7"
  }
 },
 "nbformat": 4,
 "nbformat_minor": 5
}
