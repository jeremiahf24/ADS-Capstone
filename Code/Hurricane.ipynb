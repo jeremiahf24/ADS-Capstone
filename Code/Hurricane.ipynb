{
 "cells": [
  {
   "cell_type": "markdown",
   "id": "83e5edcc-2466-4f9f-ac65-ab52268fe8dd",
   "metadata": {},
   "source": [
    "# Satellite Intelligence for Catastrophic Natural Disaster Recovery: Assessing Damage and First Responder Priorities through Geospatial Imagery"
   ]
  },
  {
   "cell_type": "markdown",
   "id": "90ef949d-3d28-4763-93fd-39e3bb1224d5",
   "metadata": {},
   "source": [
    "## Jeremiah Fa'atiliga, Ravita Kartawinata, Sowmiya Kanmani Maruthavanan"
   ]
  },
  {
   "cell_type": "markdown",
   "id": "e2ccf2c9-cae6-4a94-b4ba-3f29bd920667",
   "metadata": {},
   "source": [
    "# Importing Libraries"
   ]
  },
  {
   "cell_type": "code",
   "execution_count": 1,
   "id": "dd8988ac-139c-44b2-8cd8-a1113a9407f6",
   "metadata": {},
   "outputs": [],
   "source": [
    "import os\n",
    "import json\n",
    "import pandas as pd\n",
    "import numpy as np\n",
    "\n",
    "import seaborn as sns\n",
    "import matplotlib.pyplot as plt\n",
    "\n",
    "from sklearn.model_selection import train_test_split\n",
    "from sklearn.feature_extraction.text import TfidfVectorizer\n",
    "from sklearn.pipeline import make_pipeline\n",
    "from sklearn.model_selection import GridSearchCV\n",
    "from sklearn.metrics import accuracy_score, classification_report\n",
    "from sklearn.metrics import confusion_matrix\n",
    "from sklearn.ensemble import RandomForestClassifier\n",
    "from sklearn.tree import DecisionTreeClassifier\n",
    "from sklearn.neighbors import KNeighborsClassifier\n",
    "from keras.models import Sequential\n",
    "from keras.layers import Dense\n",
    "from sklearn.preprocessing import LabelBinarizer\n",
    "from sklearn.metrics import roc_auc_score\n",
    "\n",
    "import warnings\n",
    "warnings.filterwarnings(\"ignore\")\n"
   ]
  },
  {
   "cell_type": "markdown",
   "id": "5c8d7f9e-a03e-4b2d-940e-305359247cbc",
   "metadata": {},
   "source": [
    "The xBD dataset provides annotated high-resolution satellite imagery for assessing building damage, consisting of JSON files and image files. This project focuses on analyzing pre- and post-disaster imagery related to hurricanes."
   ]
  },
  {
   "cell_type": "markdown",
   "id": "3881e631-a30f-4654-ae8e-02557fd1538a",
   "metadata": {},
   "source": [
    "# Define Data"
   ]
  },
  {
   "cell_type": "code",
   "execution_count": 2,
   "id": "30efc742-340a-4a0a-8975-3d6e96867e6d",
   "metadata": {},
   "outputs": [],
   "source": [
    "# Read JSON files\n",
    "def create_dataframes(directory):\n",
    "    pre_data = []\n",
    "    post_data = []\n",
    "\n",
    "    for filename in os.listdir(directory):\n",
    "        file_path = os.path.join(directory, filename)\n",
    "        with open(file_path, 'r') as file:\n",
    "            content = json.load(file)\n",
    "\n",
    "        # Filter by hurricane natural disaster only\n",
    "        disaster = content['metadata'].get('disaster')\n",
    "        if disaster and \"hurricane\" in disaster.lower():\n",
    "            img_name = content['metadata'].get('img_name', \"\")\n",
    "            data = {\n",
    "                'img_name': img_name,\n",
    "                'xy': content['features'].get('lng_lat'),\n",
    "                'sensor': content['metadata'].get('sensor'),\n",
    "                'provider_asset_type': content['metadata'].get('provider_asset_type'),\n",
    "                'gsd': content['metadata'].get('gsd'),\n",
    "                'capture_date': content['metadata'].get('capture_date'),\n",
    "                'off_nadir_angle': content['metadata'].get('off_nadir_angle'),\n",
    "                'pan_resolution': content['metadata'].get('pan_resolution'),\n",
    "                'sun_azimuth': content['metadata'].get('sun_azimuth'),\n",
    "                'sun_elevation': content['metadata'].get('sun_elevation'),\n",
    "                'target_azimuth': content['metadata'].get('target_azimuth'),\n",
    "                'disaster': disaster,\n",
    "                'disaster_type': content['metadata'].get('disaster_type'),\n",
    "                'catalog_id': content['metadata'].get('catalog_id'),\n",
    "                'original_width': content['metadata'].get('original_width'),\n",
    "                'original_height': content['metadata'].get('original_height'),\n",
    "                'width': content['metadata'].get('width'),\n",
    "                'height': content['metadata'].get('height'),\n",
    "                'id': content['metadata'].get('id')\n",
    "            }\n",
    "            \n",
    "            # Separate pre and post DataFrame\n",
    "            if \"pre\" in img_name.lower():\n",
    "                pre_data.append(data)\n",
    "            elif \"post\" in img_name.lower():\n",
    "                post_data.append(data)\n",
    "    \n",
    "    hurricane_pre_df = pd.DataFrame(pre_data)\n",
    "    hurricane_post_df = pd.DataFrame(post_data)\n",
    "    \n",
    "    return hurricane_pre_df, hurricane_post_df"
   ]
  },
  {
   "cell_type": "code",
   "execution_count": 3,
   "id": "041a2a9c-cbbe-43cc-a331-5af9517049a1",
   "metadata": {},
   "outputs": [],
   "source": [
    "# Setup\n",
    "directory_path = \"../Data\"\n",
    "# Create Dataframe\n",
    "hurricane_pre_df, hurricane_post_df = create_dataframes(directory_path)"
   ]
  },
  {
   "cell_type": "markdown",
   "id": "ab2bca8b-cc9b-40eb-b7a0-016574aa7fcf",
   "metadata": {},
   "source": [
    "# "
   ]
  },
  {
   "cell_type": "code",
   "execution_count": null,
   "id": "f36695a5-ccee-4dd1-b2a8-6b7deb418ca4",
   "metadata": {},
   "outputs": [],
   "source": []
  },
  {
   "cell_type": "code",
   "execution_count": null,
   "id": "53b25130-fd9b-444f-ba56-d459cb25f7cc",
   "metadata": {},
   "outputs": [],
   "source": []
  },
  {
   "cell_type": "code",
   "execution_count": null,
   "id": "2972b082-f2b8-48e8-a65e-1a50d09f8d09",
   "metadata": {},
   "outputs": [],
   "source": []
  },
  {
   "cell_type": "code",
   "execution_count": null,
   "id": "41b61c74-dc88-4bc8-82da-0f227585a660",
   "metadata": {},
   "outputs": [],
   "source": []
  }
 ],
 "metadata": {
  "kernelspec": {
   "display_name": "Python 3 (ipykernel)",
   "language": "python",
   "name": "python3"
  },
  "language_info": {
   "codemirror_mode": {
    "name": "ipython",
    "version": 3
   },
   "file_extension": ".py",
   "mimetype": "text/x-python",
   "name": "python",
   "nbconvert_exporter": "python",
   "pygments_lexer": "ipython3",
   "version": "3.11.7"
  }
 },
 "nbformat": 4,
 "nbformat_minor": 5
}
