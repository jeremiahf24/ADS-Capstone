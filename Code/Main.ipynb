{
 "cells": [
  {
   "cell_type": "code",
   "execution_count": 1,
   "id": "9ebd304f-73cf-4976-ac35-a128b7a655a7",
   "metadata": {},
   "outputs": [],
   "source": [
    "%run \"DataPreparation.ipynb\";\n",
    "%run \"Modeling.ipynb\";"
   ]
  },
  {
   "cell_type": "code",
   "execution_count": 2,
   "id": "a8ee355b-41d9-48ee-af66-f685252f821c",
   "metadata": {},
   "outputs": [
    {
     "name": "stdout",
     "output_type": "stream",
     "text": [
      "Retrieving pre and post disaster images from: C:/Users/sowmi/Python scripts/hurricane/images\n",
      "\n",
      "Total pre-disaster images: 1219\n",
      "\n",
      "Total post-disaster images: 1219\n"
     ]
    }
   ],
   "source": [
    "# Setup\n",
    "images_dir= \"C:/Users/sowmi/Python scripts/hurricane/images\" #images\n",
    "json_dir = \"C:/Users/sowmi/Python scripts/hurricane/labels\" #json\n",
    "\n",
    "# Loading JSON data into dataframe for building localization\n",
    "hurricane_pre_df, hurricane_post_df, pre_hurricane_images, post_hurricane_images = prepare_data(images_dir, json_dir);"
   ]
  },
  {
   "cell_type": "code",
   "execution_count": 3,
   "id": "1293de3b-dac4-488b-b115-ea407ae0865a",
   "metadata": {},
   "outputs": [],
   "source": [
    "pre_resized_img, pre_mask_resized_img, polygon_data= preprocess_data(hurricane_pre_df, hurricane_post_df, images_dir);"
   ]
  },
  {
   "cell_type": "code",
   "execution_count": 4,
   "id": "39287379-debc-458e-8009-77627b16160f",
   "metadata": {},
   "outputs": [
    {
     "name": "stdout",
     "output_type": "stream",
     "text": [
      "(1219, 256, 256, 3)\n",
      "(1219, 256, 256, 1)\n"
     ]
    },
    {
     "data": {
      "text/html": [
       "<div>\n",
       "<style scoped>\n",
       "    .dataframe tbody tr th:only-of-type {\n",
       "        vertical-align: middle;\n",
       "    }\n",
       "\n",
       "    .dataframe tbody tr th {\n",
       "        vertical-align: top;\n",
       "    }\n",
       "\n",
       "    .dataframe thead th {\n",
       "        text-align: right;\n",
       "    }\n",
       "</style>\n",
       "<table border=\"1\" class=\"dataframe\">\n",
       "  <thead>\n",
       "    <tr style=\"text-align: right;\">\n",
       "      <th></th>\n",
       "      <th>building_uid</th>\n",
       "      <th>labels</th>\n",
       "    </tr>\n",
       "  </thead>\n",
       "  <tbody>\n",
       "    <tr>\n",
       "      <th>0</th>\n",
       "      <td>82799c02-ee88-452a-a615-7df5e64560e8.png</td>\n",
       "      <td>0</td>\n",
       "    </tr>\n",
       "    <tr>\n",
       "      <th>1</th>\n",
       "      <td>bbc71c55-2b37-4582-842e-27a70431dd56.png</td>\n",
       "      <td>0</td>\n",
       "    </tr>\n",
       "    <tr>\n",
       "      <th>2</th>\n",
       "      <td>243c58e3-d7f9-4feb-a879-11ef7fc64a75.png</td>\n",
       "      <td>0</td>\n",
       "    </tr>\n",
       "    <tr>\n",
       "      <th>3</th>\n",
       "      <td>aa1a6143-efc6-4d66-b5d6-2e827573f694.png</td>\n",
       "      <td>0</td>\n",
       "    </tr>\n",
       "    <tr>\n",
       "      <th>4</th>\n",
       "      <td>2b9f0812-faa6-4635-a6a2-1b214c273a7f.png</td>\n",
       "      <td>0</td>\n",
       "    </tr>\n",
       "  </tbody>\n",
       "</table>\n",
       "</div>"
      ],
      "text/plain": [
       "                               building_uid labels\n",
       "0  82799c02-ee88-452a-a615-7df5e64560e8.png      0\n",
       "1  bbc71c55-2b37-4582-842e-27a70431dd56.png      0\n",
       "2  243c58e3-d7f9-4feb-a879-11ef7fc64a75.png      0\n",
       "3  aa1a6143-efc6-4d66-b5d6-2e827573f694.png      0\n",
       "4  2b9f0812-faa6-4635-a6a2-1b214c273a7f.png      0"
      ]
     },
     "execution_count": 4,
     "metadata": {},
     "output_type": "execute_result"
    }
   ],
   "source": [
    "X_train, X_valid, y_train, y_valid=split_data(pre_resized_img, pre_mask_resized_img);\n",
    "#For Classification model\n",
    "data_df = pd.DataFrame(polygon_data)\n",
    "data_df.head()\n",
    "final_df = data_df.drop(['polygon_points'], axis=1)\n",
    "# Renaming columns\n",
    "final_df = final_df.rename(columns={'uid': 'building_uid',\n",
    "                                    'damage_type': 'labels'})\n",
    "# Convert labels to strings\n",
    "final_df['labels'] = final_df['labels'].astype(str)\n",
    "final_df.head()\n"
   ]
  },
  {
   "cell_type": "markdown",
   "id": "68e8b30d-b5f0-4122-8df9-7152918f4a63",
   "metadata": {},
   "source": [
    "### Class Imbalance "
   ]
  },
  {
   "cell_type": "code",
   "execution_count": 5,
   "id": "4ff75a22-fcec-4bec-a658-5b04363771fe",
   "metadata": {},
   "outputs": [
    {
     "data": {
      "text/plain": [
       "0    34846\n",
       "1    14550\n",
       "2    13330\n",
       "3     3359\n",
       "Name: labels, dtype: int64"
      ]
     },
     "execution_count": 5,
     "metadata": {},
     "output_type": "execute_result"
    }
   ],
   "source": [
    "final_df['labels'].value_counts()"
   ]
  },
  {
   "cell_type": "code",
   "execution_count": 6,
   "id": "b776bfeb-27d0-47d1-9b09-b0ced1a289e5",
   "metadata": {},
   "outputs": [
    {
     "data": {
      "text/plain": [
       "0    3359\n",
       "1    3359\n",
       "2    3359\n",
       "3    3359\n",
       "Name: labels, dtype: int64"
      ]
     },
     "execution_count": 6,
     "metadata": {},
     "output_type": "execute_result"
    }
   ],
   "source": [
    "from sklearn.utils import resample\n",
    "\n",
    "# Assuming 'df' has columns 'images' (file paths or data) and 'labels' (target class)\n",
    "\n",
    "# Separate the majority and minority classes\n",
    "min_class_size = final_df['labels'].value_counts().min()\n",
    "balanced_df = []\n",
    "\n",
    "# Iterate over each class and undersample the majority classes\n",
    "for label in final_df['labels'].unique():\n",
    "    class_subset = final_df[final_df['labels'] == label]\n",
    "    undersampled_subset = resample(class_subset, \n",
    "                                   replace=False,     # No replacement\n",
    "                                   n_samples=min_class_size,  # Match minority class size\n",
    "                                   random_state=42)  # Reproducibility\n",
    "    balanced_df.append(undersampled_subset)\n",
    "\n",
    "# Combine all classes back into a single DataFrame\n",
    "balanced_df = pd.concat(balanced_df)\n",
    "\n",
    "balanced_df = balanced_df.sample(frac=1, random_state=42).reset_index(drop=True)\n",
    "balanced_df['labels'].value_counts()"
   ]
  },
  {
   "cell_type": "code",
   "execution_count": 7,
   "id": "8d2d1a18-2d8b-48d7-ad12-ab9444b67b96",
   "metadata": {},
   "outputs": [
    {
     "data": {
      "text/plain": [
       "(13436, 2)"
      ]
     },
     "execution_count": 7,
     "metadata": {},
     "output_type": "execute_result"
    }
   ],
   "source": [
    "balanced_df.shape"
   ]
  },
  {
   "cell_type": "code",
   "execution_count": 8,
   "id": "93f1f16e-a676-4ec4-981c-dcd2f83814c1",
   "metadata": {},
   "outputs": [
    {
     "name": "stdout",
     "output_type": "stream",
     "text": [
      "(10748, 2)\n",
      "(2688, 2)\n"
     ]
    }
   ],
   "source": [
    "train_df, valid_df = classification_split_data(balanced_df)"
   ]
  },
  {
   "cell_type": "code",
   "execution_count": 9,
   "id": "3c308c8f-39ec-4df3-a4af-5ce898c5bad7",
   "metadata": {},
   "outputs": [
    {
     "name": "stdout",
     "output_type": "stream",
     "text": [
      "Found 10748 validated image filenames belonging to 4 classes.\n",
      "Found 2688 validated image filenames belonging to 4 classes.\n"
     ]
    }
   ],
   "source": [
    "#ONLY IF TRAINING IS NEEDED!\n",
    "# train_FCN_model();\n",
    "# train_unet_model();\n",
    "train_generator, val_generator = data_gen(target_size=(224,224), batch_size=32) # Mobilenet is trained on 224,224 images\n",
    "#train_ResNet50_model(train_generator, val_generator, batch_size=32);\n",
    "# train_MobileNet_model(train_generator, val_generator);\n",
    "# train_CNN_model(train_generator, val_generator);"
   ]
  },
  {
   "cell_type": "markdown",
   "id": "825236f5-0cc0-4d52-9cad-9f82056e56d6",
   "metadata": {},
   "source": [
    "# FCN Model"
   ]
  },
  {
   "cell_type": "code",
   "execution_count": 7,
   "id": "9fae8991-667e-45d4-844f-fa244454b01f",
   "metadata": {},
   "outputs": [
    {
     "name": "stdout",
     "output_type": "stream",
     "text": [
      "Model: \"model_1\"\n",
      "_________________________________________________________________\n",
      " Layer (type)                Output Shape              Param #   \n",
      "=================================================================\n",
      " input_7 (InputLayer)        [(None, 256, 256, 3)]     0         \n",
      "                                                                 \n",
      " conv2d_31 (Conv2D)          (None, 256, 256, 64)      1792      \n",
      "                                                                 \n",
      " conv2d_32 (Conv2D)          (None, 256, 256, 64)      36928     \n",
      "                                                                 \n",
      " conv2d_33 (Conv2D)          (None, 128, 128, 128)     73856     \n",
      "                                                                 \n",
      " conv2d_34 (Conv2D)          (None, 128, 128, 128)     147584    \n",
      "                                                                 \n",
      " conv2d_transpose_6 (Conv2DT  (None, 256, 256, 64)     73792     \n",
      " ranspose)                                                       \n",
      "                                                                 \n",
      " conv2d_35 (Conv2D)          (None, 256, 256, 64)      36928     \n",
      "                                                                 \n",
      " conv2d_36 (Conv2D)          (None, 256, 256, 1)       65        \n",
      "                                                                 \n",
      "=================================================================\n",
      "Total params: 370,945\n",
      "Trainable params: 370,945\n",
      "Non-trainable params: 0\n",
      "_________________________________________________________________\n",
      "8/8 [==============================] - 8s 258ms/step\n",
      "8/8 [==============================] - 1s 71ms/step - loss: 0.3160 - accuracy: 0.8628\n",
      "Validation Loss: 0.3160\n",
      "Validation Accuracy: 0.8628\n"
     ]
    }
   ],
   "source": [
    "fcn_model = tf.keras.models.load_model('model/FCN/FCN_model.keras')\n",
    "fcn_model.summary()\n",
    "# Making predictions\n",
    "fcn_model_mask = fcn_model.predict(X_valid)\n",
    "# Model Evaluation\n",
    "loss, accuracy = fcn_model.evaluate(X_valid, y_valid)\n",
    "print(f\"Validation Loss: {loss:.4f}\")\n",
    "print(f\"Validation Accuracy: {accuracy:.4f}\")"
   ]
  },
  {
   "cell_type": "markdown",
   "id": "7c837ed3-deb7-4211-8c9c-84ec0954c1f2",
   "metadata": {},
   "source": [
    "# Unet Model"
   ]
  },
  {
   "cell_type": "code",
   "execution_count": 5,
   "id": "9c6dbd7e-b203-4f5f-8f4e-d7970405564f",
   "metadata": {},
   "outputs": [
    {
     "name": "stdout",
     "output_type": "stream",
     "text": [
      "Model: \"U-Net\"\n",
      "__________________________________________________________________________________________________\n",
      " Layer (type)                   Output Shape         Param #     Connected to                     \n",
      "==================================================================================================\n",
      " input_5 (InputLayer)           [(None, 256, 256, 3  0           []                               \n",
      "                                )]                                                                \n",
      "                                                                                                  \n",
      " conv2d_6 (Conv2D)              (None, 256, 256, 64  1792        ['input_5[0][0]']                \n",
      "                                )                                                                 \n",
      "                                                                                                  \n",
      " batch_normalization_6 (BatchNo  (None, 256, 256, 64  256        ['conv2d_6[0][0]']               \n",
      " rmalization)                   )                                                                 \n",
      "                                                                                                  \n",
      " activation_6 (Activation)      (None, 256, 256, 64  0           ['batch_normalization_6[0][0]']  \n",
      "                                )                                                                 \n",
      "                                                                                                  \n",
      " conv2d_7 (Conv2D)              (None, 256, 256, 64  36928       ['activation_6[0][0]']           \n",
      "                                )                                                                 \n",
      "                                                                                                  \n",
      " batch_normalization_7 (BatchNo  (None, 256, 256, 64  256        ['conv2d_7[0][0]']               \n",
      " rmalization)                   )                                                                 \n",
      "                                                                                                  \n",
      " activation_7 (Activation)      (None, 256, 256, 64  0           ['batch_normalization_7[0][0]']  \n",
      "                                )                                                                 \n",
      "                                                                                                  \n",
      " max_pooling2d_1 (MaxPooling2D)  (None, 128, 128, 64  0          ['activation_7[0][0]']           \n",
      "                                )                                                                 \n",
      "                                                                                                  \n",
      " conv2d_8 (Conv2D)              (None, 128, 128, 12  73856       ['max_pooling2d_1[0][0]']        \n",
      "                                8)                                                                \n",
      "                                                                                                  \n",
      " batch_normalization_8 (BatchNo  (None, 128, 128, 12  512        ['conv2d_8[0][0]']               \n",
      " rmalization)                   8)                                                                \n",
      "                                                                                                  \n",
      " activation_8 (Activation)      (None, 128, 128, 12  0           ['batch_normalization_8[0][0]']  \n",
      "                                8)                                                                \n",
      "                                                                                                  \n",
      " conv2d_9 (Conv2D)              (None, 128, 128, 12  147584      ['activation_8[0][0]']           \n",
      "                                8)                                                                \n",
      "                                                                                                  \n",
      " batch_normalization_9 (BatchNo  (None, 128, 128, 12  512        ['conv2d_9[0][0]']               \n",
      " rmalization)                   8)                                                                \n",
      "                                                                                                  \n",
      " activation_9 (Activation)      (None, 128, 128, 12  0           ['batch_normalization_9[0][0]']  \n",
      "                                8)                                                                \n",
      "                                                                                                  \n",
      " max_pooling2d_2 (MaxPooling2D)  (None, 64, 64, 128)  0          ['activation_9[0][0]']           \n",
      "                                                                                                  \n",
      " conv2d_10 (Conv2D)             (None, 64, 64, 256)  295168      ['max_pooling2d_2[0][0]']        \n",
      "                                                                                                  \n",
      " batch_normalization_10 (BatchN  (None, 64, 64, 256)  1024       ['conv2d_10[0][0]']              \n",
      " ormalization)                                                                                    \n",
      "                                                                                                  \n",
      " activation_10 (Activation)     (None, 64, 64, 256)  0           ['batch_normalization_10[0][0]'] \n",
      "                                                                                                  \n",
      " conv2d_11 (Conv2D)             (None, 64, 64, 256)  590080      ['activation_10[0][0]']          \n",
      "                                                                                                  \n",
      " batch_normalization_11 (BatchN  (None, 64, 64, 256)  1024       ['conv2d_11[0][0]']              \n",
      " ormalization)                                                                                    \n",
      "                                                                                                  \n",
      " activation_11 (Activation)     (None, 64, 64, 256)  0           ['batch_normalization_11[0][0]'] \n",
      "                                                                                                  \n",
      " max_pooling2d_3 (MaxPooling2D)  (None, 32, 32, 256)  0          ['activation_11[0][0]']          \n",
      "                                                                                                  \n",
      " conv2d_12 (Conv2D)             (None, 32, 32, 512)  1180160     ['max_pooling2d_3[0][0]']        \n",
      "                                                                                                  \n",
      " batch_normalization_12 (BatchN  (None, 32, 32, 512)  2048       ['conv2d_12[0][0]']              \n",
      " ormalization)                                                                                    \n",
      "                                                                                                  \n",
      " activation_12 (Activation)     (None, 32, 32, 512)  0           ['batch_normalization_12[0][0]'] \n",
      "                                                                                                  \n",
      " conv2d_13 (Conv2D)             (None, 32, 32, 512)  2359808     ['activation_12[0][0]']          \n",
      "                                                                                                  \n",
      " batch_normalization_13 (BatchN  (None, 32, 32, 512)  2048       ['conv2d_13[0][0]']              \n",
      " ormalization)                                                                                    \n",
      "                                                                                                  \n",
      " activation_13 (Activation)     (None, 32, 32, 512)  0           ['batch_normalization_13[0][0]'] \n",
      "                                                                                                  \n",
      " max_pooling2d_4 (MaxPooling2D)  (None, 16, 16, 512)  0          ['activation_13[0][0]']          \n",
      "                                                                                                  \n",
      " conv2d_14 (Conv2D)             (None, 16, 16, 1024  4719616     ['max_pooling2d_4[0][0]']        \n",
      "                                )                                                                 \n",
      "                                                                                                  \n",
      " batch_normalization_14 (BatchN  (None, 16, 16, 1024  4096       ['conv2d_14[0][0]']              \n",
      " ormalization)                  )                                                                 \n",
      "                                                                                                  \n",
      " activation_14 (Activation)     (None, 16, 16, 1024  0           ['batch_normalization_14[0][0]'] \n",
      "                                )                                                                 \n",
      "                                                                                                  \n",
      " conv2d_15 (Conv2D)             (None, 16, 16, 1024  9438208     ['activation_14[0][0]']          \n",
      "                                )                                                                 \n",
      "                                                                                                  \n",
      " batch_normalization_15 (BatchN  (None, 16, 16, 1024  4096       ['conv2d_15[0][0]']              \n",
      " ormalization)                  )                                                                 \n",
      "                                                                                                  \n",
      " activation_15 (Activation)     (None, 16, 16, 1024  0           ['batch_normalization_15[0][0]'] \n",
      "                                )                                                                 \n",
      "                                                                                                  \n",
      " conv2d_transpose_1 (Conv2DTran  (None, 32, 32, 512)  2097664    ['activation_15[0][0]']          \n",
      " spose)                                                                                           \n",
      "                                                                                                  \n",
      " up_sampling2d (UpSampling2D)   (None, 32, 32, 512)  0           ['max_pooling2d_4[0][0]']        \n",
      "                                                                                                  \n",
      " concatenate_1 (Concatenate)    (None, 32, 32, 1024  0           ['conv2d_transpose_1[0][0]',     \n",
      "                                )                                 'up_sampling2d[0][0]']          \n",
      "                                                                                                  \n",
      " conv2d_16 (Conv2D)             (None, 32, 32, 512)  4719104     ['concatenate_1[0][0]']          \n",
      "                                                                                                  \n",
      " batch_normalization_16 (BatchN  (None, 32, 32, 512)  2048       ['conv2d_16[0][0]']              \n",
      " ormalization)                                                                                    \n",
      "                                                                                                  \n",
      " activation_16 (Activation)     (None, 32, 32, 512)  0           ['batch_normalization_16[0][0]'] \n",
      "                                                                                                  \n",
      " conv2d_17 (Conv2D)             (None, 32, 32, 512)  2359808     ['activation_16[0][0]']          \n",
      "                                                                                                  \n",
      " batch_normalization_17 (BatchN  (None, 32, 32, 512)  2048       ['conv2d_17[0][0]']              \n",
      " ormalization)                                                                                    \n",
      "                                                                                                  \n",
      " activation_17 (Activation)     (None, 32, 32, 512)  0           ['batch_normalization_17[0][0]'] \n",
      "                                                                                                  \n",
      " conv2d_transpose_2 (Conv2DTran  (None, 64, 64, 256)  524544     ['activation_17[0][0]']          \n",
      " spose)                                                                                           \n",
      "                                                                                                  \n",
      " up_sampling2d_1 (UpSampling2D)  (None, 64, 64, 256)  0          ['max_pooling2d_3[0][0]']        \n",
      "                                                                                                  \n",
      " concatenate_2 (Concatenate)    (None, 64, 64, 512)  0           ['conv2d_transpose_2[0][0]',     \n",
      "                                                                  'up_sampling2d_1[0][0]']        \n",
      "                                                                                                  \n",
      " conv2d_18 (Conv2D)             (None, 64, 64, 256)  1179904     ['concatenate_2[0][0]']          \n",
      "                                                                                                  \n",
      " batch_normalization_18 (BatchN  (None, 64, 64, 256)  1024       ['conv2d_18[0][0]']              \n",
      " ormalization)                                                                                    \n",
      "                                                                                                  \n",
      " activation_18 (Activation)     (None, 64, 64, 256)  0           ['batch_normalization_18[0][0]'] \n",
      "                                                                                                  \n",
      " conv2d_19 (Conv2D)             (None, 64, 64, 256)  590080      ['activation_18[0][0]']          \n",
      "                                                                                                  \n",
      " batch_normalization_19 (BatchN  (None, 64, 64, 256)  1024       ['conv2d_19[0][0]']              \n",
      " ormalization)                                                                                    \n",
      "                                                                                                  \n",
      " activation_19 (Activation)     (None, 64, 64, 256)  0           ['batch_normalization_19[0][0]'] \n",
      "                                                                                                  \n",
      " conv2d_transpose_3 (Conv2DTran  (None, 128, 128, 12  131200     ['activation_19[0][0]']          \n",
      " spose)                         8)                                                                \n",
      "                                                                                                  \n",
      " up_sampling2d_2 (UpSampling2D)  (None, 128, 128, 12  0          ['max_pooling2d_2[0][0]']        \n",
      "                                8)                                                                \n",
      "                                                                                                  \n",
      " concatenate_3 (Concatenate)    (None, 128, 128, 25  0           ['conv2d_transpose_3[0][0]',     \n",
      "                                6)                                'up_sampling2d_2[0][0]']        \n",
      "                                                                                                  \n",
      " conv2d_20 (Conv2D)             (None, 128, 128, 12  295040      ['concatenate_3[0][0]']          \n",
      "                                8)                                                                \n",
      "                                                                                                  \n",
      " batch_normalization_20 (BatchN  (None, 128, 128, 12  512        ['conv2d_20[0][0]']              \n",
      " ormalization)                  8)                                                                \n",
      "                                                                                                  \n",
      " activation_20 (Activation)     (None, 128, 128, 12  0           ['batch_normalization_20[0][0]'] \n",
      "                                8)                                                                \n",
      "                                                                                                  \n",
      " conv2d_21 (Conv2D)             (None, 128, 128, 12  147584      ['activation_20[0][0]']          \n",
      "                                8)                                                                \n",
      "                                                                                                  \n",
      " batch_normalization_21 (BatchN  (None, 128, 128, 12  512        ['conv2d_21[0][0]']              \n",
      " ormalization)                  8)                                                                \n",
      "                                                                                                  \n",
      " activation_21 (Activation)     (None, 128, 128, 12  0           ['batch_normalization_21[0][0]'] \n",
      "                                8)                                                                \n",
      "                                                                                                  \n",
      " conv2d_transpose_4 (Conv2DTran  (None, 256, 256, 64  32832      ['activation_21[0][0]']          \n",
      " spose)                         )                                                                 \n",
      "                                                                                                  \n",
      " up_sampling2d_3 (UpSampling2D)  (None, 256, 256, 64  0          ['max_pooling2d_1[0][0]']        \n",
      "                                )                                                                 \n",
      "                                                                                                  \n",
      " concatenate_4 (Concatenate)    (None, 256, 256, 12  0           ['conv2d_transpose_4[0][0]',     \n",
      "                                8)                                'up_sampling2d_3[0][0]']        \n",
      "                                                                                                  \n",
      " conv2d_22 (Conv2D)             (None, 256, 256, 64  73792       ['concatenate_4[0][0]']          \n",
      "                                )                                                                 \n",
      "                                                                                                  \n",
      " batch_normalization_22 (BatchN  (None, 256, 256, 64  256        ['conv2d_22[0][0]']              \n",
      " ormalization)                  )                                                                 \n",
      "                                                                                                  \n",
      " activation_22 (Activation)     (None, 256, 256, 64  0           ['batch_normalization_22[0][0]'] \n",
      "                                )                                                                 \n",
      "                                                                                                  \n",
      " conv2d_23 (Conv2D)             (None, 256, 256, 64  36928       ['activation_22[0][0]']          \n",
      "                                )                                                                 \n",
      "                                                                                                  \n",
      " batch_normalization_23 (BatchN  (None, 256, 256, 64  256        ['conv2d_23[0][0]']              \n",
      " ormalization)                  )                                                                 \n",
      "                                                                                                  \n",
      " activation_23 (Activation)     (None, 256, 256, 64  0           ['batch_normalization_23[0][0]'] \n",
      "                                )                                                                 \n",
      "                                                                                                  \n",
      " conv2d_24 (Conv2D)             (None, 256, 256, 1)  65          ['activation_23[0][0]']          \n",
      "                                                                                                  \n",
      "==================================================================================================\n",
      "Total params: 31,055,297\n",
      "Trainable params: 31,043,521\n",
      "Non-trainable params: 11,776\n",
      "__________________________________________________________________________________________________\n",
      "8/8 [==============================] - 10s 554ms/step\n",
      "8/8 [==============================] - 3s 291ms/step - loss: 0.0356 - accuracy: 0.9876\n",
      "Validation Loss: 0.0356\n",
      "Validation Accuracy: 0.9876\n"
     ]
    }
   ],
   "source": [
    "unet_model = tf.keras.models.load_model('model/Unet/Unet_model.keras')\n",
    "unet_model.summary()\n",
    "# Making predictions\n",
    "unet_model_mask = unet_model.predict(X_valid)\n",
    "# Model Evaluation\n",
    "loss, accuracy = unet_model.evaluate(X_valid, y_valid)\n",
    "print(f\"Validation Loss: {loss:.4f}\")\n",
    "print(f\"Validation Accuracy: {accuracy:.4f}\")"
   ]
  },
  {
   "cell_type": "markdown",
   "id": "7fd863fc-b9e7-4b93-9832-e64ff34dd6ef",
   "metadata": {},
   "source": [
    "# MobileNet Model"
   ]
  },
  {
   "cell_type": "code",
   "execution_count": 6,
   "id": "ae03ecd4-bb63-4c32-a56a-3731089691f2",
   "metadata": {},
   "outputs": [
    {
     "name": "stdout",
     "output_type": "stream",
     "text": [
      "Found 1322 validated image filenames belonging to 4 classes.\n",
      "Model: \"model\"\n",
      "__________________________________________________________________________________________________\n",
      " Layer (type)                   Output Shape         Param #     Connected to                     \n",
      "==================================================================================================\n",
      " input_1 (InputLayer)           [(None, 128, 128, 3  0           []                               \n",
      "                                )]                                                                \n",
      "                                                                                                  \n",
      " conv2d (Conv2D)                (None, 128, 128, 32  896         ['input_1[0][0]']                \n",
      "                                )                                                                 \n",
      "                                                                                                  \n",
      " batch_normalization (BatchNorm  (None, 128, 128, 32  128        ['conv2d[0][0]']                 \n",
      " alization)                     )                                                                 \n",
      "                                                                                                  \n",
      " max_pooling2d (MaxPooling2D)   (None, 64, 64, 32)   0           ['batch_normalization[0][0]']    \n",
      "                                                                                                  \n",
      " conv2d_1 (Conv2D)              (None, 64, 64, 64)   18496       ['max_pooling2d[0][0]']          \n",
      "                                                                                                  \n",
      " batch_normalization_1 (BatchNo  (None, 64, 64, 64)  256         ['conv2d_1[0][0]']               \n",
      " rmalization)                                                                                     \n",
      "                                                                                                  \n",
      " max_pooling2d_1 (MaxPooling2D)  (None, 32, 32, 64)  0           ['batch_normalization_1[0][0]']  \n",
      "                                                                                                  \n",
      " conv2d_2 (Conv2D)              (None, 32, 32, 64)   36928       ['max_pooling2d_1[0][0]']        \n",
      "                                                                                                  \n",
      " batch_normalization_2 (BatchNo  (None, 32, 32, 64)  256         ['conv2d_2[0][0]']               \n",
      " rmalization)                                                                                     \n",
      "                                                                                                  \n",
      " max_pooling2d_2 (MaxPooling2D)  (None, 16, 16, 64)  0           ['batch_normalization_2[0][0]']  \n",
      "                                                                                                  \n",
      " mobilenet_1.00_128 (Functional  (None, 4, 4, 1024)  3228864     ['input_1[0][0]']                \n",
      " )                                                                                                \n",
      "                                                                                                  \n",
      " flatten (Flatten)              (None, 16384)        0           ['max_pooling2d_2[0][0]']        \n",
      "                                                                                                  \n",
      " flatten_1 (Flatten)            (None, 16384)        0           ['mobilenet_1.00_128[0][0]']     \n",
      "                                                                                                  \n",
      " concatenate (Concatenate)      (None, 32768)        0           ['flatten[0][0]',                \n",
      "                                                                  'flatten_1[0][0]']              \n",
      "                                                                                                  \n",
      " dense (Dense)                  (None, 512)          16777728    ['concatenate[0][0]']            \n",
      "                                                                                                  \n",
      " dropout (Dropout)              (None, 512)          0           ['dense[0][0]']                  \n",
      "                                                                                                  \n",
      " dense_1 (Dense)                (None, 128)          65664       ['dropout[0][0]']                \n",
      "                                                                                                  \n",
      " dropout_1 (Dropout)            (None, 128)          0           ['dense_1[0][0]']                \n",
      "                                                                                                  \n",
      " dense_2 (Dense)                (None, 4)            516         ['dropout_1[0][0]']              \n",
      "                                                                                                  \n",
      "==================================================================================================\n",
      "Total params: 20,129,732\n",
      "Trainable params: 18,763,204\n",
      "Non-trainable params: 1,366,528\n",
      "__________________________________________________________________________________________________\n"
     ]
    }
   ],
   "source": [
    "test_datagen = ImageDataGenerator(rescale=1/255.)\n",
    "\n",
    "test_generator = test_datagen.flow_from_dataframe(\n",
    "    dataframe=test_df,\n",
    "    directory=cropped_dir,\n",
    "    x_col='building_uid',\n",
    "    y_col='labels',\n",
    "    target_size=(224, 224),\n",
    "    batch_size=32,\n",
    "    shuffle=False,\n",
    "    seed=123,\n",
    "    class_mode=\"categorical\"\n",
    ")\n"
   ]
  },
  {
   "cell_type": "code",
   "execution_count": 20,
   "id": "e85e893c-9d43-4d5f-95e2-fcf905c56c8c",
   "metadata": {},
   "outputs": [
    {
     "name": "stdout",
     "output_type": "stream",
     "text": [
      "Model: \"model\"\n",
      "__________________________________________________________________________________________________\n",
      " Layer (type)                   Output Shape         Param #     Connected to                     \n",
      "==================================================================================================\n",
      " input_1 (InputLayer)           [(None, 224, 224, 3  0           []                               \n",
      "                                )]                                                                \n",
      "                                                                                                  \n",
      " conv2d (Conv2D)                (None, 224, 224, 32  896         ['input_1[0][0]']                \n",
      "                                )                                                                 \n",
      "                                                                                                  \n",
      " batch_normalization (BatchNorm  (None, 224, 224, 32  128        ['conv2d[0][0]']                 \n",
      " alization)                     )                                                                 \n",
      "                                                                                                  \n",
      " max_pooling2d (MaxPooling2D)   (None, 112, 112, 32  0           ['batch_normalization[0][0]']    \n",
      "                                )                                                                 \n",
      "                                                                                                  \n",
      " conv2d_1 (Conv2D)              (None, 112, 112, 64  18496       ['max_pooling2d[0][0]']          \n",
      "                                )                                                                 \n",
      "                                                                                                  \n",
      " batch_normalization_1 (BatchNo  (None, 112, 112, 64  256        ['conv2d_1[0][0]']               \n",
      " rmalization)                   )                                                                 \n",
      "                                                                                                  \n",
      " max_pooling2d_1 (MaxPooling2D)  (None, 56, 56, 64)  0           ['batch_normalization_1[0][0]']  \n",
      "                                                                                                  \n",
      " conv2d_2 (Conv2D)              (None, 56, 56, 64)   36928       ['max_pooling2d_1[0][0]']        \n",
      "                                                                                                  \n",
      " batch_normalization_2 (BatchNo  (None, 56, 56, 64)  256         ['conv2d_2[0][0]']               \n",
      " rmalization)                                                                                     \n",
      "                                                                                                  \n",
      " max_pooling2d_2 (MaxPooling2D)  (None, 28, 28, 64)  0           ['batch_normalization_2[0][0]']  \n",
      "                                                                                                  \n",
      " mobilenet_1.00_224 (Functional  (None, 7, 7, 1024)  3228864     ['input_1[0][0]']                \n",
      " )                                                                                                \n",
      "                                                                                                  \n",
      " flatten (Flatten)              (None, 50176)        0           ['max_pooling2d_2[0][0]']        \n",
      "                                                                                                  \n",
      " flatten_1 (Flatten)            (None, 50176)        0           ['mobilenet_1.00_224[0][0]']     \n",
      "                                                                                                  \n",
      " concatenate (Concatenate)      (None, 100352)       0           ['flatten[0][0]',                \n",
      "                                                                  'flatten_1[0][0]']              \n",
      "                                                                                                  \n",
      " dense (Dense)                  (None, 512)          51380736    ['concatenate[0][0]']            \n",
      "                                                                                                  \n",
      " dropout (Dropout)              (None, 512)          0           ['dense[0][0]']                  \n",
      "                                                                                                  \n",
      " dense_1 (Dense)                (None, 128)          65664       ['dropout[0][0]']                \n",
      "                                                                                                  \n",
      " dropout_1 (Dropout)            (None, 128)          0           ['dense_1[0][0]']                \n",
      "                                                                                                  \n",
      " dense_2 (Dense)                (None, 4)            516         ['dropout_1[0][0]']              \n",
      "                                                                                                  \n",
      "==================================================================================================\n",
      "Total params: 54,732,740\n",
      "Trainable params: 53,366,212\n",
      "Non-trainable params: 1,366,528\n",
      "__________________________________________________________________________________________________\n"
     ]
    }
   ],
   "source": [
    "with tf.device('/cpu:0'):\n",
    "    mobilenet_model = tf.keras.models.load_model('model/MobileNet/MobileNet_model.keras')\n",
    "    mobilenet_model.summary()"
   ]
  },
  {
   "cell_type": "code",
   "execution_count": 21,
   "id": "c36675b6-d2d8-4e13-bc76-40a69384f4ca",
   "metadata": {},
   "outputs": [
    {
     "name": "stdout",
     "output_type": "stream",
     "text": [
      "1/1 [==============================] - 1s 750ms/step\n",
      "0\n"
     ]
    }
   ],
   "source": [
    "# Making predictions\n",
    "# print(test_generator)\n",
    "from keras.applications.mobilenet import preprocess_input\n",
    "from tensorflow.keras.preprocessing import image\n",
    "from tensorflow.keras.applications import imagenet_utils\n",
    "\n",
    "img_path= '../cropped_images/'\n",
    "filename = 'ffe7fa73-ecf8-48f2-9068-f690eee0a533.png'\n",
    "img = image.load_img(img_path+filename, target_size=(224, 224))\n",
    "img_array = image.img_to_array(img)\n",
    "img_array_expanded_dims = np.expand_dims(img_array, axis=0)\n",
    "\n",
    "class_indices = train_generator.class_indices\n",
    "class_names = list(class_indices.keys())\n",
    "\n",
    "processed_image= tf.keras.applications.mobilenet.preprocess_input(img_array_expanded_dims)\n",
    "# img_array_expanded_dims = np.expand_dims(test_generator[0], axis=0)\n",
    "predictions = mobilenet_model.predict(processed_image)\n",
    "output_class=class_names[np.argmax(predictions)]\n",
    "\n",
    "print(output_class)\n",
    "# results = imagenet_utils.decode_predictions(predictions)\n",
    "# print(results)\n",
    "# Model Evaluation\n",
    "# loss, accuracy = unet_model.evaluate(X_valid, y_valid)\n",
    "# print(f\"Validation Loss: {loss:.4f}\")\n",
    "# print(f\"Validation Accuracy: {accuracy:.4f}\")"
   ]
  },
  {
   "cell_type": "code",
   "execution_count": 10,
   "id": "185094d9-eff3-4e27-8b50-78e221a47cca",
   "metadata": {},
   "outputs": [
    {
     "name": "stdout",
     "output_type": "stream",
     "text": [
      "Model: \"model\"\n",
      "__________________________________________________________________________________________________\n",
      " Layer (type)                   Output Shape         Param #     Connected to                     \n",
      "==================================================================================================\n",
      " input_1 (InputLayer)           [(None, 224, 224, 3  0           []                               \n",
      "                                )]                                                                \n",
      "                                                                                                  \n",
      " conv2d (Conv2D)                (None, 224, 224, 32  896         ['input_1[0][0]']                \n",
      "                                )                                                                 \n",
      "                                                                                                  \n",
      " batch_normalization (BatchNorm  (None, 224, 224, 32  128        ['conv2d[0][0]']                 \n",
      " alization)                     )                                                                 \n",
      "                                                                                                  \n",
      " max_pooling2d (MaxPooling2D)   (None, 112, 112, 32  0           ['batch_normalization[0][0]']    \n",
      "                                )                                                                 \n",
      "                                                                                                  \n",
      " conv2d_1 (Conv2D)              (None, 112, 112, 64  18496       ['max_pooling2d[0][0]']          \n",
      "                                )                                                                 \n",
      "                                                                                                  \n",
      " batch_normalization_1 (BatchNo  (None, 112, 112, 64  256        ['conv2d_1[0][0]']               \n",
      " rmalization)                   )                                                                 \n",
      "                                                                                                  \n",
      " max_pooling2d_1 (MaxPooling2D)  (None, 56, 56, 64)  0           ['batch_normalization_1[0][0]']  \n",
      "                                                                                                  \n",
      " conv2d_2 (Conv2D)              (None, 56, 56, 64)   36928       ['max_pooling2d_1[0][0]']        \n",
      "                                                                                                  \n",
      " batch_normalization_2 (BatchNo  (None, 56, 56, 64)  256         ['conv2d_2[0][0]']               \n",
      " rmalization)                                                                                     \n",
      "                                                                                                  \n",
      " max_pooling2d_2 (MaxPooling2D)  (None, 28, 28, 64)  0           ['batch_normalization_2[0][0]']  \n",
      "                                                                                                  \n",
      " resnet50 (Functional)          (None, 7, 7, 2048)   23587712    ['input_1[0][0]']                \n",
      "                                                                                                  \n",
      " flatten_1 (Flatten)            (None, 50176)        0           ['max_pooling2d_2[0][0]']        \n",
      "                                                                                                  \n",
      " flatten (Flatten)              (None, 100352)       0           ['resnet50[0][0]']               \n",
      "                                                                                                  \n",
      " concatenate (Concatenate)      (None, 150528)       0           ['flatten_1[0][0]',              \n",
      "                                                                  'flatten[0][0]']                \n",
      "                                                                                                  \n",
      " dense (Dense)                  (None, 512)          77070848    ['concatenate[0][0]']            \n",
      "                                                                                                  \n",
      " dropout (Dropout)              (None, 512)          0           ['dense[0][0]']                  \n",
      "                                                                                                  \n",
      " dense_1 (Dense)                (None, 128)          65664       ['dropout[0][0]']                \n",
      "                                                                                                  \n",
      " dropout_1 (Dropout)            (None, 128)          0           ['dense_1[0][0]']                \n",
      "                                                                                                  \n",
      " dense_2 (Dense)                (None, 4)            516         ['dropout_1[0][0]']              \n",
      "                                                                                                  \n",
      "==================================================================================================\n",
      "Total params: 100,781,700\n",
      "Trainable params: 86,124,996\n",
      "Non-trainable params: 14,656,704\n",
      "__________________________________________________________________________________________________\n"
     ]
    }
   ],
   "source": [
    "with tf.device('/cpu:0'):\n",
    "    resnet50_model = tf.keras.models.load_model('model/Resnet50/Resnet50_model.keras')\n",
    "    resnet50_model.summary()"
   ]
  },
  {
   "cell_type": "code",
   "execution_count": 11,
   "id": "9ff8fc1e-a3d1-4102-9b9e-1b220241ae63",
   "metadata": {},
   "outputs": [
    {
     "name": "stdout",
     "output_type": "stream",
     "text": [
      "1/1 [==============================] - 6s 6s/step\n",
      "2\n"
     ]
    }
   ],
   "source": [
    "from keras.applications.mobilenet import preprocess_input\n",
    "from tensorflow.keras.preprocessing import image\n",
    "from tensorflow.keras.applications import imagenet_utils\n",
    "\n",
    "img_path= '../cropped_images/'\n",
    "filename = 'fff86503-2967-4603-acd6-adf6344b65d8.png'\n",
    "img = image.load_img(img_path+filename, target_size=(224, 224))\n",
    "img_array = image.img_to_array(img)\n",
    "img_array_expanded_dims = np.expand_dims(img_array, axis=0)\n",
    "\n",
    "class_indices = train_generator.class_indices\n",
    "class_names = list(class_indices.keys())\n",
    "\n",
    "processed_image= tf.keras.applications.mobilenet.preprocess_input(img_array_expanded_dims)\n",
    "# img_array_expanded_dims = np.expand_dims(test_generator[0], axis=0)\n",
    "predictions = resnet50_model.predict(processed_image)\n",
    "output_class=class_names[np.argmax(predictions)]\n",
    "\n",
    "print(output_class)"
   ]
  },
  {
   "cell_type": "code",
   "execution_count": null,
   "id": "d4242f6d-c7d4-42ba-b07d-a1159c397a6c",
   "metadata": {},
   "outputs": [],
   "source": []
  }
 ],
 "metadata": {
  "kernelspec": {
   "display_name": "Python 3 (ipykernel)",
   "language": "python",
   "name": "python3"
  },
  "language_info": {
   "codemirror_mode": {
    "name": "ipython",
    "version": 3
   },
   "file_extension": ".py",
   "mimetype": "text/x-python",
   "name": "python",
   "nbconvert_exporter": "python",
   "pygments_lexer": "ipython3",
   "version": "3.9.20"
  }
 },
 "nbformat": 4,
 "nbformat_minor": 5
}
