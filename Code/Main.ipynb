{
 "cells": [
  {
   "cell_type": "code",
   "execution_count": 5,
   "id": "9ebd304f-73cf-4976-ac35-a128b7a655a7",
   "metadata": {},
   "outputs": [
    {
     "name": "stdout",
     "output_type": "stream",
     "text": [
      "(None, 512, 512, 32)\n"
     ]
    }
   ],
   "source": [
    "%run \"DataPreparation.ipynb\"\n",
    "%run \"Modeling.ipynb\""
   ]
  },
  {
   "cell_type": "code",
   "execution_count": 7,
   "id": "a8ee355b-41d9-48ee-af66-f685252f821c",
   "metadata": {},
   "outputs": [
    {
     "name": "stdout",
     "output_type": "stream",
     "text": [
      "Retrieving pre and post disaster images from: C:/Users/sowmi/Python scripts/hurricane/images\n",
      "\n",
      "Total pre-disaster images: 1219\n",
      "\n",
      "Total post-disaster images: 1219\n"
     ]
    }
   ],
   "source": [
    "# Setup\n",
    "#directory_path = \"../Data\"\n",
    "images_dir= \"C:/Users/sowmi/Python scripts/hurricane/images\" #images\n",
    "json_dir = \"C:/Users/sowmi/Python scripts/hurricane/labels\" #json\n",
    "\n",
    "# Loading JSON data into dataframe\n",
    "hurricane_pre_df, hurricane_post_df, pre_hurricane_images, post_hurricane_images = prepare_data(images_dir, json_dir);"
   ]
  },
  {
   "cell_type": "code",
   "execution_count": 8,
   "id": "1293de3b-dac4-488b-b115-ea407ae0865a",
   "metadata": {},
   "outputs": [
    {
     "name": "stdout",
     "output_type": "stream",
     "text": [
      "Completed saving mask images to the ..\\masks directory\n",
      "Total pre-disaster mask images: 1219\n"
     ]
    }
   ],
   "source": [
    "pre_resized_img, pre_mask_resized_img= preprocess_data(hurricane_pre_df, images_dir);"
   ]
  },
  {
   "cell_type": "code",
   "execution_count": 9,
   "id": "39287379-debc-458e-8009-77627b16160f",
   "metadata": {},
   "outputs": [
    {
     "name": "stdout",
     "output_type": "stream",
     "text": [
      "(1219, 256, 256, 3)\n",
      "(1219, 256, 256, 1)\n"
     ]
    }
   ],
   "source": [
    "X_train, X_valid, y_train, y_valid=split_data(pre_resized_img, pre_mask_resized_img);"
   ]
  },
  {
   "cell_type": "code",
   "execution_count": 10,
   "id": "3c308c8f-39ec-4df3-a4af-5ce898c5bad7",
   "metadata": {},
   "outputs": [],
   "source": [
    "#ONLY IF TRAINING IS NEEDED!\n",
    "# train_fcn_model();\n",
    "# train_unet_model();"
   ]
  },
  {
   "cell_type": "markdown",
   "id": "825236f5-0cc0-4d52-9cad-9f82056e56d6",
   "metadata": {},
   "source": [
    "# FCN Model"
   ]
  },
  {
   "cell_type": "code",
   "execution_count": 41,
   "id": "9fae8991-667e-45d4-844f-fa244454b01f",
   "metadata": {},
   "outputs": [],
   "source": [
    "fcn_model = tf.keras.models.load_model('model/FCN/FCN_model.keras')\n",
    "fcn_model.summary()\n",
    "# Making predictions\n",
    "fcn_model_mask = fcn_model.predict(X_valid)\n",
    "# Model Evaluation\n",
    "loss, accuracy = fcn_model.evaluate(X_valid, y_valid)\n",
    "print(f\"Validation Loss: {loss:.4f}\")\n",
    "print(f\"Validation Accuracy: {accuracy:.4f}\")"
   ]
  },
  {
   "cell_type": "markdown",
   "id": "7c837ed3-deb7-4211-8c9c-84ec0954c1f2",
   "metadata": {},
   "source": [
    "# Unet Model"
   ]
  },
  {
   "cell_type": "code",
   "execution_count": 42,
   "id": "9c6dbd7e-b203-4f5f-8f4e-d7970405564f",
   "metadata": {},
   "outputs": [],
   "source": [
    "unet_model = tf.keras.models.load_model('model/Unet/Unet_model.keras')\n",
    "unet_model.summary()\n",
    "# Making predictions\n",
    "unet_model_mask = unet_model.predict(X_valid)\n",
    "# Model Evaluation\n",
    "loss, accuracy = unet_model.evaluate(X_valid, y_valid)\n",
    "print(f\"Validation Loss: {loss:.4f}\")\n",
    "print(f\"Validation Accuracy: {accuracy:.4f}\")"
   ]
  }
 ],
 "metadata": {
  "kernelspec": {
   "display_name": "Python 3 (ipykernel)",
   "language": "python",
   "name": "python3"
  },
  "language_info": {
   "codemirror_mode": {
    "name": "ipython",
    "version": 3
   },
   "file_extension": ".py",
   "mimetype": "text/x-python",
   "name": "python",
   "nbconvert_exporter": "python",
   "pygments_lexer": "ipython3",
   "version": "3.10.2"
  }
 },
 "nbformat": 4,
 "nbformat_minor": 5
}
