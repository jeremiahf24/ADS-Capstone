{
 "cells": [
  {
   "cell_type": "code",
   "execution_count": 1,
   "id": "9ebd304f-73cf-4976-ac35-a128b7a655a7",
   "metadata": {},
   "outputs": [],
   "source": [
    "%run \"DataPreparation.ipynb\";\n",
    "%run \"Modeling.ipynb\";"
   ]
  },
  {
   "cell_type": "code",
   "execution_count": 2,
   "id": "a8ee355b-41d9-48ee-af66-f685252f821c",
   "metadata": {},
   "outputs": [
    {
     "name": "stdout",
     "output_type": "stream",
     "text": [
      "Retrieving pre and post disaster images from: ../Images\n",
      "\n",
      "Total pre-disaster images: 1219\n",
      "\n",
      "Total post-disaster images: 1219\n"
     ]
    }
   ],
   "source": [
    "# Setup\n",
    "images_dir= \"../Images\" #images\n",
    "json_dir = \"../Data\" #json\n",
    "\n",
    "# Loading JSON data into dataframe for building localization\n",
    "hurricane_pre_df, hurricane_post_df, pre_hurricane_images, post_hurricane_images = prepare_data(images_dir, json_dir);"
   ]
  },
  {
   "cell_type": "code",
   "execution_count": 3,
   "id": "1293de3b-dac4-488b-b115-ea407ae0865a",
   "metadata": {},
   "outputs": [],
   "source": [
    "pre_resized_img, pre_mask_resized_img, polygon_data= preprocess_data(hurricane_pre_df, hurricane_post_df, images_dir);"
   ]
  },
  {
   "cell_type": "code",
   "execution_count": 4,
   "id": "39287379-debc-458e-8009-77627b16160f",
   "metadata": {},
   "outputs": [
    {
     "name": "stdout",
     "output_type": "stream",
     "text": [
      "(1219, 256, 256, 3)\n",
      "(1219, 256, 256, 1)\n"
     ]
    },
    {
     "data": {
      "text/html": [
       "<div>\n",
       "<style scoped>\n",
       "    .dataframe tbody tr th:only-of-type {\n",
       "        vertical-align: middle;\n",
       "    }\n",
       "\n",
       "    .dataframe tbody tr th {\n",
       "        vertical-align: top;\n",
       "    }\n",
       "\n",
       "    .dataframe thead th {\n",
       "        text-align: right;\n",
       "    }\n",
       "</style>\n",
       "<table border=\"1\" class=\"dataframe\">\n",
       "  <thead>\n",
       "    <tr style=\"text-align: right;\">\n",
       "      <th></th>\n",
       "      <th>building_uid</th>\n",
       "      <th>labels</th>\n",
       "    </tr>\n",
       "  </thead>\n",
       "  <tbody>\n",
       "    <tr>\n",
       "      <th>0</th>\n",
       "      <td>82799c02-ee88-452a-a615-7df5e64560e8.png</td>\n",
       "      <td>0</td>\n",
       "    </tr>\n",
       "    <tr>\n",
       "      <th>1</th>\n",
       "      <td>bbc71c55-2b37-4582-842e-27a70431dd56.png</td>\n",
       "      <td>0</td>\n",
       "    </tr>\n",
       "    <tr>\n",
       "      <th>2</th>\n",
       "      <td>243c58e3-d7f9-4feb-a879-11ef7fc64a75.png</td>\n",
       "      <td>0</td>\n",
       "    </tr>\n",
       "    <tr>\n",
       "      <th>3</th>\n",
       "      <td>aa1a6143-efc6-4d66-b5d6-2e827573f694.png</td>\n",
       "      <td>0</td>\n",
       "    </tr>\n",
       "    <tr>\n",
       "      <th>4</th>\n",
       "      <td>2b9f0812-faa6-4635-a6a2-1b214c273a7f.png</td>\n",
       "      <td>0</td>\n",
       "    </tr>\n",
       "  </tbody>\n",
       "</table>\n",
       "</div>"
      ],
      "text/plain": [
       "                               building_uid labels\n",
       "0  82799c02-ee88-452a-a615-7df5e64560e8.png      0\n",
       "1  bbc71c55-2b37-4582-842e-27a70431dd56.png      0\n",
       "2  243c58e3-d7f9-4feb-a879-11ef7fc64a75.png      0\n",
       "3  aa1a6143-efc6-4d66-b5d6-2e827573f694.png      0\n",
       "4  2b9f0812-faa6-4635-a6a2-1b214c273a7f.png      0"
      ]
     },
     "execution_count": 4,
     "metadata": {},
     "output_type": "execute_result"
    }
   ],
   "source": [
    "X_train, X_valid, y_train, y_valid=split_data(pre_resized_img, pre_mask_resized_img);\n",
    "#For Classification model\n",
    "data_df = pd.DataFrame(polygon_data)\n",
    "data_df.head()\n",
    "final_df = data_df.drop(['polygon_points'], axis=1)\n",
    "# Renaming columns\n",
    "final_df = final_df.rename(columns={'uid': 'building_uid',\n",
    "                                    'damage_type': 'labels'})\n",
    "# Convert labels to strings\n",
    "final_df['labels'] = final_df['labels'].astype(str)\n",
    "final_df.head()\n"
   ]
  },
  {
   "cell_type": "markdown",
   "id": "68e8b30d-b5f0-4122-8df9-7152918f4a63",
   "metadata": {},
   "source": [
    "### Class Imbalance "
   ]
  },
  {
   "cell_type": "code",
   "execution_count": 6,
   "id": "4ff75a22-fcec-4bec-a658-5b04363771fe",
   "metadata": {},
   "outputs": [
    {
     "data": {
      "text/plain": [
       "labels\n",
       "0    34846\n",
       "1    14550\n",
       "2    13330\n",
       "3     3359\n",
       "Name: count, dtype: int64"
      ]
     },
     "execution_count": 6,
     "metadata": {},
     "output_type": "execute_result"
    }
   ],
   "source": [
    "final_df['labels'].value_counts()"
   ]
  },
  {
   "cell_type": "code",
   "execution_count": 7,
   "id": "b776bfeb-27d0-47d1-9b09-b0ced1a289e5",
   "metadata": {},
   "outputs": [
    {
     "data": {
      "text/plain": [
       "labels\n",
       "2    3359\n",
       "3    3359\n",
       "1    3359\n",
       "0    3359\n",
       "Name: count, dtype: int64"
      ]
     },
     "execution_count": 7,
     "metadata": {},
     "output_type": "execute_result"
    }
   ],
   "source": [
    "from sklearn.utils import resample\n",
    "\n",
    "# Assuming 'df' has columns 'images' (file paths or data) and 'labels' (target class)\n",
    "\n",
    "# Separate the majority and minority classes\n",
    "min_class_size = final_df['labels'].value_counts().min()\n",
    "balanced_df = []\n",
    "\n",
    "# Iterate over each class and undersample the majority classes\n",
    "for label in final_df['labels'].unique():\n",
    "    class_subset = final_df[final_df['labels'] == label]\n",
    "    undersampled_subset = resample(class_subset, \n",
    "                                   replace=False,     # No replacement\n",
    "                                   n_samples=min_class_size,  # Match minority class size\n",
    "                                   random_state=42)  # Reproducibility\n",
    "    balanced_df.append(undersampled_subset)\n",
    "\n",
    "# Combine all classes back into a single DataFrame\n",
    "balanced_df = pd.concat(balanced_df)\n",
    "\n",
    "balanced_df = balanced_df.sample(frac=1, random_state=42).reset_index(drop=True)\n",
    "balanced_df['labels'].value_counts()"
   ]
  },
  {
   "cell_type": "code",
   "execution_count": 8,
   "id": "8d2d1a18-2d8b-48d7-ad12-ab9444b67b96",
   "metadata": {},
   "outputs": [
    {
     "data": {
      "text/plain": [
       "(13436, 2)"
      ]
     },
     "execution_count": 8,
     "metadata": {},
     "output_type": "execute_result"
    }
   ],
   "source": [
    "balanced_df.shape"
   ]
  },
  {
   "cell_type": "code",
   "execution_count": 9,
   "id": "93f1f16e-a676-4ec4-981c-dcd2f83814c1",
   "metadata": {},
   "outputs": [
    {
     "name": "stdout",
     "output_type": "stream",
     "text": [
      "(10748, 2)\n",
      "(2688, 2)\n"
     ]
    }
   ],
   "source": [
    "train_df, valid_df = classification_split_data(balanced_df)"
   ]
  },
  {
   "cell_type": "code",
   "execution_count": 13,
   "id": "8dc16fec-d7c5-4034-a187-76b8eed5d2a6",
   "metadata": {},
   "outputs": [
    {
     "name": "stdout",
     "output_type": "stream",
     "text": [
      "Epoch 1/50\n",
      "61/61 [==============================] - 337s 5s/step - loss: 0.1408 - accuracy: 0.9821 - val_loss: 0.0191 - val_accuracy: 0.9926\n",
      "Epoch 2/50\n",
      "61/61 [==============================] - 364s 6s/step - loss: 0.0128 - accuracy: 0.9948 - val_loss: 0.0090 - val_accuracy: 0.9963\n",
      "Epoch 3/50\n",
      "61/61 [==============================] - 435s 7s/step - loss: 0.0078 - accuracy: 0.9968 - val_loss: 0.0066 - val_accuracy: 0.9972\n",
      "Epoch 4/50\n",
      "61/61 [==============================] - 389s 6s/step - loss: 0.0058 - accuracy: 0.9976 - val_loss: 0.0049 - val_accuracy: 0.9980\n",
      "Epoch 5/50\n",
      "61/61 [==============================] - 408s 7s/step - loss: 0.0045 - accuracy: 0.9982 - val_loss: 0.0042 - val_accuracy: 0.9982\n",
      "Epoch 6/50\n",
      "61/61 [==============================] - 425s 7s/step - loss: 0.0037 - accuracy: 0.9985 - val_loss: 0.0031 - val_accuracy: 0.9987\n",
      "Epoch 7/50\n",
      "61/61 [==============================] - 407s 7s/step - loss: 0.0030 - accuracy: 0.9988 - val_loss: 0.0035 - val_accuracy: 0.9985\n",
      "Epoch 8/50\n",
      "61/61 [==============================] - 430s 7s/step - loss: 0.0025 - accuracy: 0.9990 - val_loss: 0.0021 - val_accuracy: 0.9991\n",
      "Epoch 9/50\n",
      "61/61 [==============================] - 414s 7s/step - loss: 0.0019 - accuracy: 0.9993 - val_loss: 0.0016 - val_accuracy: 0.9994\n",
      "Epoch 10/50\n",
      "61/61 [==============================] - 419s 7s/step - loss: 0.0015 - accuracy: 0.9995 - val_loss: 0.0012 - val_accuracy: 0.9996\n",
      "Epoch 11/50\n",
      "61/61 [==============================] - 431s 7s/step - loss: 0.0011 - accuracy: 0.9996 - val_loss: 0.0012 - val_accuracy: 0.9996\n",
      "Epoch 12/50\n",
      "61/61 [==============================] - 444s 7s/step - loss: 9.2506e-04 - accuracy: 0.9997 - val_loss: 9.2389e-04 - val_accuracy: 0.9996\n",
      "Epoch 13/50\n",
      "61/61 [==============================] - 412s 7s/step - loss: 7.8554e-04 - accuracy: 0.9997 - val_loss: 5.7201e-04 - val_accuracy: 0.9998\n",
      "Epoch 14/50\n",
      "61/61 [==============================] - 444s 7s/step - loss: 5.7045e-04 - accuracy: 0.9998 - val_loss: 4.5838e-04 - val_accuracy: 0.9998\n",
      "Epoch 15/50\n",
      "61/61 [==============================] - 411s 7s/step - loss: 4.5416e-04 - accuracy: 0.9998 - val_loss: 3.7790e-04 - val_accuracy: 0.9999\n",
      "Epoch 16/50\n",
      "61/61 [==============================] - 406s 7s/step - loss: 3.7080e-04 - accuracy: 0.9999 - val_loss: 3.1345e-04 - val_accuracy: 0.9999\n",
      "Epoch 17/50\n",
      "61/61 [==============================] - 404s 7s/step - loss: 3.0257e-04 - accuracy: 0.9999 - val_loss: 2.5825e-04 - val_accuracy: 0.9999\n",
      "Epoch 18/50\n",
      "61/61 [==============================] - 391s 6s/step - loss: 2.7975e-04 - accuracy: 0.9999 - val_loss: 2.6317e-04 - val_accuracy: 0.9999\n",
      "Epoch 19/50\n",
      "61/61 [==============================] - 392s 6s/step - loss: 2.0391e-04 - accuracy: 0.9999 - val_loss: 1.6514e-04 - val_accuracy: 0.9999\n",
      "Epoch 20/50\n",
      "61/61 [==============================] - 464s 8s/step - loss: 1.5780e-04 - accuracy: 0.9999 - val_loss: 1.2904e-04 - val_accuracy: 1.0000\n",
      "Epoch 21/50\n",
      "61/61 [==============================] - 418s 7s/step - loss: 1.2365e-04 - accuracy: 1.0000 - val_loss: 1.0454e-04 - val_accuracy: 1.0000\n",
      "Epoch 22/50\n",
      "61/61 [==============================] - 410s 7s/step - loss: 9.9293e-05 - accuracy: 1.0000 - val_loss: 8.5754e-05 - val_accuracy: 1.0000\n",
      "Epoch 23/50\n",
      "61/61 [==============================] - 409s 7s/step - loss: 8.2918e-05 - accuracy: 1.0000 - val_loss: 7.4593e-05 - val_accuracy: 1.0000\n",
      "Epoch 24/50\n",
      "61/61 [==============================] - 381s 6s/step - loss: 6.7696e-05 - accuracy: 1.0000 - val_loss: 6.2796e-05 - val_accuracy: 1.0000\n",
      "Epoch 25/50\n",
      "61/61 [==============================] - 383s 6s/step - loss: 5.6492e-05 - accuracy: 1.0000 - val_loss: 5.1567e-05 - val_accuracy: 1.0000\n",
      "Epoch 26/50\n",
      "20/61 [========>.....................] - ETA: 3:56 - loss: 5.0694e-05 - accuracy: 1.0000"
     ]
    },
    {
     "ename": "KeyboardInterrupt",
     "evalue": "",
     "output_type": "error",
     "traceback": [
      "\u001b[1;31m---------------------------------------------------------------------------\u001b[0m",
      "\u001b[1;31mKeyboardInterrupt\u001b[0m                         Traceback (most recent call last)",
      "Cell \u001b[1;32mIn[13], line 2\u001b[0m\n\u001b[0;32m      1\u001b[0m \u001b[38;5;66;03m#ONLY IF TRAINING IS NEEDED!\u001b[39;00m\n\u001b[1;32m----> 2\u001b[0m train_FCN_model();\n\u001b[0;32m      3\u001b[0m train_unet_model()\n",
      "File \u001b[1;32m~\\AppData\\Local\\Temp\\ipykernel_27196\\1635856833.py:17\u001b[0m, in \u001b[0;36mtrain_FCN_model\u001b[1;34m(batch_size, epochs)\u001b[0m\n\u001b[0;32m     14\u001b[0m     \u001b[38;5;66;03m# Training the model \u001b[39;00m\n\u001b[0;32m     15\u001b[0m \u001b[38;5;28;01mwith\u001b[39;00m tf\u001b[38;5;241m.\u001b[39mdevice(\u001b[38;5;124m'\u001b[39m\u001b[38;5;124m/gpu:0\u001b[39m\u001b[38;5;124m'\u001b[39m):\n\u001b[0;32m     16\u001b[0m     \u001b[38;5;66;03m# fcn_model.summmary()\u001b[39;00m\n\u001b[1;32m---> 17\u001b[0m     history \u001b[38;5;241m=\u001b[39m fcn_model\u001b[38;5;241m.\u001b[39mfit(X_train, y_train, \n\u001b[0;32m     18\u001b[0m                         validation_data\u001b[38;5;241m=\u001b[39m(X_valid, y_valid),\n\u001b[0;32m     19\u001b[0m                         epochs\u001b[38;5;241m=\u001b[39mepochs,\n\u001b[0;32m     20\u001b[0m                         batch_size\u001b[38;5;241m=\u001b[39mbatch_size)\n\u001b[0;32m     22\u001b[0m     fcn_model\u001b[38;5;241m.\u001b[39msave(\u001b[38;5;124m'\u001b[39m\u001b[38;5;124mmodel/FCN/FCN_model.keras\u001b[39m\u001b[38;5;124m'\u001b[39m)\n",
      "File \u001b[1;32m~\\AppData\\Local\\anaconda3\\Lib\\site-packages\\keras\\src\\utils\\traceback_utils.py:65\u001b[0m, in \u001b[0;36mfilter_traceback.<locals>.error_handler\u001b[1;34m(*args, **kwargs)\u001b[0m\n\u001b[0;32m     63\u001b[0m filtered_tb \u001b[38;5;241m=\u001b[39m \u001b[38;5;28;01mNone\u001b[39;00m\n\u001b[0;32m     64\u001b[0m \u001b[38;5;28;01mtry\u001b[39;00m:\n\u001b[1;32m---> 65\u001b[0m     \u001b[38;5;28;01mreturn\u001b[39;00m fn(\u001b[38;5;241m*\u001b[39margs, \u001b[38;5;241m*\u001b[39m\u001b[38;5;241m*\u001b[39mkwargs)\n\u001b[0;32m     66\u001b[0m \u001b[38;5;28;01mexcept\u001b[39;00m \u001b[38;5;167;01mException\u001b[39;00m \u001b[38;5;28;01mas\u001b[39;00m e:\n\u001b[0;32m     67\u001b[0m     filtered_tb \u001b[38;5;241m=\u001b[39m _process_traceback_frames(e\u001b[38;5;241m.\u001b[39m__traceback__)\n",
      "File \u001b[1;32m~\\AppData\\Local\\anaconda3\\Lib\\site-packages\\keras\\src\\engine\\training.py:1742\u001b[0m, in \u001b[0;36mModel.fit\u001b[1;34m(self, x, y, batch_size, epochs, verbose, callbacks, validation_split, validation_data, shuffle, class_weight, sample_weight, initial_epoch, steps_per_epoch, validation_steps, validation_batch_size, validation_freq, max_queue_size, workers, use_multiprocessing)\u001b[0m\n\u001b[0;32m   1734\u001b[0m \u001b[38;5;28;01mwith\u001b[39;00m tf\u001b[38;5;241m.\u001b[39mprofiler\u001b[38;5;241m.\u001b[39mexperimental\u001b[38;5;241m.\u001b[39mTrace(\n\u001b[0;32m   1735\u001b[0m     \u001b[38;5;124m\"\u001b[39m\u001b[38;5;124mtrain\u001b[39m\u001b[38;5;124m\"\u001b[39m,\n\u001b[0;32m   1736\u001b[0m     epoch_num\u001b[38;5;241m=\u001b[39mepoch,\n\u001b[1;32m   (...)\u001b[0m\n\u001b[0;32m   1739\u001b[0m     _r\u001b[38;5;241m=\u001b[39m\u001b[38;5;241m1\u001b[39m,\n\u001b[0;32m   1740\u001b[0m ):\n\u001b[0;32m   1741\u001b[0m     callbacks\u001b[38;5;241m.\u001b[39mon_train_batch_begin(step)\n\u001b[1;32m-> 1742\u001b[0m     tmp_logs \u001b[38;5;241m=\u001b[39m \u001b[38;5;28mself\u001b[39m\u001b[38;5;241m.\u001b[39mtrain_function(iterator)\n\u001b[0;32m   1743\u001b[0m     \u001b[38;5;28;01mif\u001b[39;00m data_handler\u001b[38;5;241m.\u001b[39mshould_sync:\n\u001b[0;32m   1744\u001b[0m         context\u001b[38;5;241m.\u001b[39masync_wait()\n",
      "File \u001b[1;32m~\\AppData\\Local\\anaconda3\\Lib\\site-packages\\tensorflow\\python\\util\\traceback_utils.py:150\u001b[0m, in \u001b[0;36mfilter_traceback.<locals>.error_handler\u001b[1;34m(*args, **kwargs)\u001b[0m\n\u001b[0;32m    148\u001b[0m filtered_tb \u001b[38;5;241m=\u001b[39m \u001b[38;5;28;01mNone\u001b[39;00m\n\u001b[0;32m    149\u001b[0m \u001b[38;5;28;01mtry\u001b[39;00m:\n\u001b[1;32m--> 150\u001b[0m   \u001b[38;5;28;01mreturn\u001b[39;00m fn(\u001b[38;5;241m*\u001b[39margs, \u001b[38;5;241m*\u001b[39m\u001b[38;5;241m*\u001b[39mkwargs)\n\u001b[0;32m    151\u001b[0m \u001b[38;5;28;01mexcept\u001b[39;00m \u001b[38;5;167;01mException\u001b[39;00m \u001b[38;5;28;01mas\u001b[39;00m e:\n\u001b[0;32m    152\u001b[0m   filtered_tb \u001b[38;5;241m=\u001b[39m _process_traceback_frames(e\u001b[38;5;241m.\u001b[39m__traceback__)\n",
      "File \u001b[1;32m~\\AppData\\Local\\anaconda3\\Lib\\site-packages\\tensorflow\\python\\eager\\polymorphic_function\\polymorphic_function.py:825\u001b[0m, in \u001b[0;36mFunction.__call__\u001b[1;34m(self, *args, **kwds)\u001b[0m\n\u001b[0;32m    822\u001b[0m compiler \u001b[38;5;241m=\u001b[39m \u001b[38;5;124m\"\u001b[39m\u001b[38;5;124mxla\u001b[39m\u001b[38;5;124m\"\u001b[39m \u001b[38;5;28;01mif\u001b[39;00m \u001b[38;5;28mself\u001b[39m\u001b[38;5;241m.\u001b[39m_jit_compile \u001b[38;5;28;01melse\u001b[39;00m \u001b[38;5;124m\"\u001b[39m\u001b[38;5;124mnonXla\u001b[39m\u001b[38;5;124m\"\u001b[39m\n\u001b[0;32m    824\u001b[0m \u001b[38;5;28;01mwith\u001b[39;00m OptionalXlaContext(\u001b[38;5;28mself\u001b[39m\u001b[38;5;241m.\u001b[39m_jit_compile):\n\u001b[1;32m--> 825\u001b[0m   result \u001b[38;5;241m=\u001b[39m \u001b[38;5;28mself\u001b[39m\u001b[38;5;241m.\u001b[39m_call(\u001b[38;5;241m*\u001b[39margs, \u001b[38;5;241m*\u001b[39m\u001b[38;5;241m*\u001b[39mkwds)\n\u001b[0;32m    827\u001b[0m new_tracing_count \u001b[38;5;241m=\u001b[39m \u001b[38;5;28mself\u001b[39m\u001b[38;5;241m.\u001b[39mexperimental_get_tracing_count()\n\u001b[0;32m    828\u001b[0m without_tracing \u001b[38;5;241m=\u001b[39m (tracing_count \u001b[38;5;241m==\u001b[39m new_tracing_count)\n",
      "File \u001b[1;32m~\\AppData\\Local\\anaconda3\\Lib\\site-packages\\tensorflow\\python\\eager\\polymorphic_function\\polymorphic_function.py:857\u001b[0m, in \u001b[0;36mFunction._call\u001b[1;34m(self, *args, **kwds)\u001b[0m\n\u001b[0;32m    854\u001b[0m   \u001b[38;5;28mself\u001b[39m\u001b[38;5;241m.\u001b[39m_lock\u001b[38;5;241m.\u001b[39mrelease()\n\u001b[0;32m    855\u001b[0m   \u001b[38;5;66;03m# In this case we have created variables on the first call, so we run the\u001b[39;00m\n\u001b[0;32m    856\u001b[0m   \u001b[38;5;66;03m# defunned version which is guaranteed to never create variables.\u001b[39;00m\n\u001b[1;32m--> 857\u001b[0m   \u001b[38;5;28;01mreturn\u001b[39;00m \u001b[38;5;28mself\u001b[39m\u001b[38;5;241m.\u001b[39m_no_variable_creation_fn(\u001b[38;5;241m*\u001b[39margs, \u001b[38;5;241m*\u001b[39m\u001b[38;5;241m*\u001b[39mkwds)  \u001b[38;5;66;03m# pylint: disable=not-callable\u001b[39;00m\n\u001b[0;32m    858\u001b[0m \u001b[38;5;28;01melif\u001b[39;00m \u001b[38;5;28mself\u001b[39m\u001b[38;5;241m.\u001b[39m_variable_creation_fn \u001b[38;5;129;01mis\u001b[39;00m \u001b[38;5;129;01mnot\u001b[39;00m \u001b[38;5;28;01mNone\u001b[39;00m:\n\u001b[0;32m    859\u001b[0m   \u001b[38;5;66;03m# Release the lock early so that multiple threads can perform the call\u001b[39;00m\n\u001b[0;32m    860\u001b[0m   \u001b[38;5;66;03m# in parallel.\u001b[39;00m\n\u001b[0;32m    861\u001b[0m   \u001b[38;5;28mself\u001b[39m\u001b[38;5;241m.\u001b[39m_lock\u001b[38;5;241m.\u001b[39mrelease()\n",
      "File \u001b[1;32m~\\AppData\\Local\\anaconda3\\Lib\\site-packages\\tensorflow\\python\\eager\\polymorphic_function\\tracing_compiler.py:148\u001b[0m, in \u001b[0;36mTracingCompiler.__call__\u001b[1;34m(self, *args, **kwargs)\u001b[0m\n\u001b[0;32m    145\u001b[0m \u001b[38;5;28;01mwith\u001b[39;00m \u001b[38;5;28mself\u001b[39m\u001b[38;5;241m.\u001b[39m_lock:\n\u001b[0;32m    146\u001b[0m   (concrete_function,\n\u001b[0;32m    147\u001b[0m    filtered_flat_args) \u001b[38;5;241m=\u001b[39m \u001b[38;5;28mself\u001b[39m\u001b[38;5;241m.\u001b[39m_maybe_define_function(args, kwargs)\n\u001b[1;32m--> 148\u001b[0m \u001b[38;5;28;01mreturn\u001b[39;00m concrete_function\u001b[38;5;241m.\u001b[39m_call_flat(\n\u001b[0;32m    149\u001b[0m     filtered_flat_args, captured_inputs\u001b[38;5;241m=\u001b[39mconcrete_function\u001b[38;5;241m.\u001b[39mcaptured_inputs)\n",
      "File \u001b[1;32m~\\AppData\\Local\\anaconda3\\Lib\\site-packages\\tensorflow\\python\\eager\\polymorphic_function\\monomorphic_function.py:1349\u001b[0m, in \u001b[0;36mConcreteFunction._call_flat\u001b[1;34m(self, args, captured_inputs)\u001b[0m\n\u001b[0;32m   1345\u001b[0m possible_gradient_type \u001b[38;5;241m=\u001b[39m gradients_util\u001b[38;5;241m.\u001b[39mPossibleTapeGradientTypes(args)\n\u001b[0;32m   1346\u001b[0m \u001b[38;5;28;01mif\u001b[39;00m (possible_gradient_type \u001b[38;5;241m==\u001b[39m gradients_util\u001b[38;5;241m.\u001b[39mPOSSIBLE_GRADIENT_TYPES_NONE\n\u001b[0;32m   1347\u001b[0m     \u001b[38;5;129;01mand\u001b[39;00m executing_eagerly):\n\u001b[0;32m   1348\u001b[0m   \u001b[38;5;66;03m# No tape is watching; skip to running the function.\u001b[39;00m\n\u001b[1;32m-> 1349\u001b[0m   \u001b[38;5;28;01mreturn\u001b[39;00m \u001b[38;5;28mself\u001b[39m\u001b[38;5;241m.\u001b[39m_build_call_outputs(\u001b[38;5;28mself\u001b[39m\u001b[38;5;241m.\u001b[39m_inference_function(\u001b[38;5;241m*\u001b[39margs))\n\u001b[0;32m   1350\u001b[0m forward_backward \u001b[38;5;241m=\u001b[39m \u001b[38;5;28mself\u001b[39m\u001b[38;5;241m.\u001b[39m_select_forward_and_backward_functions(\n\u001b[0;32m   1351\u001b[0m     args,\n\u001b[0;32m   1352\u001b[0m     possible_gradient_type,\n\u001b[0;32m   1353\u001b[0m     executing_eagerly)\n\u001b[0;32m   1354\u001b[0m forward_function, args_with_tangents \u001b[38;5;241m=\u001b[39m forward_backward\u001b[38;5;241m.\u001b[39mforward()\n",
      "File \u001b[1;32m~\\AppData\\Local\\anaconda3\\Lib\\site-packages\\tensorflow\\python\\eager\\polymorphic_function\\atomic_function.py:196\u001b[0m, in \u001b[0;36mAtomicFunction.__call__\u001b[1;34m(self, *args)\u001b[0m\n\u001b[0;32m    194\u001b[0m \u001b[38;5;28;01mwith\u001b[39;00m record\u001b[38;5;241m.\u001b[39mstop_recording():\n\u001b[0;32m    195\u001b[0m   \u001b[38;5;28;01mif\u001b[39;00m \u001b[38;5;28mself\u001b[39m\u001b[38;5;241m.\u001b[39m_bound_context\u001b[38;5;241m.\u001b[39mexecuting_eagerly():\n\u001b[1;32m--> 196\u001b[0m     outputs \u001b[38;5;241m=\u001b[39m \u001b[38;5;28mself\u001b[39m\u001b[38;5;241m.\u001b[39m_bound_context\u001b[38;5;241m.\u001b[39mcall_function(\n\u001b[0;32m    197\u001b[0m         \u001b[38;5;28mself\u001b[39m\u001b[38;5;241m.\u001b[39mname,\n\u001b[0;32m    198\u001b[0m         \u001b[38;5;28mlist\u001b[39m(args),\n\u001b[0;32m    199\u001b[0m         \u001b[38;5;28mlen\u001b[39m(\u001b[38;5;28mself\u001b[39m\u001b[38;5;241m.\u001b[39mfunction_type\u001b[38;5;241m.\u001b[39mflat_outputs),\n\u001b[0;32m    200\u001b[0m     )\n\u001b[0;32m    201\u001b[0m   \u001b[38;5;28;01melse\u001b[39;00m:\n\u001b[0;32m    202\u001b[0m     outputs \u001b[38;5;241m=\u001b[39m make_call_op_in_graph(\u001b[38;5;28mself\u001b[39m, \u001b[38;5;28mlist\u001b[39m(args))\n",
      "File \u001b[1;32m~\\AppData\\Local\\anaconda3\\Lib\\site-packages\\tensorflow\\python\\eager\\context.py:1457\u001b[0m, in \u001b[0;36mContext.call_function\u001b[1;34m(self, name, tensor_inputs, num_outputs)\u001b[0m\n\u001b[0;32m   1455\u001b[0m cancellation_context \u001b[38;5;241m=\u001b[39m cancellation\u001b[38;5;241m.\u001b[39mcontext()\n\u001b[0;32m   1456\u001b[0m \u001b[38;5;28;01mif\u001b[39;00m cancellation_context \u001b[38;5;129;01mis\u001b[39;00m \u001b[38;5;28;01mNone\u001b[39;00m:\n\u001b[1;32m-> 1457\u001b[0m   outputs \u001b[38;5;241m=\u001b[39m execute\u001b[38;5;241m.\u001b[39mexecute(\n\u001b[0;32m   1458\u001b[0m       name\u001b[38;5;241m.\u001b[39mdecode(\u001b[38;5;124m\"\u001b[39m\u001b[38;5;124mutf-8\u001b[39m\u001b[38;5;124m\"\u001b[39m),\n\u001b[0;32m   1459\u001b[0m       num_outputs\u001b[38;5;241m=\u001b[39mnum_outputs,\n\u001b[0;32m   1460\u001b[0m       inputs\u001b[38;5;241m=\u001b[39mtensor_inputs,\n\u001b[0;32m   1461\u001b[0m       attrs\u001b[38;5;241m=\u001b[39mattrs,\n\u001b[0;32m   1462\u001b[0m       ctx\u001b[38;5;241m=\u001b[39m\u001b[38;5;28mself\u001b[39m,\n\u001b[0;32m   1463\u001b[0m   )\n\u001b[0;32m   1464\u001b[0m \u001b[38;5;28;01melse\u001b[39;00m:\n\u001b[0;32m   1465\u001b[0m   outputs \u001b[38;5;241m=\u001b[39m execute\u001b[38;5;241m.\u001b[39mexecute_with_cancellation(\n\u001b[0;32m   1466\u001b[0m       name\u001b[38;5;241m.\u001b[39mdecode(\u001b[38;5;124m\"\u001b[39m\u001b[38;5;124mutf-8\u001b[39m\u001b[38;5;124m\"\u001b[39m),\n\u001b[0;32m   1467\u001b[0m       num_outputs\u001b[38;5;241m=\u001b[39mnum_outputs,\n\u001b[1;32m   (...)\u001b[0m\n\u001b[0;32m   1471\u001b[0m       cancellation_manager\u001b[38;5;241m=\u001b[39mcancellation_context,\n\u001b[0;32m   1472\u001b[0m   )\n",
      "File \u001b[1;32m~\\AppData\\Local\\anaconda3\\Lib\\site-packages\\tensorflow\\python\\eager\\execute.py:53\u001b[0m, in \u001b[0;36mquick_execute\u001b[1;34m(op_name, num_outputs, inputs, attrs, ctx, name)\u001b[0m\n\u001b[0;32m     51\u001b[0m \u001b[38;5;28;01mtry\u001b[39;00m:\n\u001b[0;32m     52\u001b[0m   ctx\u001b[38;5;241m.\u001b[39mensure_initialized()\n\u001b[1;32m---> 53\u001b[0m   tensors \u001b[38;5;241m=\u001b[39m pywrap_tfe\u001b[38;5;241m.\u001b[39mTFE_Py_Execute(ctx\u001b[38;5;241m.\u001b[39m_handle, device_name, op_name,\n\u001b[0;32m     54\u001b[0m                                       inputs, attrs, num_outputs)\n\u001b[0;32m     55\u001b[0m \u001b[38;5;28;01mexcept\u001b[39;00m core\u001b[38;5;241m.\u001b[39m_NotOkStatusException \u001b[38;5;28;01mas\u001b[39;00m e:\n\u001b[0;32m     56\u001b[0m   \u001b[38;5;28;01mif\u001b[39;00m name \u001b[38;5;129;01mis\u001b[39;00m \u001b[38;5;129;01mnot\u001b[39;00m \u001b[38;5;28;01mNone\u001b[39;00m:\n",
      "\u001b[1;31mKeyboardInterrupt\u001b[0m: "
     ]
    }
   ],
   "source": [
    "#ONLY IF TRAINING IS NEEDED!\n",
    "# train_FCN_model();\n",
    "# train_unet_model();"
   ]
  },
  {
   "cell_type": "code",
   "execution_count": 11,
   "id": "3c308c8f-39ec-4df3-a4af-5ce898c5bad7",
   "metadata": {},
   "outputs": [
    {
     "name": "stdout",
     "output_type": "stream",
     "text": [
      "Found 0 validated image filenames belonging to 0 classes.\n",
      "Found 0 validated image filenames belonging to 0 classes.\n"
     ]
    }
   ],
   "source": [
    "train_generator, val_generator = data_gen(target_size=(224,224), batch_size=32) # Mobilenet is trained on 224,224 images"
   ]
  },
  {
   "cell_type": "code",
   "execution_count": null,
   "id": "40d27c71-8aac-4f4d-882c-39223f3973ab",
   "metadata": {},
   "outputs": [],
   "source": [
    "# train_ResNet50_model(train_generator, val_generator, batch_size=32);\n",
    "# train_MobileNet_model(train_generator, val_generator);\n",
    "# train_CNN_model(train_generator, val_generator);"
   ]
  },
  {
   "cell_type": "markdown",
   "id": "825236f5-0cc0-4d52-9cad-9f82056e56d6",
   "metadata": {},
   "source": [
    "# FCN Model"
   ]
  },
  {
   "cell_type": "code",
   "execution_count": 13,
   "id": "9fae8991-667e-45d4-844f-fa244454b01f",
   "metadata": {},
   "outputs": [
    {
     "name": "stdout",
     "output_type": "stream",
     "text": [
      "Model: \"model_1\"\n",
      "_________________________________________________________________\n",
      " Layer (type)                Output Shape              Param #   \n",
      "=================================================================\n",
      " input_7 (InputLayer)        [(None, 256, 256, 3)]     0         \n",
      "                                                                 \n",
      " conv2d_31 (Conv2D)          (None, 256, 256, 64)      1792      \n",
      "                                                                 \n",
      " conv2d_32 (Conv2D)          (None, 256, 256, 64)      36928     \n",
      "                                                                 \n",
      " conv2d_33 (Conv2D)          (None, 128, 128, 128)     73856     \n",
      "                                                                 \n",
      " conv2d_34 (Conv2D)          (None, 128, 128, 128)     147584    \n",
      "                                                                 \n",
      " conv2d_transpose_6 (Conv2D  (None, 256, 256, 64)      73792     \n",
      " Transpose)                                                      \n",
      "                                                                 \n",
      " conv2d_35 (Conv2D)          (None, 256, 256, 64)      36928     \n",
      "                                                                 \n",
      " conv2d_36 (Conv2D)          (None, 256, 256, 1)       65        \n",
      "                                                                 \n",
      "=================================================================\n",
      "Total params: 370945 (1.42 MB)\n",
      "Trainable params: 370945 (1.42 MB)\n",
      "Non-trainable params: 0 (0.00 Byte)\n",
      "_________________________________________________________________\n",
      "8/8 [==============================] - 18s 2s/step\n",
      "8/8 [==============================] - 19s 2s/step - loss: 0.0323 - accuracy: 0.9846\n",
      "Validation Loss: 0.0323\n",
      "Validation Accuracy: 0.9846\n"
     ]
    }
   ],
   "source": [
    "fcn_model = tf.keras.models.load_model('model/FCN/FCN_model.keras')\n",
    "fcn_model.summary()\n",
    "# Making predictions\n",
    "fcn_model_mask = fcn_model.predict(X_valid)\n",
    "# Model Evaluation\n",
    "loss, accuracy = fcn_model.evaluate(X_valid, y_valid)\n",
    "print(f\"Validation Loss: {loss:.4f}\")\n",
    "print(f\"Validation Accuracy: {accuracy:.4f}\")"
   ]
  },
  {
   "cell_type": "markdown",
   "id": "7c837ed3-deb7-4211-8c9c-84ec0954c1f2",
   "metadata": {},
   "source": [
    "# Unet Model"
   ]
  },
  {
   "cell_type": "code",
   "execution_count": 14,
   "id": "9c6dbd7e-b203-4f5f-8f4e-d7970405564f",
   "metadata": {},
   "outputs": [
    {
     "name": "stdout",
     "output_type": "stream",
     "text": [
      "Model: \"U-Net\"\n",
      "__________________________________________________________________________________________________\n",
      " Layer (type)                Output Shape                 Param #   Connected to                  \n",
      "==================================================================================================\n",
      " input_5 (InputLayer)        [(None, 256, 256, 3)]        0         []                            \n",
      "                                                                                                  \n",
      " conv2d_6 (Conv2D)           (None, 256, 256, 64)         1792      ['input_5[0][0]']             \n",
      "                                                                                                  \n",
      " batch_normalization_6 (Bat  (None, 256, 256, 64)         256       ['conv2d_6[0][0]']            \n",
      " chNormalization)                                                                                 \n",
      "                                                                                                  \n",
      " activation_6 (Activation)   (None, 256, 256, 64)         0         ['batch_normalization_6[0][0]'\n",
      "                                                                    ]                             \n",
      "                                                                                                  \n",
      " conv2d_7 (Conv2D)           (None, 256, 256, 64)         36928     ['activation_6[0][0]']        \n",
      "                                                                                                  \n",
      " batch_normalization_7 (Bat  (None, 256, 256, 64)         256       ['conv2d_7[0][0]']            \n",
      " chNormalization)                                                                                 \n",
      "                                                                                                  \n",
      " activation_7 (Activation)   (None, 256, 256, 64)         0         ['batch_normalization_7[0][0]'\n",
      "                                                                    ]                             \n",
      "                                                                                                  \n",
      " max_pooling2d_1 (MaxPoolin  (None, 128, 128, 64)         0         ['activation_7[0][0]']        \n",
      " g2D)                                                                                             \n",
      "                                                                                                  \n",
      " conv2d_8 (Conv2D)           (None, 128, 128, 128)        73856     ['max_pooling2d_1[0][0]']     \n",
      "                                                                                                  \n",
      " batch_normalization_8 (Bat  (None, 128, 128, 128)        512       ['conv2d_8[0][0]']            \n",
      " chNormalization)                                                                                 \n",
      "                                                                                                  \n",
      " activation_8 (Activation)   (None, 128, 128, 128)        0         ['batch_normalization_8[0][0]'\n",
      "                                                                    ]                             \n",
      "                                                                                                  \n",
      " conv2d_9 (Conv2D)           (None, 128, 128, 128)        147584    ['activation_8[0][0]']        \n",
      "                                                                                                  \n",
      " batch_normalization_9 (Bat  (None, 128, 128, 128)        512       ['conv2d_9[0][0]']            \n",
      " chNormalization)                                                                                 \n",
      "                                                                                                  \n",
      " activation_9 (Activation)   (None, 128, 128, 128)        0         ['batch_normalization_9[0][0]'\n",
      "                                                                    ]                             \n",
      "                                                                                                  \n",
      " max_pooling2d_2 (MaxPoolin  (None, 64, 64, 128)          0         ['activation_9[0][0]']        \n",
      " g2D)                                                                                             \n",
      "                                                                                                  \n",
      " conv2d_10 (Conv2D)          (None, 64, 64, 256)          295168    ['max_pooling2d_2[0][0]']     \n",
      "                                                                                                  \n",
      " batch_normalization_10 (Ba  (None, 64, 64, 256)          1024      ['conv2d_10[0][0]']           \n",
      " tchNormalization)                                                                                \n",
      "                                                                                                  \n",
      " activation_10 (Activation)  (None, 64, 64, 256)          0         ['batch_normalization_10[0][0]\n",
      "                                                                    ']                            \n",
      "                                                                                                  \n",
      " conv2d_11 (Conv2D)          (None, 64, 64, 256)          590080    ['activation_10[0][0]']       \n",
      "                                                                                                  \n",
      " batch_normalization_11 (Ba  (None, 64, 64, 256)          1024      ['conv2d_11[0][0]']           \n",
      " tchNormalization)                                                                                \n",
      "                                                                                                  \n",
      " activation_11 (Activation)  (None, 64, 64, 256)          0         ['batch_normalization_11[0][0]\n",
      "                                                                    ']                            \n",
      "                                                                                                  \n",
      " max_pooling2d_3 (MaxPoolin  (None, 32, 32, 256)          0         ['activation_11[0][0]']       \n",
      " g2D)                                                                                             \n",
      "                                                                                                  \n",
      " conv2d_12 (Conv2D)          (None, 32, 32, 512)          1180160   ['max_pooling2d_3[0][0]']     \n",
      "                                                                                                  \n",
      " batch_normalization_12 (Ba  (None, 32, 32, 512)          2048      ['conv2d_12[0][0]']           \n",
      " tchNormalization)                                                                                \n",
      "                                                                                                  \n",
      " activation_12 (Activation)  (None, 32, 32, 512)          0         ['batch_normalization_12[0][0]\n",
      "                                                                    ']                            \n",
      "                                                                                                  \n",
      " conv2d_13 (Conv2D)          (None, 32, 32, 512)          2359808   ['activation_12[0][0]']       \n",
      "                                                                                                  \n",
      " batch_normalization_13 (Ba  (None, 32, 32, 512)          2048      ['conv2d_13[0][0]']           \n",
      " tchNormalization)                                                                                \n",
      "                                                                                                  \n",
      " activation_13 (Activation)  (None, 32, 32, 512)          0         ['batch_normalization_13[0][0]\n",
      "                                                                    ']                            \n",
      "                                                                                                  \n",
      " max_pooling2d_4 (MaxPoolin  (None, 16, 16, 512)          0         ['activation_13[0][0]']       \n",
      " g2D)                                                                                             \n",
      "                                                                                                  \n",
      " conv2d_14 (Conv2D)          (None, 16, 16, 1024)         4719616   ['max_pooling2d_4[0][0]']     \n",
      "                                                                                                  \n",
      " batch_normalization_14 (Ba  (None, 16, 16, 1024)         4096      ['conv2d_14[0][0]']           \n",
      " tchNormalization)                                                                                \n",
      "                                                                                                  \n",
      " activation_14 (Activation)  (None, 16, 16, 1024)         0         ['batch_normalization_14[0][0]\n",
      "                                                                    ']                            \n",
      "                                                                                                  \n",
      " conv2d_15 (Conv2D)          (None, 16, 16, 1024)         9438208   ['activation_14[0][0]']       \n",
      "                                                                                                  \n",
      " batch_normalization_15 (Ba  (None, 16, 16, 1024)         4096      ['conv2d_15[0][0]']           \n",
      " tchNormalization)                                                                                \n",
      "                                                                                                  \n",
      " activation_15 (Activation)  (None, 16, 16, 1024)         0         ['batch_normalization_15[0][0]\n",
      "                                                                    ']                            \n",
      "                                                                                                  \n",
      " conv2d_transpose_1 (Conv2D  (None, 32, 32, 512)          2097664   ['activation_15[0][0]']       \n",
      " Transpose)                                                                                       \n",
      "                                                                                                  \n",
      " up_sampling2d (UpSampling2  (None, 32, 32, 512)          0         ['max_pooling2d_4[0][0]']     \n",
      " D)                                                                                               \n",
      "                                                                                                  \n",
      " concatenate_1 (Concatenate  (None, 32, 32, 1024)         0         ['conv2d_transpose_1[0][0]',  \n",
      " )                                                                   'up_sampling2d[0][0]']       \n",
      "                                                                                                  \n",
      " conv2d_16 (Conv2D)          (None, 32, 32, 512)          4719104   ['concatenate_1[0][0]']       \n",
      "                                                                                                  \n",
      " batch_normalization_16 (Ba  (None, 32, 32, 512)          2048      ['conv2d_16[0][0]']           \n",
      " tchNormalization)                                                                                \n",
      "                                                                                                  \n",
      " activation_16 (Activation)  (None, 32, 32, 512)          0         ['batch_normalization_16[0][0]\n",
      "                                                                    ']                            \n",
      "                                                                                                  \n",
      " conv2d_17 (Conv2D)          (None, 32, 32, 512)          2359808   ['activation_16[0][0]']       \n",
      "                                                                                                  \n",
      " batch_normalization_17 (Ba  (None, 32, 32, 512)          2048      ['conv2d_17[0][0]']           \n",
      " tchNormalization)                                                                                \n",
      "                                                                                                  \n",
      " activation_17 (Activation)  (None, 32, 32, 512)          0         ['batch_normalization_17[0][0]\n",
      "                                                                    ']                            \n",
      "                                                                                                  \n",
      " conv2d_transpose_2 (Conv2D  (None, 64, 64, 256)          524544    ['activation_17[0][0]']       \n",
      " Transpose)                                                                                       \n",
      "                                                                                                  \n",
      " up_sampling2d_1 (UpSamplin  (None, 64, 64, 256)          0         ['max_pooling2d_3[0][0]']     \n",
      " g2D)                                                                                             \n",
      "                                                                                                  \n",
      " concatenate_2 (Concatenate  (None, 64, 64, 512)          0         ['conv2d_transpose_2[0][0]',  \n",
      " )                                                                   'up_sampling2d_1[0][0]']     \n",
      "                                                                                                  \n",
      " conv2d_18 (Conv2D)          (None, 64, 64, 256)          1179904   ['concatenate_2[0][0]']       \n",
      "                                                                                                  \n",
      " batch_normalization_18 (Ba  (None, 64, 64, 256)          1024      ['conv2d_18[0][0]']           \n",
      " tchNormalization)                                                                                \n",
      "                                                                                                  \n",
      " activation_18 (Activation)  (None, 64, 64, 256)          0         ['batch_normalization_18[0][0]\n",
      "                                                                    ']                            \n",
      "                                                                                                  \n",
      " conv2d_19 (Conv2D)          (None, 64, 64, 256)          590080    ['activation_18[0][0]']       \n",
      "                                                                                                  \n",
      " batch_normalization_19 (Ba  (None, 64, 64, 256)          1024      ['conv2d_19[0][0]']           \n",
      " tchNormalization)                                                                                \n",
      "                                                                                                  \n",
      " activation_19 (Activation)  (None, 64, 64, 256)          0         ['batch_normalization_19[0][0]\n",
      "                                                                    ']                            \n",
      "                                                                                                  \n",
      " conv2d_transpose_3 (Conv2D  (None, 128, 128, 128)        131200    ['activation_19[0][0]']       \n",
      " Transpose)                                                                                       \n",
      "                                                                                                  \n",
      " up_sampling2d_2 (UpSamplin  (None, 128, 128, 128)        0         ['max_pooling2d_2[0][0]']     \n",
      " g2D)                                                                                             \n",
      "                                                                                                  \n",
      " concatenate_3 (Concatenate  (None, 128, 128, 256)        0         ['conv2d_transpose_3[0][0]',  \n",
      " )                                                                   'up_sampling2d_2[0][0]']     \n",
      "                                                                                                  \n",
      " conv2d_20 (Conv2D)          (None, 128, 128, 128)        295040    ['concatenate_3[0][0]']       \n",
      "                                                                                                  \n",
      " batch_normalization_20 (Ba  (None, 128, 128, 128)        512       ['conv2d_20[0][0]']           \n",
      " tchNormalization)                                                                                \n",
      "                                                                                                  \n",
      " activation_20 (Activation)  (None, 128, 128, 128)        0         ['batch_normalization_20[0][0]\n",
      "                                                                    ']                            \n",
      "                                                                                                  \n",
      " conv2d_21 (Conv2D)          (None, 128, 128, 128)        147584    ['activation_20[0][0]']       \n",
      "                                                                                                  \n",
      " batch_normalization_21 (Ba  (None, 128, 128, 128)        512       ['conv2d_21[0][0]']           \n",
      " tchNormalization)                                                                                \n",
      "                                                                                                  \n",
      " activation_21 (Activation)  (None, 128, 128, 128)        0         ['batch_normalization_21[0][0]\n",
      "                                                                    ']                            \n",
      "                                                                                                  \n",
      " conv2d_transpose_4 (Conv2D  (None, 256, 256, 64)         32832     ['activation_21[0][0]']       \n",
      " Transpose)                                                                                       \n",
      "                                                                                                  \n",
      " up_sampling2d_3 (UpSamplin  (None, 256, 256, 64)         0         ['max_pooling2d_1[0][0]']     \n",
      " g2D)                                                                                             \n",
      "                                                                                                  \n",
      " concatenate_4 (Concatenate  (None, 256, 256, 128)        0         ['conv2d_transpose_4[0][0]',  \n",
      " )                                                                   'up_sampling2d_3[0][0]']     \n",
      "                                                                                                  \n",
      " conv2d_22 (Conv2D)          (None, 256, 256, 64)         73792     ['concatenate_4[0][0]']       \n",
      "                                                                                                  \n",
      " batch_normalization_22 (Ba  (None, 256, 256, 64)         256       ['conv2d_22[0][0]']           \n",
      " tchNormalization)                                                                                \n",
      "                                                                                                  \n",
      " activation_22 (Activation)  (None, 256, 256, 64)         0         ['batch_normalization_22[0][0]\n",
      "                                                                    ']                            \n",
      "                                                                                                  \n",
      " conv2d_23 (Conv2D)          (None, 256, 256, 64)         36928     ['activation_22[0][0]']       \n",
      "                                                                                                  \n",
      " batch_normalization_23 (Ba  (None, 256, 256, 64)         256       ['conv2d_23[0][0]']           \n",
      " tchNormalization)                                                                                \n",
      "                                                                                                  \n",
      " activation_23 (Activation)  (None, 256, 256, 64)         0         ['batch_normalization_23[0][0]\n",
      "                                                                    ']                            \n",
      "                                                                                                  \n",
      " conv2d_24 (Conv2D)          (None, 256, 256, 1)          65        ['activation_23[0][0]']       \n",
      "                                                                                                  \n",
      "==================================================================================================\n",
      "Total params: 31055297 (118.47 MB)\n",
      "Trainable params: 31043521 (118.42 MB)\n",
      "Non-trainable params: 11776 (46.00 KB)\n",
      "__________________________________________________________________________________________________\n",
      "8/8 [==============================] - 93s 11s/step\n",
      "8/8 [==============================] - 87s 11s/step - loss: 0.0356 - accuracy: 0.9876\n",
      "Validation Loss: 0.0356\n",
      "Validation Accuracy: 0.9876\n"
     ]
    }
   ],
   "source": [
    "unet_model = tf.keras.models.load_model('model/Unet/Unet_model.keras')\n",
    "unet_model.summary()\n",
    "# Making predictions\n",
    "unet_model_mask = unet_model.predict(X_valid)\n",
    "# Model Evaluation\n",
    "loss, accuracy = unet_model.evaluate(X_valid, y_valid)\n",
    "print(f\"Validation Loss: {loss:.4f}\")\n",
    "print(f\"Validation Accuracy: {accuracy:.4f}\")"
   ]
  },
  {
   "cell_type": "markdown",
   "id": "7fd863fc-b9e7-4b93-9832-e64ff34dd6ef",
   "metadata": {},
   "source": [
    "# MobileNet Model"
   ]
  },
  {
   "cell_type": "code",
   "execution_count": 27,
   "id": "ae03ecd4-bb63-4c32-a56a-3731089691f2",
   "metadata": {},
   "outputs": [
    {
     "ename": "NameError",
     "evalue": "name 'test_df' is not defined",
     "output_type": "error",
     "traceback": [
      "\u001b[1;31m---------------------------------------------------------------------------\u001b[0m",
      "\u001b[1;31mNameError\u001b[0m                                 Traceback (most recent call last)",
      "Cell \u001b[1;32mIn[27], line 4\u001b[0m\n\u001b[0;32m      1\u001b[0m test_datagen \u001b[38;5;241m=\u001b[39m ImageDataGenerator(rescale\u001b[38;5;241m=\u001b[39m\u001b[38;5;241m1\u001b[39m\u001b[38;5;241m/\u001b[39m\u001b[38;5;241m255.\u001b[39m)\n\u001b[0;32m      3\u001b[0m test_generator \u001b[38;5;241m=\u001b[39m test_datagen\u001b[38;5;241m.\u001b[39mflow_from_dataframe(\n\u001b[1;32m----> 4\u001b[0m     dataframe\u001b[38;5;241m=\u001b[39mtest_df,\n\u001b[0;32m      5\u001b[0m     directory\u001b[38;5;241m=\u001b[39mcropped_dir,\n\u001b[0;32m      6\u001b[0m     x_col\u001b[38;5;241m=\u001b[39m\u001b[38;5;124m'\u001b[39m\u001b[38;5;124mbuilding_uid\u001b[39m\u001b[38;5;124m'\u001b[39m,\n\u001b[0;32m      7\u001b[0m     y_col\u001b[38;5;241m=\u001b[39m\u001b[38;5;124m'\u001b[39m\u001b[38;5;124mlabels\u001b[39m\u001b[38;5;124m'\u001b[39m,\n\u001b[0;32m      8\u001b[0m     target_size\u001b[38;5;241m=\u001b[39m(\u001b[38;5;241m224\u001b[39m, \u001b[38;5;241m224\u001b[39m),\n\u001b[0;32m      9\u001b[0m     batch_size\u001b[38;5;241m=\u001b[39m\u001b[38;5;241m32\u001b[39m,\n\u001b[0;32m     10\u001b[0m     shuffle\u001b[38;5;241m=\u001b[39m\u001b[38;5;28;01mFalse\u001b[39;00m,\n\u001b[0;32m     11\u001b[0m     seed\u001b[38;5;241m=\u001b[39m\u001b[38;5;241m123\u001b[39m,\n\u001b[0;32m     12\u001b[0m     class_mode\u001b[38;5;241m=\u001b[39m\u001b[38;5;124m\"\u001b[39m\u001b[38;5;124mcategorical\u001b[39m\u001b[38;5;124m\"\u001b[39m\n\u001b[0;32m     13\u001b[0m )\n",
      "\u001b[1;31mNameError\u001b[0m: name 'test_df' is not defined"
     ]
    }
   ],
   "source": [
    "test_datagen = ImageDataGenerator(rescale=1/255.)\n",
    "\n",
    "test_generator = test_datagen.flow_from_dataframe(\n",
    "    dataframe=test_df,\n",
    "    directory=cropped_dir,\n",
    "    x_col='building_uid',\n",
    "    y_col='labels',\n",
    "    target_size=(224, 224),\n",
    "    batch_size=32,\n",
    "    shuffle=False,\n",
    "    seed=123,\n",
    "    class_mode=\"categorical\"\n",
    ")\n"
   ]
  },
  {
   "cell_type": "code",
   "execution_count": null,
   "id": "e85e893c-9d43-4d5f-95e2-fcf905c56c8c",
   "metadata": {},
   "outputs": [],
   "source": [
    "with tf.device('/cpu:0'):\n",
    "    mobilenet_model = tf.keras.models.load_model('model/MobileNet/MobileNet_model.keras')\n",
    "    mobilenet_model.summary()"
   ]
  },
  {
   "cell_type": "code",
   "execution_count": null,
   "id": "c36675b6-d2d8-4e13-bc76-40a69384f4ca",
   "metadata": {},
   "outputs": [],
   "source": [
    "# Making predictions\n",
    "# print(test_generator)\n",
    "from keras.applications.mobilenet import preprocess_input\n",
    "from tensorflow.keras.preprocessing import image\n",
    "from tensorflow.keras.applications import imagenet_utils\n",
    "\n",
    "img_path= '../cropped_images/'\n",
    "filename = 'ffe7fa73-ecf8-48f2-9068-f690eee0a533.png'\n",
    "img = image.load_img(img_path+filename, target_size=(224, 224))\n",
    "img_array = image.img_to_array(img)\n",
    "img_array_expanded_dims = np.expand_dims(img_array, axis=0)\n",
    "\n",
    "class_indices = train_generator.class_indices\n",
    "class_names = list(class_indices.keys())\n",
    "\n",
    "processed_image= tf.keras.applications.mobilenet.preprocess_input(img_array_expanded_dims)\n",
    "# img_array_expanded_dims = np.expand_dims(test_generator[0], axis=0)\n",
    "predictions = mobilenet_model.predict(processed_image)\n",
    "output_class=class_names[np.argmax(predictions)]\n",
    "\n",
    "print(output_class)\n",
    "# results = imagenet_utils.decode_predictions(predictions)\n",
    "# print(results)\n",
    "# Model Evaluation\n",
    "# loss, accuracy = unet_model.evaluate(X_valid, y_valid)\n",
    "# print(f\"Validation Loss: {loss:.4f}\")\n",
    "# print(f\"Validation Accuracy: {accuracy:.4f}\")"
   ]
  },
  {
   "cell_type": "code",
   "execution_count": null,
   "id": "185094d9-eff3-4e27-8b50-78e221a47cca",
   "metadata": {},
   "outputs": [],
   "source": [
    "with tf.device('/cpu:0'):\n",
    "    resnet50_model = tf.keras.models.load_model('model/Resnet50/Resnet50_model.keras')\n",
    "    resnet50_model.summary()"
   ]
  },
  {
   "cell_type": "code",
   "execution_count": null,
   "id": "9ff8fc1e-a3d1-4102-9b9e-1b220241ae63",
   "metadata": {},
   "outputs": [],
   "source": [
    "from keras.applications.mobilenet import preprocess_input\n",
    "from tensorflow.keras.preprocessing import image\n",
    "from tensorflow.keras.applications import imagenet_utils\n",
    "\n",
    "img_path= '../cropped_images/'\n",
    "filename = 'fff86503-2967-4603-acd6-adf6344b65d8.png'\n",
    "img = image.load_img(img_path+filename, target_size=(224, 224))\n",
    "img_array = image.img_to_array(img)\n",
    "img_array_expanded_dims = np.expand_dims(img_array, axis=0)\n",
    "\n",
    "class_indices = train_generator.class_indices\n",
    "class_names = list(class_indices.keys())\n",
    "\n",
    "processed_image= tf.keras.applications.mobilenet.preprocess_input(img_array_expanded_dims)\n",
    "# img_array_expanded_dims = np.expand_dims(test_generator[0], axis=0)\n",
    "predictions = resnet50_model.predict(processed_image)\n",
    "output_class=class_names[np.argmax(predictions)]\n",
    "\n",
    "print(output_class)"
   ]
  },
  {
   "cell_type": "markdown",
   "id": "aed0df93-bf74-4c9b-bd6a-b943c26c1a10",
   "metadata": {},
   "source": [
    "# Building Localization Model Result and Performance"
   ]
  },
  {
   "cell_type": "code",
   "execution_count": 22,
   "id": "51293646-3fa2-4344-a36c-64c5abb8ea19",
   "metadata": {},
   "outputs": [
    {
     "name": "stdout",
     "output_type": "stream",
     "text": [
      "\n",
      "Prediction for FCN...\n",
      "8/8 [==============================] - 18s 2s/step\n",
      "Prediction  masks for U-Net...\n",
      "8/8 [==============================] - 98s 12s/step\n"
     ]
    }
   ],
   "source": [
    "import tensorflow as tf\n",
    "import numpy as np\n",
    "from sklearn.metrics import precision_score, recall_score, f1_score, jaccard_score\n",
    "from sklearn.metrics import mean_squared_error, confusion_matrix\n",
    "\n",
    "print(\"\\nPrediction for FCN...\")\n",
    "fcn_pred = fcn_model.predict(X_valid)\n",
    "print(\"Prediction for U-Net...\")\n",
    "unet_pred = unet_model.predict(X_valid)\n",
    "\n",
    "# Threshold predictions\n",
    "fcn_pred_binary = (fcn_pred > 0.5).astype(np.uint8)\n",
    "unet_pred_binary = (unet_pred > 0.5).astype(np.uint8)\n",
    "\n",
    "# Flatten arrays \n",
    "y_valid_flat = y_valid.flatten()\n",
    "fcn_pred_flat = fcn_pred_binary.flatten()\n",
    "unet_pred_flat = unet_pred_binary.flatten()\n",
    "\n",
    "# Metrics Calculation\n",
    "def calculate_metrics(y_true, y_pred, y_pred_raw):\n",
    "    precision = precision_score(y_true, y_pred)\n",
    "    recall = recall_score(y_true, y_pred)\n",
    "    f1 = f1_score(y_true, y_pred)\n",
    "    iou = jaccard_score(y_true, y_pred)\n",
    "    pixel_accuracy = np.mean(y_true == y_pred)  # Ratio of correct pixels to total pixels\n",
    "      \n",
    "    # Mean Squared Error calculation\n",
    "    mse = mean_squared_error(y_true, y_pred_raw.flatten())\n",
    "\n",
    "    # Confusion Matrix\n",
    "    tn, fp, fn, tp = confusion_matrix(y_true, y_pred).ravel()\n",
    "    \n",
    "    return {\n",
    "        \"Precision\": precision,\n",
    "        \"Recall\": recall,\n",
    "        \"F1-Score\": f1,\n",
    "        \"IoU\": iou,\n",
    "        \"Pixel Accuracy\": pixel_accuracy,\n",
    "        \"MSE\": mse,\n",
    "        \"Confusion Matrix\": {\n",
    "            \"TP\": tp,\n",
    "            \"FP\": fp,\n",
    "            \"FN\": fn,\n",
    "            \"TN\": tn\n",
    "        }\n",
    "    }\n",
    "# Calculate metrics for FCN and U-Net\n",
    "fcn_metrics = calculate_metrics(y_valid_flat, fcn_pred_flat, fcn_pred)\n",
    "unet_metrics = calculate_metrics(y_valid_flat, unet_pred_flat, unet_pred)"
   ]
  },
  {
   "cell_type": "code",
   "execution_count": 23,
   "id": "d69cfe5d-8826-45c8-9648-fcf29d639cfb",
   "metadata": {},
   "outputs": [
    {
     "name": "stdout",
     "output_type": "stream",
     "text": [
      "8/8 [==============================] - 19s 2s/step - loss: 0.7864 - accuracy: 0.8794\n",
      "Robustness Evaluation (FCN): Loss = 0.7864, Accuracy = 0.8794\n",
      "8/8 [==============================] - 103s 13s/step - loss: 0.7330 - accuracy: 0.8753\n",
      "U-Net Robustness - Loss on Noisy Data: 0.7330, Accuracy on Noisy Data: 0.8753\n"
     ]
    }
   ],
   "source": [
    "from tensorflow.keras.preprocessing.image import ImageDataGenerator\n",
    "# Calculate Robustness Loss and Accuracy\n",
    "data_gen = ImageDataGenerator(rotation_range=20, width_shift_range=0.1, height_shift_range=0.1, zoom_range=0.1)\n",
    "augmented_data = data_gen.flow(X_valid, y_valid, batch_size=32)\n",
    "loss, accuracy = fcn_model.evaluate(augmented_data)\n",
    "print(f\"Robustness Evaluation (FCN): Loss = {loss:.4f}, Accuracy = {accuracy:.4f}\")\n",
    "unet_loss_noisy, unet_accuracy_noisy = unet_model.evaluate(augmented_data)\n",
    "print(f\"U-Net Robustness - Loss on Noisy Data: {unet_loss_noisy:.4f}, Accuracy on Noisy Data: {unet_accuracy_noisy:.4f}\")\n"
   ]
  },
  {
   "cell_type": "code",
   "execution_count": 51,
   "id": "c0979ff1-ae72-4dc0-9ae4-518d58b4f43b",
   "metadata": {},
   "outputs": [
    {
     "data": {
      "text/html": [
       "<div>\n",
       "<style scoped>\n",
       "    .dataframe tbody tr th:only-of-type {\n",
       "        vertical-align: middle;\n",
       "    }\n",
       "\n",
       "    .dataframe tbody tr th {\n",
       "        vertical-align: top;\n",
       "    }\n",
       "\n",
       "    .dataframe thead th {\n",
       "        text-align: right;\n",
       "    }\n",
       "</style>\n",
       "<table border=\"1\" class=\"dataframe\">\n",
       "  <thead>\n",
       "    <tr style=\"text-align: right;\">\n",
       "      <th></th>\n",
       "      <th>Model</th>\n",
       "      <th>Precision</th>\n",
       "      <th>Recall</th>\n",
       "      <th>F1-Score</th>\n",
       "      <th>IoU</th>\n",
       "      <th>MSE</th>\n",
       "      <th>Pixel Accuracy</th>\n",
       "      <th>True Positives (TP)</th>\n",
       "      <th>False Positives (FP)</th>\n",
       "      <th>False Negatives (FN)</th>\n",
       "      <th>True Negatives (TN)</th>\n",
       "      <th>Robustness Loss</th>\n",
       "      <th>Robustness Accuracy</th>\n",
       "    </tr>\n",
       "  </thead>\n",
       "  <tbody>\n",
       "    <tr>\n",
       "      <th>0</th>\n",
       "      <td>FCN</td>\n",
       "      <td>0.9417</td>\n",
       "      <td>0.8862</td>\n",
       "      <td>0.9131</td>\n",
       "      <td>0.8401</td>\n",
       "      <td>0.0102</td>\n",
       "      <td>0.9846</td>\n",
       "      <td>1296976</td>\n",
       "      <td>80336</td>\n",
       "      <td>166557</td>\n",
       "      <td>14446915</td>\n",
       "      <td>0.7864</td>\n",
       "      <td>0.8794</td>\n",
       "    </tr>\n",
       "    <tr>\n",
       "      <th>1</th>\n",
       "      <td>U-Net</td>\n",
       "      <td>0.9122</td>\n",
       "      <td>0.9561</td>\n",
       "      <td>0.9336</td>\n",
       "      <td>0.8755</td>\n",
       "      <td>0.0094</td>\n",
       "      <td>0.9876</td>\n",
       "      <td>1399334</td>\n",
       "      <td>134716</td>\n",
       "      <td>64199</td>\n",
       "      <td>14392535</td>\n",
       "      <td>0.7330</td>\n",
       "      <td>0.8753</td>\n",
       "    </tr>\n",
       "  </tbody>\n",
       "</table>\n",
       "</div>"
      ],
      "text/plain": [
       "   Model  Precision  Recall  F1-Score     IoU     MSE  Pixel Accuracy  \\\n",
       "0    FCN     0.9417  0.8862    0.9131  0.8401  0.0102          0.9846   \n",
       "1  U-Net     0.9122  0.9561    0.9336  0.8755  0.0094          0.9876   \n",
       "\n",
       "   True Positives (TP)  False Positives (FP)  False Negatives (FN)  \\\n",
       "0              1296976                 80336                166557   \n",
       "1              1399334                134716                 64199   \n",
       "\n",
       "   True Negatives (TN)  Robustness Loss  Robustness Accuracy  \n",
       "0             14446915           0.7864               0.8794  \n",
       "1             14392535           0.7330               0.8753  "
      ]
     },
     "execution_count": 51,
     "metadata": {},
     "output_type": "execute_result"
    }
   ],
   "source": [
    "# Tabulation metrics\n",
    "metrics_data = {\n",
    "    \"Model\": [\"FCN\", \"U-Net\"],\n",
    "    \"Precision\": [fcn_metrics['Precision'], unet_metrics['Precision']],\n",
    "    \"Recall\": [fcn_metrics['Recall'], unet_metrics['Recall']],\n",
    "    \"F1-Score\": [fcn_metrics['F1-Score'], unet_metrics['F1-Score']],\n",
    "    \"IoU\": [fcn_metrics['IoU'], unet_metrics['IoU']],\n",
    "    \"MSE\": [fcn_metrics['MSE'], unet_metrics['MSE']],\n",
    "    \"Pixel Accuracy\": [fcn_metrics['Pixel Accuracy'], unet_metrics['Pixel Accuracy']],\n",
    "    \"True Positives (TP)\": [fcn_metrics['Confusion Matrix']['TP'], unet_metrics['Confusion Matrix']['TP']],\n",
    "    \"False Positives (FP)\": [fcn_metrics['Confusion Matrix']['FP'], unet_metrics['Confusion Matrix']['FP']],\n",
    "    \"False Negatives (FN)\": [fcn_metrics['Confusion Matrix']['FN'], unet_metrics['Confusion Matrix']['FN']],\n",
    "    \"True Negatives (TN)\": [fcn_metrics['Confusion Matrix']['TN'], unet_metrics['Confusion Matrix']['TN']],\n",
    "    \"Robustness Loss\": [loss, unet_loss_noisy],\n",
    "    \"Robustness Accuracy\": [accuracy, unet_accuracy_noisy]\n",
    "}\n",
    "\n",
    "# Creating the DataFrame\n",
    "metrics_df = pd.DataFrame(metrics_data)\n",
    "metrics_df = pd.DataFrame(metrics_data).round(4)\n",
    "\n",
    "metrics_df"
   ]
  },
  {
   "cell_type": "markdown",
   "id": "6deecc3c-6d6b-42b9-959d-1ba229a0e41f",
   "metadata": {},
   "source": [
    "Above table provides a comprehensive result of building localization of FCN and U-Net models performance in semantic segmentation tasks. \n",
    "The Fully Convolutional Network (FCN) demonstrated strong overall performance, achieving a Precision of 0.94 and an F1-Score of 0.91, reflecting its ability to identify building regions accurately while maintaining a balance between precision and recall. Its Intersection over Union (IoU) of 0.84 and Pixel Accuracy of 0.98 indicate that the model is effective in localizing buildings but occasionally misses finer details, as shown by its higher False Negatives (FN) count.\n",
    "The U-Net model excelled in precision delineation of object boundaries, achieving a higher Recall of 0.96 and an F1-Score of 0.93, which highlights its robustness in capturing subtle details and ensuring fewer missed building regions, as reflected by its lower False Negatives (FN) count. With an IoU of 0.88 and Pixel Accuracy of 0.99, U-Net provides superior segmentation performance, benefiting from its skip connections that preserve spatial details across encoder-decoder layers. This architecture also yielded a lower MSE (0.01), underscoring its precision in generating binary masks for localized building regions.\n",
    "While both models are effective for semantic segmentation, U-Net truly outperformed FCN in recall, IoU, and pixel accuracy, making it more adept for tasks requiring precise boundary delineation. Yet, FCN's efficiency and high precision make it a valuable alternative in scenarios prioritizing computational simplicity."
   ]
  },
  {
   "cell_type": "code",
   "execution_count": null,
   "id": "b0909ee7-310a-4f23-8f65-7826752ed98c",
   "metadata": {},
   "outputs": [],
   "source": [
    "## Visualize Building Localization Model Result"
   ]
  },
  {
   "cell_type": "code",
   "execution_count": 45,
   "id": "7873f7d3-dfba-42bd-825f-8429b57d1b47",
   "metadata": {},
   "outputs": [
    {
     "data": {
      "image/png": "[encoded data removed]",
      "text/plain": [
       "<Figure size 1200x600 with 1 Axes>"
      ]
     },
     "metadata": {},
     "output_type": "display_data"
    },
    {
     "data": {
      "image/png": "[encoded data removed]",
      "text/plain": [
       "<Figure size 1000x600 with 1 Axes>"
      ]
     },
     "metadata": {},
     "output_type": "display_data"
    }
   ],
   "source": [
    "import pandas as pd\n",
    "import matplotlib.pyplot as plt\n",
    "import seaborn as sns\n",
    "\n",
    "# Quantitative Metrics Bar Plot\n",
    "def plot_metrics(df, metrics, title):\n",
    "    df_melted = df.melt(id_vars=\"Model\", value_vars=metrics, var_name=\"Metric\", value_name=\"Value\")\n",
    "    \n",
    "    plt.figure(figsize=(12, 6))\n",
    "    sns.barplot(data=df_melted, x=\"Metric\", y=\"Value\", hue=\"Model\")\n",
    "    plt.title(title, fontsize=16)\n",
    "    plt.ylabel(\"Value\")\n",
    "    plt.xlabel(\"Metrics\")\n",
    "    plt.xticks(rotation=45)\n",
    "    plt.legend(title=\"Model\")\n",
    "    plt.tight_layout()\n",
    "    plt.show()\n",
    "\n",
    "quantitative_metrics = [\n",
    "    \"Precision\", \"Recall\", \"F1-Score\", \"IoU\", \"MSE\", \"Pixel Accuracy\"\n",
    "]\n",
    "\n",
    "plot_metrics(metrics_df, quantitative_metrics, \"Quantitative Metrics Comparison\")\n",
    "\n",
    "# Error Analysis Plot\n",
    "def plot_error_analysis(df, metrics, title):\n",
    "    df_error = df.melt(id_vars=\"Model\", value_vars=metrics, var_name=\"Confusion Matrix\", value_name=\"Value\")\n",
    "    \n",
    "    plt.figure(figsize=(10, 6))\n",
    "    sns.barplot(data=df_error, x=\"Confusion Matrix\", y=\"Value\", hue=\"Model\")\n",
    "    plt.title(title, fontsize=16)\n",
    "    plt.ylabel(\"Count\")\n",
    "    plt.xlabel(\"Confusion Metrics\")\n",
    "    plt.xticks(rotation=45)\n",
    "    plt.legend(title=\"Model\")\n",
    "    plt.tight_layout()\n",
    "    plt.show()\n",
    "\n",
    "error_metrics = [\n",
    "    \"True Positives (TP)\", \"False Positives (FP)\", \"False Negatives (FN)\"\n",
    "]\n",
    "\n",
    "plot_error_analysis(metrics_df, error_metrics, \"Confusion Matrix\")"
   ]
  },
  {
   "cell_type": "markdown",
   "id": "46a7d24e-2478-48da-86c0-b0016ba8252c",
   "metadata": {},
   "source": [
    "# Damage Classification Model Result and Performance"
   ]
  },
  {
   "cell_type": "code",
   "execution_count": null,
   "id": "11cc5530-eb76-4fe1-a9cf-10714e521912",
   "metadata": {},
   "outputs": [],
   "source": []
  },
  {
   "cell_type": "code",
   "execution_count": null,
   "id": "542f12d4-ff99-4e67-bbb4-772451e6a5c4",
   "metadata": {},
   "outputs": [],
   "source": []
  },
  {
   "cell_type": "code",
   "execution_count": null,
   "id": "07261a5d-b73c-419c-8e3d-79065649584f",
   "metadata": {},
   "outputs": [],
   "source": []
  },
  {
   "cell_type": "code",
   "execution_count": null,
   "id": "7c3d90d8-241f-4565-b39e-4c36ea7a9cfd",
   "metadata": {},
   "outputs": [],
   "source": []
  },
  {
   "cell_type": "code",
   "execution_count": null,
   "id": "2e0c8917-145b-4e43-a8df-3c4d7bdf709d",
   "metadata": {},
   "outputs": [],
   "source": []
  },
  {
   "cell_type": "code",
   "execution_count": null,
   "id": "8c4ae20f-12a5-4de3-9101-19bc28987535",
   "metadata": {},
   "outputs": [],
   "source": []
  }
 ],
 "metadata": {
  "kernelspec": {
   "display_name": "Python 3 (ipykernel)",
   "language": "python",
   "name": "python3"
  },
  "language_info": {
   "codemirror_mode": {
    "name": "ipython",
    "version": 3
   },
   "file_extension": ".py",
   "mimetype": "text/x-python",
   "name": "python",
   "nbconvert_exporter": "python",
   "pygments_lexer": "ipython3",
   "version": "3.11.7"
  }
 },
 "nbformat": 4,
 "nbformat_minor": 5
}
