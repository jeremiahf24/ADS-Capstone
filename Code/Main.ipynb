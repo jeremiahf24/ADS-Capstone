{
 "cells": [
  {
   "cell_type": "code",
   "execution_count": 9,
   "id": "9ebd304f-73cf-4976-ac35-a128b7a655a7",
   "metadata": {},
   "outputs": [],
   "source": [
    "%run \"DataPreparation.ipynb\";\n",
    "%run \"Modeling.ipynb\";"
   ]
  },
  {
   "cell_type": "code",
   "execution_count": 10,
   "id": "a8ee355b-41d9-48ee-af66-f685252f821c",
   "metadata": {},
   "outputs": [
    {
     "name": "stdout",
     "output_type": "stream",
     "text": [
      "Retrieving pre and post disaster images from: ../Images\n",
      "\n",
      "Total pre-disaster images: 1219\n",
      "\n",
      "Total post-disaster images: 1219\n"
     ]
    }
   ],
   "source": [
    "# Setup\n",
    "images_dir= \"../Images\" #images\n",
    "json_dir = \"../Data\" #json\n",
    "\n",
    "# images_dir = 'C:/Users/sowmi/Python scripts/hurricane/images'\n",
    "# json_dir = 'C:/Users/sowmi/Python scripts/hurricane/labels'\n",
    "\n",
    "# Loading JSON data into dataframe for building localization\n",
    "hurricane_pre_df, hurricane_post_df, pre_hurricane_images, post_hurricane_images = prepare_data(images_dir, json_dir);"
   ]
  },
  {
   "cell_type": "code",
   "execution_count": 11,
   "id": "1293de3b-dac4-488b-b115-ea407ae0865a",
   "metadata": {},
   "outputs": [],
   "source": [
    "pre_resized_img, pre_mask_resized_img, polygon_data= preprocess_data(hurricane_pre_df, hurricane_post_df, images_dir);"
   ]
  },
  {
   "cell_type": "code",
   "execution_count": 12,
   "id": "39287379-debc-458e-8009-77627b16160f",
   "metadata": {},
   "outputs": [
    {
     "name": "stdout",
     "output_type": "stream",
     "text": [
      "(1219, 256, 256, 3)\n",
      "(1219, 256, 256, 1)\n"
     ]
    },
    {
     "data": {
      "text/html": [
       "<div>\n",
       "<style scoped>\n",
       "    .dataframe tbody tr th:only-of-type {\n",
       "        vertical-align: middle;\n",
       "    }\n",
       "\n",
       "    .dataframe tbody tr th {\n",
       "        vertical-align: top;\n",
       "    }\n",
       "\n",
       "    .dataframe thead th {\n",
       "        text-align: right;\n",
       "    }\n",
       "</style>\n",
       "<table border=\"1\" class=\"dataframe\">\n",
       "  <thead>\n",
       "    <tr style=\"text-align: right;\">\n",
       "      <th></th>\n",
       "      <th>building_uid</th>\n",
       "      <th>labels</th>\n",
       "    </tr>\n",
       "  </thead>\n",
       "  <tbody>\n",
       "    <tr>\n",
       "      <th>0</th>\n",
       "      <td>82799c02-ee88-452a-a615-7df5e64560e8.png</td>\n",
       "      <td>0</td>\n",
       "    </tr>\n",
       "    <tr>\n",
       "      <th>1</th>\n",
       "      <td>bbc71c55-2b37-4582-842e-27a70431dd56.png</td>\n",
       "      <td>0</td>\n",
       "    </tr>\n",
       "    <tr>\n",
       "      <th>2</th>\n",
       "      <td>243c58e3-d7f9-4feb-a879-11ef7fc64a75.png</td>\n",
       "      <td>0</td>\n",
       "    </tr>\n",
       "    <tr>\n",
       "      <th>3</th>\n",
       "      <td>aa1a6143-efc6-4d66-b5d6-2e827573f694.png</td>\n",
       "      <td>0</td>\n",
       "    </tr>\n",
       "    <tr>\n",
       "      <th>4</th>\n",
       "      <td>2b9f0812-faa6-4635-a6a2-1b214c273a7f.png</td>\n",
       "      <td>0</td>\n",
       "    </tr>\n",
       "  </tbody>\n",
       "</table>\n",
       "</div>"
      ],
      "text/plain": [
       "                               building_uid labels\n",
       "0  82799c02-ee88-452a-a615-7df5e64560e8.png      0\n",
       "1  bbc71c55-2b37-4582-842e-27a70431dd56.png      0\n",
       "2  243c58e3-d7f9-4feb-a879-11ef7fc64a75.png      0\n",
       "3  aa1a6143-efc6-4d66-b5d6-2e827573f694.png      0\n",
       "4  2b9f0812-faa6-4635-a6a2-1b214c273a7f.png      0"
      ]
     },
     "execution_count": 12,
     "metadata": {},
     "output_type": "execute_result"
    }
   ],
   "source": [
    "X_train, X_valid, y_train, y_valid=split_data(pre_resized_img, pre_mask_resized_img);\n",
    "\n",
    "#For Classification model\n",
    "data_df = pd.DataFrame(polygon_data)\n",
    "data_df.head()\n",
    "final_df = data_df.drop(['polygon_points'], axis=1)\n",
    "# Renaming columns\n",
    "final_df = final_df.rename(columns={'uid': 'building_uid',\n",
    "                                    'damage_type': 'labels'})\n",
    "# Convert labels to strings\n",
    "final_df['labels'] = final_df['labels'].astype(str)\n",
    "final_df.head()\n"
   ]
  },
  {
   "cell_type": "markdown",
   "id": "68e8b30d-b5f0-4122-8df9-7152918f4a63",
   "metadata": {},
   "source": [
    "### Class Imbalance "
   ]
  },
  {
   "cell_type": "code",
   "execution_count": 14,
   "id": "4ff75a22-fcec-4bec-a658-5b04363771fe",
   "metadata": {},
   "outputs": [
    {
     "data": {
      "text/plain": [
       "labels\n",
       "0    34846\n",
       "1    14550\n",
       "2    13330\n",
       "3     3359\n",
       "Name: count, dtype: int64"
      ]
     },
     "execution_count": 14,
     "metadata": {},
     "output_type": "execute_result"
    }
   ],
   "source": [
    "final_df['labels'].value_counts()"
   ]
  },
  {
   "cell_type": "code",
   "execution_count": 15,
   "id": "1e6e59ee-450e-4e27-867a-eb90b22183db",
   "metadata": {},
   "outputs": [
    {
     "data": {
      "text/plain": [
       "labels\n",
       "0    17000\n",
       "1    14550\n",
       "2    13330\n",
       "3     3359\n",
       "Name: count, dtype: int64"
      ]
     },
     "execution_count": 15,
     "metadata": {},
     "output_type": "execute_result"
    }
   ],
   "source": [
    "df_sample_no_damage = final_df[final_df['labels'] == '0'].sample(n=17000)\n",
    "df_sample_rest = final_df[final_df['labels'] != '0']\n",
    "balanced_df =  pd.concat([df_sample_rest,df_sample_no_damage])\n",
    "balanced_df['labels'].value_counts()"
   ]
  },
  {
   "cell_type": "code",
   "execution_count": 16,
   "id": "02c35b81-4f30-46ac-a78a-765788213600",
   "metadata": {},
   "outputs": [
    {
     "data": {
      "text/plain": [
       "labels\n",
       "0    34846\n",
       "1    31239\n",
       "Name: count, dtype: int64"
      ]
     },
     "execution_count": 16,
     "metadata": {},
     "output_type": "execute_result"
    }
   ],
   "source": [
    "# Data set for stage 1 ResNet-50 model training\n",
    "final_df_stage1 = final_df.copy()\n",
    "\n",
    "final_df_stage1['labels'] = final_df_stage1['labels'].replace({\n",
    "    '1': '1',\n",
    "    '2': '1',\n",
    "    '3': '1'\n",
    "})\n",
    "\n",
    "final_df_stage1['labels'].value_counts()"
   ]
  },
  {
   "cell_type": "code",
   "execution_count": 17,
   "id": "8d2d1a18-2d8b-48d7-ad12-ab9444b67b96",
   "metadata": {},
   "outputs": [
    {
     "name": "stdout",
     "output_type": "stream",
     "text": [
      "(66085, 2)\n",
      "(48239, 2)\n"
     ]
    }
   ],
   "source": [
    "print(final_df_stage1.shape)\n",
    "print(balanced_df.shape)"
   ]
  },
  {
   "cell_type": "code",
   "execution_count": 18,
   "id": "93f1f16e-a676-4ec4-981c-dcd2f83814c1",
   "metadata": {},
   "outputs": [
    {
     "name": "stdout",
     "output_type": "stream",
     "text": [
      "(33767, 2)\n",
      "(7236, 2)\n",
      "(7236, 2)\n",
      "Found 33767 validated image filenames belonging to 4 classes.\n",
      "Found 7236 validated image filenames belonging to 4 classes.\n",
      "Found 7236 validated image filenames belonging to 4 classes.\n"
     ]
    }
   ],
   "source": [
    "train_df, valid_df, test_df = classification_split_data(balanced_df)\n",
    "\n",
    "# Stage 1 data split\n",
    "#train_df_stage1, valid_df_stage1 = classification_split_data(final_df_stage1)\n",
    "\n",
    "train_generator, val_generator, test_generator = data_gen(train_df, valid_df, test_df, target_size=(128, 128), batch_size=64, num_classes=4)"
   ]
  },
  {
   "cell_type": "code",
   "execution_count": 19,
   "id": "8dc16fec-d7c5-4034-a187-76b8eed5d2a6",
   "metadata": {},
   "outputs": [],
   "source": [
    "#ONLY IF TRAINING IS NEEDED!\n",
    "# train_FCN_model();\n",
    "# train_unet_model();\n",
    "# train_CNN_model(train_generator, val_generator);\n",
    "# train_MobileNet_model(train_generator, val_generator);\n",
    "# train_ResNet50_model(train_generator, val_generator, num_classes=2, batch_size=64);\n",
    "# train_ResNet50_model_stage2(train_generator, val_generator, num_classes=4, batch_size=64);"
   ]
  },
  {
   "cell_type": "markdown",
   "id": "ca82038b-1cee-45a4-a0ee-5f7a4ad1467a",
   "metadata": {},
   "source": [
    "# Building Localization Model "
   ]
  },
  {
   "cell_type": "markdown",
   "id": "825236f5-0cc0-4d52-9cad-9f82056e56d6",
   "metadata": {},
   "source": [
    "# FCN Model"
   ]
  },
  {
   "cell_type": "code",
   "execution_count": 22,
   "id": "9fae8991-667e-45d4-844f-fa244454b01f",
   "metadata": {},
   "outputs": [
    {
     "name": "stdout",
     "output_type": "stream",
     "text": [
      "Model: \"model_1\"\n",
      "_________________________________________________________________\n",
      " Layer (type)                Output Shape              Param #   \n",
      "=================================================================\n",
      " input_7 (InputLayer)        [(None, 256, 256, 3)]     0         \n",
      "                                                                 \n",
      " conv2d_31 (Conv2D)          (None, 256, 256, 64)      1792      \n",
      "                                                                 \n",
      " conv2d_32 (Conv2D)          (None, 256, 256, 64)      36928     \n",
      "                                                                 \n",
      " conv2d_33 (Conv2D)          (None, 128, 128, 128)     73856     \n",
      "                                                                 \n",
      " conv2d_34 (Conv2D)          (None, 128, 128, 128)     147584    \n",
      "                                                                 \n",
      " conv2d_transpose_6 (Conv2D  (None, 256, 256, 64)      73792     \n",
      " Transpose)                                                      \n",
      "                                                                 \n",
      " conv2d_35 (Conv2D)          (None, 256, 256, 64)      36928     \n",
      "                                                                 \n",
      " conv2d_36 (Conv2D)          (None, 256, 256, 1)       65        \n",
      "                                                                 \n",
      "=================================================================\n",
      "Total params: 370945 (1.42 MB)\n",
      "Trainable params: 370945 (1.42 MB)\n",
      "Non-trainable params: 0 (0.00 Byte)\n",
      "_________________________________________________________________\n",
      "8/8 [==============================] - 91s 11s/step\n",
      "8/8 [==============================] - 91s 11s/step - loss: 0.0323 - accuracy: 0.9846\n",
      "Validation Loss: 0.0323\n",
      "Validation Accuracy: 0.9846\n"
     ]
    }
   ],
   "source": [
    "with tf.device('/cpu:0'):\n",
    "    fcn_model = tf.keras.models.load_model('model/FCN/FCN_model.keras')\n",
    "    fcn_model.summary()\n",
    "    \n",
    "    # Making predictions\n",
    "    fcn_model_mask = fcn_model.predict(X_valid)\n",
    "    # Model Evaluation\n",
    "    loss, accuracy = fcn_model.evaluate(X_valid, y_valid)\n",
    "    print(f\"Validation Loss: {loss:.4f}\")\n",
    "    print(f\"Validation Accuracy: {accuracy:.4f}\")"
   ]
  },
  {
   "cell_type": "markdown",
   "id": "7c837ed3-deb7-4211-8c9c-84ec0954c1f2",
   "metadata": {},
   "source": [
    "# Unet Model"
   ]
  },
  {
   "cell_type": "code",
   "execution_count": 24,
   "id": "9c6dbd7e-b203-4f5f-8f4e-d7970405564f",
   "metadata": {},
   "outputs": [
    {
     "name": "stdout",
     "output_type": "stream",
     "text": [
      "Model: \"U-Net\"\n",
      "__________________________________________________________________________________________________\n",
      " Layer (type)                Output Shape                 Param #   Connected to                  \n",
      "==================================================================================================\n",
      " input_5 (InputLayer)        [(None, 256, 256, 3)]        0         []                            \n",
      "                                                                                                  \n",
      " conv2d_6 (Conv2D)           (None, 256, 256, 64)         1792      ['input_5[0][0]']             \n",
      "                                                                                                  \n",
      " batch_normalization_6 (Bat  (None, 256, 256, 64)         256       ['conv2d_6[0][0]']            \n",
      " chNormalization)                                                                                 \n",
      "                                                                                                  \n",
      " activation_6 (Activation)   (None, 256, 256, 64)         0         ['batch_normalization_6[0][0]'\n",
      "                                                                    ]                             \n",
      "                                                                                                  \n",
      " conv2d_7 (Conv2D)           (None, 256, 256, 64)         36928     ['activation_6[0][0]']        \n",
      "                                                                                                  \n",
      " batch_normalization_7 (Bat  (None, 256, 256, 64)         256       ['conv2d_7[0][0]']            \n",
      " chNormalization)                                                                                 \n",
      "                                                                                                  \n",
      " activation_7 (Activation)   (None, 256, 256, 64)         0         ['batch_normalization_7[0][0]'\n",
      "                                                                    ]                             \n",
      "                                                                                                  \n",
      " max_pooling2d_1 (MaxPoolin  (None, 128, 128, 64)         0         ['activation_7[0][0]']        \n",
      " g2D)                                                                                             \n",
      "                                                                                                  \n",
      " conv2d_8 (Conv2D)           (None, 128, 128, 128)        73856     ['max_pooling2d_1[0][0]']     \n",
      "                                                                                                  \n",
      " batch_normalization_8 (Bat  (None, 128, 128, 128)        512       ['conv2d_8[0][0]']            \n",
      " chNormalization)                                                                                 \n",
      "                                                                                                  \n",
      " activation_8 (Activation)   (None, 128, 128, 128)        0         ['batch_normalization_8[0][0]'\n",
      "                                                                    ]                             \n",
      "                                                                                                  \n",
      " conv2d_9 (Conv2D)           (None, 128, 128, 128)        147584    ['activation_8[0][0]']        \n",
      "                                                                                                  \n",
      " batch_normalization_9 (Bat  (None, 128, 128, 128)        512       ['conv2d_9[0][0]']            \n",
      " chNormalization)                                                                                 \n",
      "                                                                                                  \n",
      " activation_9 (Activation)   (None, 128, 128, 128)        0         ['batch_normalization_9[0][0]'\n",
      "                                                                    ]                             \n",
      "                                                                                                  \n",
      " max_pooling2d_2 (MaxPoolin  (None, 64, 64, 128)          0         ['activation_9[0][0]']        \n",
      " g2D)                                                                                             \n",
      "                                                                                                  \n",
      " conv2d_10 (Conv2D)          (None, 64, 64, 256)          295168    ['max_pooling2d_2[0][0]']     \n",
      "                                                                                                  \n",
      " batch_normalization_10 (Ba  (None, 64, 64, 256)          1024      ['conv2d_10[0][0]']           \n",
      " tchNormalization)                                                                                \n",
      "                                                                                                  \n",
      " activation_10 (Activation)  (None, 64, 64, 256)          0         ['batch_normalization_10[0][0]\n",
      "                                                                    ']                            \n",
      "                                                                                                  \n",
      " conv2d_11 (Conv2D)          (None, 64, 64, 256)          590080    ['activation_10[0][0]']       \n",
      "                                                                                                  \n",
      " batch_normalization_11 (Ba  (None, 64, 64, 256)          1024      ['conv2d_11[0][0]']           \n",
      " tchNormalization)                                                                                \n",
      "                                                                                                  \n",
      " activation_11 (Activation)  (None, 64, 64, 256)          0         ['batch_normalization_11[0][0]\n",
      "                                                                    ']                            \n",
      "                                                                                                  \n",
      " max_pooling2d_3 (MaxPoolin  (None, 32, 32, 256)          0         ['activation_11[0][0]']       \n",
      " g2D)                                                                                             \n",
      "                                                                                                  \n",
      " conv2d_12 (Conv2D)          (None, 32, 32, 512)          1180160   ['max_pooling2d_3[0][0]']     \n",
      "                                                                                                  \n",
      " batch_normalization_12 (Ba  (None, 32, 32, 512)          2048      ['conv2d_12[0][0]']           \n",
      " tchNormalization)                                                                                \n",
      "                                                                                                  \n",
      " activation_12 (Activation)  (None, 32, 32, 512)          0         ['batch_normalization_12[0][0]\n",
      "                                                                    ']                            \n",
      "                                                                                                  \n",
      " conv2d_13 (Conv2D)          (None, 32, 32, 512)          2359808   ['activation_12[0][0]']       \n",
      "                                                                                                  \n",
      " batch_normalization_13 (Ba  (None, 32, 32, 512)          2048      ['conv2d_13[0][0]']           \n",
      " tchNormalization)                                                                                \n",
      "                                                                                                  \n",
      " activation_13 (Activation)  (None, 32, 32, 512)          0         ['batch_normalization_13[0][0]\n",
      "                                                                    ']                            \n",
      "                                                                                                  \n",
      " max_pooling2d_4 (MaxPoolin  (None, 16, 16, 512)          0         ['activation_13[0][0]']       \n",
      " g2D)                                                                                             \n",
      "                                                                                                  \n",
      " conv2d_14 (Conv2D)          (None, 16, 16, 1024)         4719616   ['max_pooling2d_4[0][0]']     \n",
      "                                                                                                  \n",
      " batch_normalization_14 (Ba  (None, 16, 16, 1024)         4096      ['conv2d_14[0][0]']           \n",
      " tchNormalization)                                                                                \n",
      "                                                                                                  \n",
      " activation_14 (Activation)  (None, 16, 16, 1024)         0         ['batch_normalization_14[0][0]\n",
      "                                                                    ']                            \n",
      "                                                                                                  \n",
      " conv2d_15 (Conv2D)          (None, 16, 16, 1024)         9438208   ['activation_14[0][0]']       \n",
      "                                                                                                  \n",
      " batch_normalization_15 (Ba  (None, 16, 16, 1024)         4096      ['conv2d_15[0][0]']           \n",
      " tchNormalization)                                                                                \n",
      "                                                                                                  \n",
      " activation_15 (Activation)  (None, 16, 16, 1024)         0         ['batch_normalization_15[0][0]\n",
      "                                                                    ']                            \n",
      "                                                                                                  \n",
      " conv2d_transpose_1 (Conv2D  (None, 32, 32, 512)          2097664   ['activation_15[0][0]']       \n",
      " Transpose)                                                                                       \n",
      "                                                                                                  \n",
      " up_sampling2d (UpSampling2  (None, 32, 32, 512)          0         ['max_pooling2d_4[0][0]']     \n",
      " D)                                                                                               \n",
      "                                                                                                  \n",
      " concatenate_1 (Concatenate  (None, 32, 32, 1024)         0         ['conv2d_transpose_1[0][0]',  \n",
      " )                                                                   'up_sampling2d[0][0]']       \n",
      "                                                                                                  \n",
      " conv2d_16 (Conv2D)          (None, 32, 32, 512)          4719104   ['concatenate_1[0][0]']       \n",
      "                                                                                                  \n",
      " batch_normalization_16 (Ba  (None, 32, 32, 512)          2048      ['conv2d_16[0][0]']           \n",
      " tchNormalization)                                                                                \n",
      "                                                                                                  \n",
      " activation_16 (Activation)  (None, 32, 32, 512)          0         ['batch_normalization_16[0][0]\n",
      "                                                                    ']                            \n",
      "                                                                                                  \n",
      " conv2d_17 (Conv2D)          (None, 32, 32, 512)          2359808   ['activation_16[0][0]']       \n",
      "                                                                                                  \n",
      " batch_normalization_17 (Ba  (None, 32, 32, 512)          2048      ['conv2d_17[0][0]']           \n",
      " tchNormalization)                                                                                \n",
      "                                                                                                  \n",
      " activation_17 (Activation)  (None, 32, 32, 512)          0         ['batch_normalization_17[0][0]\n",
      "                                                                    ']                            \n",
      "                                                                                                  \n",
      " conv2d_transpose_2 (Conv2D  (None, 64, 64, 256)          524544    ['activation_17[0][0]']       \n",
      " Transpose)                                                                                       \n",
      "                                                                                                  \n",
      " up_sampling2d_1 (UpSamplin  (None, 64, 64, 256)          0         ['max_pooling2d_3[0][0]']     \n",
      " g2D)                                                                                             \n",
      "                                                                                                  \n",
      " concatenate_2 (Concatenate  (None, 64, 64, 512)          0         ['conv2d_transpose_2[0][0]',  \n",
      " )                                                                   'up_sampling2d_1[0][0]']     \n",
      "                                                                                                  \n",
      " conv2d_18 (Conv2D)          (None, 64, 64, 256)          1179904   ['concatenate_2[0][0]']       \n",
      "                                                                                                  \n",
      " batch_normalization_18 (Ba  (None, 64, 64, 256)          1024      ['conv2d_18[0][0]']           \n",
      " tchNormalization)                                                                                \n",
      "                                                                                                  \n",
      " activation_18 (Activation)  (None, 64, 64, 256)          0         ['batch_normalization_18[0][0]\n",
      "                                                                    ']                            \n",
      "                                                                                                  \n",
      " conv2d_19 (Conv2D)          (None, 64, 64, 256)          590080    ['activation_18[0][0]']       \n",
      "                                                                                                  \n",
      " batch_normalization_19 (Ba  (None, 64, 64, 256)          1024      ['conv2d_19[0][0]']           \n",
      " tchNormalization)                                                                                \n",
      "                                                                                                  \n",
      " activation_19 (Activation)  (None, 64, 64, 256)          0         ['batch_normalization_19[0][0]\n",
      "                                                                    ']                            \n",
      "                                                                                                  \n",
      " conv2d_transpose_3 (Conv2D  (None, 128, 128, 128)        131200    ['activation_19[0][0]']       \n",
      " Transpose)                                                                                       \n",
      "                                                                                                  \n",
      " up_sampling2d_2 (UpSamplin  (None, 128, 128, 128)        0         ['max_pooling2d_2[0][0]']     \n",
      " g2D)                                                                                             \n",
      "                                                                                                  \n",
      " concatenate_3 (Concatenate  (None, 128, 128, 256)        0         ['conv2d_transpose_3[0][0]',  \n",
      " )                                                                   'up_sampling2d_2[0][0]']     \n",
      "                                                                                                  \n",
      " conv2d_20 (Conv2D)          (None, 128, 128, 128)        295040    ['concatenate_3[0][0]']       \n",
      "                                                                                                  \n",
      " batch_normalization_20 (Ba  (None, 128, 128, 128)        512       ['conv2d_20[0][0]']           \n",
      " tchNormalization)                                                                                \n",
      "                                                                                                  \n",
      " activation_20 (Activation)  (None, 128, 128, 128)        0         ['batch_normalization_20[0][0]\n",
      "                                                                    ']                            \n",
      "                                                                                                  \n",
      " conv2d_21 (Conv2D)          (None, 128, 128, 128)        147584    ['activation_20[0][0]']       \n",
      "                                                                                                  \n",
      " batch_normalization_21 (Ba  (None, 128, 128, 128)        512       ['conv2d_21[0][0]']           \n",
      " tchNormalization)                                                                                \n",
      "                                                                                                  \n",
      " activation_21 (Activation)  (None, 128, 128, 128)        0         ['batch_normalization_21[0][0]\n",
      "                                                                    ']                            \n",
      "                                                                                                  \n",
      " conv2d_transpose_4 (Conv2D  (None, 256, 256, 64)         32832     ['activation_21[0][0]']       \n",
      " Transpose)                                                                                       \n",
      "                                                                                                  \n",
      " up_sampling2d_3 (UpSamplin  (None, 256, 256, 64)         0         ['max_pooling2d_1[0][0]']     \n",
      " g2D)                                                                                             \n",
      "                                                                                                  \n",
      " concatenate_4 (Concatenate  (None, 256, 256, 128)        0         ['conv2d_transpose_4[0][0]',  \n",
      " )                                                                   'up_sampling2d_3[0][0]']     \n",
      "                                                                                                  \n",
      " conv2d_22 (Conv2D)          (None, 256, 256, 64)         73792     ['concatenate_4[0][0]']       \n",
      "                                                                                                  \n",
      " batch_normalization_22 (Ba  (None, 256, 256, 64)         256       ['conv2d_22[0][0]']           \n",
      " tchNormalization)                                                                                \n",
      "                                                                                                  \n",
      " activation_22 (Activation)  (None, 256, 256, 64)         0         ['batch_normalization_22[0][0]\n",
      "                                                                    ']                            \n",
      "                                                                                                  \n",
      " conv2d_23 (Conv2D)          (None, 256, 256, 64)         36928     ['activation_22[0][0]']       \n",
      "                                                                                                  \n",
      " batch_normalization_23 (Ba  (None, 256, 256, 64)         256       ['conv2d_23[0][0]']           \n",
      " tchNormalization)                                                                                \n",
      "                                                                                                  \n",
      " activation_23 (Activation)  (None, 256, 256, 64)         0         ['batch_normalization_23[0][0]\n",
      "                                                                    ']                            \n",
      "                                                                                                  \n",
      " conv2d_24 (Conv2D)          (None, 256, 256, 1)          65        ['activation_23[0][0]']       \n",
      "                                                                                                  \n",
      "==================================================================================================\n",
      "Total params: 31055297 (118.47 MB)\n",
      "Trainable params: 31043521 (118.42 MB)\n",
      "Non-trainable params: 11776 (46.00 KB)\n",
      "__________________________________________________________________________________________________\n",
      "8/8 [==============================] - 420s 52s/step\n",
      "8/8 [==============================] - 481s 61s/step - loss: 0.0356 - accuracy: 0.9876\n",
      "Validation Loss: 0.0356\n",
      "Validation Accuracy: 0.9876\n"
     ]
    }
   ],
   "source": [
    "unet_model = tf.keras.models.load_model('model/Unet/Unet_model.keras')\n",
    "unet_model.summary()\n",
    "# Making predictions\n",
    "unet_model_mask = unet_model.predict(X_valid)\n",
    "# Model Evaluation\n",
    "loss, accuracy = unet_model.evaluate(X_valid, y_valid)\n",
    "print(f\"Validation Loss: {loss:.4f}\")\n",
    "print(f\"Validation Accuracy: {accuracy:.4f}\")"
   ]
  },
  {
   "cell_type": "markdown",
   "id": "8df7bad6-5f18-494e-8feb-85c1091b4854",
   "metadata": {},
   "source": [
    "# Damage Classification Model "
   ]
  },
  {
   "cell_type": "markdown",
   "id": "3ba37fa9-91ec-494f-b648-730ad5c13aac",
   "metadata": {},
   "source": [
    "## Simple CNN "
   ]
  },
  {
   "cell_type": "code",
   "execution_count": 27,
   "id": "7e375f1e-3b7f-447c-ad08-104acbc8b5b1",
   "metadata": {},
   "outputs": [
    {
     "name": "stdout",
     "output_type": "stream",
     "text": [
      "Model: \"sequential_1\"\n",
      "_________________________________________________________________\n",
      " Layer (type)                Output Shape              Param #   \n",
      "=================================================================\n",
      " conv2d_6 (Conv2D)           (None, 128, 128, 32)      896       \n",
      "                                                                 \n",
      " max_pooling2d_6 (MaxPoolin  (None, 64, 64, 32)        0         \n",
      " g2D)                                                            \n",
      "                                                                 \n",
      " batch_normalization_6 (Bat  (None, 64, 64, 32)        128       \n",
      " chNormalization)                                                \n",
      "                                                                 \n",
      " conv2d_7 (Conv2D)           (None, 64, 64, 64)        18496     \n",
      "                                                                 \n",
      " max_pooling2d_7 (MaxPoolin  (None, 32, 32, 64)        0         \n",
      " g2D)                                                            \n",
      "                                                                 \n",
      " batch_normalization_7 (Bat  (None, 32, 32, 64)        256       \n",
      " chNormalization)                                                \n",
      "                                                                 \n",
      " conv2d_8 (Conv2D)           (None, 32, 32, 128)       73856     \n",
      "                                                                 \n",
      " max_pooling2d_8 (MaxPoolin  (None, 16, 16, 128)       0         \n",
      " g2D)                                                            \n",
      "                                                                 \n",
      " batch_normalization_8 (Bat  (None, 16, 16, 128)       512       \n",
      " chNormalization)                                                \n",
      "                                                                 \n",
      " flatten_3 (Flatten)         (None, 32768)             0         \n",
      "                                                                 \n",
      " dense_5 (Dense)             (None, 128)               4194432   \n",
      "                                                                 \n",
      " dropout_3 (Dropout)         (None, 128)               0         \n",
      "                                                                 \n",
      " dense_6 (Dense)             (None, 4)                 516       \n",
      "                                                                 \n",
      "=================================================================\n",
      "Total params: 4289092 (16.36 MB)\n",
      "Trainable params: 4288644 (16.36 MB)\n",
      "Non-trainable params: 448 (1.75 KB)\n",
      "_________________________________________________________________\n"
     ]
    }
   ],
   "source": [
    "with tf.device('/cpu:0'):\n",
    "    CNN_model = tf.keras.models.load_model('model/simpleCNN/simpleCNN_model.keras')\n",
    "    CNN_model.summary()"
   ]
  },
  {
   "cell_type": "code",
   "execution_count": 28,
   "id": "f98ef98c-9a42-460e-9fff-0fde5fe16b6f",
   "metadata": {},
   "outputs": [
    {
     "name": "stdout",
     "output_type": "stream",
     "text": [
      "114/114 [==============================] - 115s 1s/step\n"
     ]
    }
   ],
   "source": [
    "# Making predictions\n",
    "CNN_predictions = CNN_model.predict(test_generator, verbose=1)\n",
    "CNN_predicted_classes = np.argmax(CNN_predictions, axis=1)\n",
    "\n",
    "true_labels = test_generator.classes"
   ]
  },
  {
   "cell_type": "code",
   "execution_count": 29,
   "id": "98d07c1f-ecab-4b1d-b717-4d2d587dce67",
   "metadata": {},
   "outputs": [
    {
     "name": "stdout",
     "output_type": "stream",
     "text": [
      "Accuracy: 0.58\n",
      "Classification Report:\n",
      "              precision    recall  f1-score   support\n",
      "\n",
      "   no-damage       0.72      0.67      0.69      2530\n",
      "minor-damage       0.53      0.39      0.45      2185\n",
      "major-damage       0.51      0.83      0.63      2005\n",
      "   destroyed       0.00      0.00      0.00       516\n",
      "\n",
      "    accuracy                           0.58      7236\n",
      "   macro avg       0.44      0.47      0.44      7236\n",
      "weighted avg       0.55      0.58      0.55      7236\n",
      "\n"
     ]
    }
   ],
   "source": [
    "from sklearn.metrics import classification_report, confusion_matrix, accuracy_score\n",
    "label_names = ['no-damage', 'minor-damage', 'major-damage', 'destroyed']\n",
    "\n",
    "# Calculate accuracy\n",
    "accuracy = accuracy_score(true_labels, CNN_predicted_classes)\n",
    "print(f\"Accuracy: {accuracy:.2f}\")\n",
    "\n",
    "print(\"Classification Report:\")\n",
    "print(classification_report(true_labels, CNN_predicted_classes, target_names=label_names))"
   ]
  },
  {
   "cell_type": "markdown",
   "id": "7fd863fc-b9e7-4b93-9832-e64ff34dd6ef",
   "metadata": {},
   "source": [
    "## MobileNet Model"
   ]
  },
  {
   "cell_type": "code",
   "execution_count": 31,
   "id": "e85e893c-9d43-4d5f-95e2-fcf905c56c8c",
   "metadata": {},
   "outputs": [
    {
     "name": "stdout",
     "output_type": "stream",
     "text": [
      "Model: \"MobileNet\"\n",
      "__________________________________________________________________________________________________\n",
      " Layer (type)                Output Shape                 Param #   Connected to                  \n",
      "==================================================================================================\n",
      " input_1 (InputLayer)        [(None, 128, 128, 3)]        0         []                            \n",
      "                                                                                                  \n",
      " conv2d (Conv2D)             (None, 128, 128, 32)         896       ['input_1[0][0]']             \n",
      "                                                                                                  \n",
      " batch_normalization (Batch  (None, 128, 128, 32)         128       ['conv2d[0][0]']              \n",
      " Normalization)                                                                                   \n",
      "                                                                                                  \n",
      " max_pooling2d (MaxPooling2  (None, 64, 64, 32)           0         ['batch_normalization[0][0]'] \n",
      " D)                                                                                               \n",
      "                                                                                                  \n",
      " conv2d_1 (Conv2D)           (None, 64, 64, 64)           18496     ['max_pooling2d[0][0]']       \n",
      "                                                                                                  \n",
      " batch_normalization_1 (Bat  (None, 64, 64, 64)           256       ['conv2d_1[0][0]']            \n",
      " chNormalization)                                                                                 \n",
      "                                                                                                  \n",
      " max_pooling2d_1 (MaxPoolin  (None, 32, 32, 64)           0         ['batch_normalization_1[0][0]'\n",
      " g2D)                                                               ]                             \n",
      "                                                                                                  \n",
      " conv2d_2 (Conv2D)           (None, 32, 32, 64)           36928     ['max_pooling2d_1[0][0]']     \n",
      "                                                                                                  \n",
      " batch_normalization_2 (Bat  (None, 32, 32, 64)           256       ['conv2d_2[0][0]']            \n",
      " chNormalization)                                                                                 \n",
      "                                                                                                  \n",
      " max_pooling2d_2 (MaxPoolin  (None, 16, 16, 64)           0         ['batch_normalization_2[0][0]'\n",
      " g2D)                                                               ]                             \n",
      "                                                                                                  \n",
      " mobilenet_1.00_128 (Functi  (None, 4, 4, 1024)           3228864   ['input_1[0][0]']             \n",
      " onal)                                                                                            \n",
      "                                                                                                  \n",
      " flatten (Flatten)           (None, 16384)                0         ['max_pooling2d_2[0][0]']     \n",
      "                                                                                                  \n",
      " flatten_1 (Flatten)         (None, 16384)                0         ['mobilenet_1.00_128[0][0]']  \n",
      "                                                                                                  \n",
      " concatenate (Concatenate)   (None, 32768)                0         ['flatten[0][0]',             \n",
      "                                                                     'flatten_1[0][0]']           \n",
      "                                                                                                  \n",
      " dense (Dense)               (None, 512)                  1677772   ['concatenate[0][0]']         \n",
      "                                                          8                                       \n",
      "                                                                                                  \n",
      " dropout (Dropout)           (None, 512)                  0         ['dense[0][0]']               \n",
      "                                                                                                  \n",
      " dense_1 (Dense)             (None, 128)                  65664     ['dropout[0][0]']             \n",
      "                                                                                                  \n",
      " dropout_1 (Dropout)         (None, 128)                  0         ['dense_1[0][0]']             \n",
      "                                                                                                  \n",
      " dense_2 (Dense)             (None, 4)                    516       ['dropout_1[0][0]']           \n",
      "                                                                                                  \n",
      "==================================================================================================\n",
      "Total params: 20129732 (76.79 MB)\n",
      "Trainable params: 18763204 (71.58 MB)\n",
      "Non-trainable params: 1366528 (5.21 MB)\n",
      "__________________________________________________________________________________________________\n"
     ]
    }
   ],
   "source": [
    "with tf.device('/cpu:0'):\n",
    "    mobilenet_model = tf.keras.models.load_model('model/MobileNet/MobileNet_model.keras')\n",
    "    mobilenet_model.summary()"
   ]
  },
  {
   "cell_type": "code",
   "execution_count": 32,
   "id": "c36675b6-d2d8-4e13-bc76-40a69384f4ca",
   "metadata": {},
   "outputs": [
    {
     "name": "stdout",
     "output_type": "stream",
     "text": [
      "114/114 [==============================] - 202s 2s/step\n"
     ]
    }
   ],
   "source": [
    "# Making predictions\n",
    "mobilenet_predictions = mobilenet_model.predict(test_generator, verbose=1)\n",
    "mobilenet_predicted_classes = np.argmax(mobilenet_predictions, axis=1)\n",
    "\n",
    "true_labels = test_generator.classes"
   ]
  },
  {
   "cell_type": "code",
   "execution_count": 33,
   "id": "b7811d54-2ee4-49c2-b512-abce0cd02aa8",
   "metadata": {},
   "outputs": [
    {
     "name": "stdout",
     "output_type": "stream",
     "text": [
      "Accuracy: 0.70\n",
      "Classification Report:\n",
      "              precision    recall  f1-score   support\n",
      "\n",
      "   no-damage       0.78      0.76      0.77      2530\n",
      "minor-damage       0.62      0.62      0.62      2185\n",
      "major-damage       0.71      0.75      0.73      2005\n",
      "   destroyed       0.68      0.55      0.61       516\n",
      "\n",
      "    accuracy                           0.70      7236\n",
      "   macro avg       0.70      0.67      0.68      7236\n",
      "weighted avg       0.70      0.70      0.70      7236\n",
      "\n"
     ]
    }
   ],
   "source": [
    "from sklearn.metrics import classification_report, confusion_matrix, accuracy_score\n",
    "label_names = ['no-damage', 'minor-damage', 'major-damage', 'destroyed']\n",
    "\n",
    "# Calculate accuracy\n",
    "accuracy = accuracy_score(true_labels, mobilenet_predicted_classes)\n",
    "print(f\"Accuracy: {accuracy:.2f}\")\n",
    "\n",
    "print(\"Classification Report:\")\n",
    "print(classification_report(true_labels, mobilenet_predicted_classes, target_names=label_names))"
   ]
  },
  {
   "cell_type": "markdown",
   "id": "54df44b3-52d7-4c1a-a2e0-63f4182a3142",
   "metadata": {},
   "source": [
    "## ResNet-50 "
   ]
  },
  {
   "cell_type": "code",
   "execution_count": 35,
   "id": "185094d9-eff3-4e27-8b50-78e221a47cca",
   "metadata": {},
   "outputs": [
    {
     "name": "stdout",
     "output_type": "stream",
     "text": [
      "Model: \"ResNet-50\"\n",
      "__________________________________________________________________________________________________\n",
      " Layer (type)                Output Shape                 Param #   Connected to                  \n",
      "==================================================================================================\n",
      " input_1 (InputLayer)        [(None, 128, 128, 3)]        0         []                            \n",
      "                                                                                                  \n",
      " conv2d (Conv2D)             (None, 128, 128, 32)         896       ['input_1[0][0]']             \n",
      "                                                                                                  \n",
      " batch_normalization (Batch  (None, 128, 128, 32)         128       ['conv2d[0][0]']              \n",
      " Normalization)                                                                                   \n",
      "                                                                                                  \n",
      " max_pooling2d (MaxPooling2  (None, 64, 64, 32)           0         ['batch_normalization[0][0]'] \n",
      " D)                                                                                               \n",
      "                                                                                                  \n",
      " conv2d_1 (Conv2D)           (None, 64, 64, 64)           18496     ['max_pooling2d[0][0]']       \n",
      "                                                                                                  \n",
      " batch_normalization_1 (Bat  (None, 64, 64, 64)           256       ['conv2d_1[0][0]']            \n",
      " chNormalization)                                                                                 \n",
      "                                                                                                  \n",
      " max_pooling2d_1 (MaxPoolin  (None, 32, 32, 64)           0         ['batch_normalization_1[0][0]'\n",
      " g2D)                                                               ]                             \n",
      "                                                                                                  \n",
      " conv2d_2 (Conv2D)           (None, 32, 32, 64)           36928     ['max_pooling2d_1[0][0]']     \n",
      "                                                                                                  \n",
      " batch_normalization_2 (Bat  (None, 32, 32, 64)           256       ['conv2d_2[0][0]']            \n",
      " chNormalization)                                                                                 \n",
      "                                                                                                  \n",
      " max_pooling2d_2 (MaxPoolin  (None, 16, 16, 64)           0         ['batch_normalization_2[0][0]'\n",
      " g2D)                                                               ]                             \n",
      "                                                                                                  \n",
      " resnet50 (Functional)       (None, 4, 4, 2048)           2358771   ['input_1[0][0]']             \n",
      "                                                          2                                       \n",
      "                                                                                                  \n",
      " flatten_1 (Flatten)         (None, 16384)                0         ['max_pooling2d_2[0][0]']     \n",
      "                                                                                                  \n",
      " flatten (Flatten)           (None, 32768)                0         ['resnet50[0][0]']            \n",
      "                                                                                                  \n",
      " concatenate (Concatenate)   (None, 49152)                0         ['flatten_1[0][0]',           \n",
      "                                                                     'flatten[0][0]']             \n",
      "                                                                                                  \n",
      " dense (Dense)               (None, 512)                  2516633   ['concatenate[0][0]']         \n",
      "                                                          6                                       \n",
      "                                                                                                  \n",
      " dropout (Dropout)           (None, 512)                  0         ['dense[0][0]']               \n",
      "                                                                                                  \n",
      " dense_1 (Dense)             (None, 128)                  65664     ['dropout[0][0]']             \n",
      "                                                                                                  \n",
      " dropout_1 (Dropout)         (None, 128)                  0         ['dense_1[0][0]']             \n",
      "                                                                                                  \n",
      " dense_2 (Dense)             (None, 4)                    516       ['dropout_1[0][0]']           \n",
      "                                                                                                  \n",
      "==================================================================================================\n",
      "Total params: 48877188 (186.45 MB)\n",
      "Trainable params: 48823748 (186.25 MB)\n",
      "Non-trainable params: 53440 (208.75 KB)\n",
      "__________________________________________________________________________________________________\n"
     ]
    }
   ],
   "source": [
    "with tf.device('/cpu:0'):\n",
    "    resnet50_model_stage2 = tf.keras.models.load_model('model/Resnet50/Resnet50_model_stage2.keras')\n",
    "    resnet50_model_stage2.summary()"
   ]
  },
  {
   "cell_type": "code",
   "execution_count": 36,
   "id": "9193bcc4-ba12-49a1-957f-768001cd7153",
   "metadata": {},
   "outputs": [
    {
     "name": "stdout",
     "output_type": "stream",
     "text": [
      "114/114 [==============================] - 584s 5s/step\n"
     ]
    }
   ],
   "source": [
    "# Making predictions\n",
    "resnet50_predictions = resnet50_model_stage2.predict(test_generator, verbose=1)\n",
    "resnet50_predicted_classes = np.argmax(resnet50_predictions, axis=1)\n",
    "\n",
    "true_labels = test_generator.classes"
   ]
  },
  {
   "cell_type": "code",
   "execution_count": 37,
   "id": "79d60e3a-875c-466e-ab39-c11e5030b264",
   "metadata": {},
   "outputs": [
    {
     "name": "stdout",
     "output_type": "stream",
     "text": [
      "Accuracy: 0.67\n",
      "Classification Report:\n",
      "              precision    recall  f1-score   support\n",
      "\n",
      "   no-damage       0.78      0.69      0.73      2530\n",
      "minor-damage       0.58      0.61      0.59      2185\n",
      "major-damage       0.69      0.72      0.70      2005\n",
      "   destroyed       0.53      0.57      0.55       516\n",
      "\n",
      "    accuracy                           0.67      7236\n",
      "   macro avg       0.64      0.65      0.65      7236\n",
      "weighted avg       0.67      0.67      0.67      7236\n",
      "\n"
     ]
    }
   ],
   "source": [
    "from sklearn.metrics import classification_report, confusion_matrix, accuracy_score\n",
    "label_names = ['no-damage', 'minor-damage', 'major-damage', 'destroyed']\n",
    "\n",
    "# Calculate accuracy\n",
    "accuracy = accuracy_score(true_labels, resnet50_predicted_classes)\n",
    "print(f\"Accuracy: {accuracy:.2f}\")\n",
    "\n",
    "print(\"Classification Report:\")\n",
    "print(classification_report(true_labels, resnet50_predicted_classes, target_names=label_names))"
   ]
  },
  {
   "cell_type": "markdown",
   "id": "aed0df93-bf74-4c9b-bd6a-b943c26c1a10",
   "metadata": {},
   "source": [
    "# Building Localization Model Result and Performance"
   ]
  },
  {
   "cell_type": "code",
   "execution_count": 149,
   "id": "527b38e6-62fc-40fa-bc79-763420d81c29",
   "metadata": {},
   "outputs": [],
   "source": [
    "# Metrics Calculation Definition\n",
    "def calculate_metrics(y_true, y_pred, y_pred_raw):\n",
    "    precision = precision_score(y_true, y_pred)\n",
    "    recall = recall_score(y_true, y_pred)\n",
    "    f1 = f1_score(y_true, y_pred)\n",
    "    iou = jaccard_score(y_true, y_pred)\n",
    "    pixel_accuracy = np.mean(y_true == y_pred)  # Ratio of correct pixels to total pixels\n",
    "      \n",
    "    # Mean Squared Error calculation\n",
    "    mse = mean_squared_error(y_true, y_pred_raw.flatten())\n",
    "\n",
    "    # Confusion Matrix\n",
    "    tn, fp, fn, tp = confusion_matrix(y_true, y_pred).ravel()\n",
    "    \n",
    "    return {\n",
    "        \"Precision\": precision,\n",
    "        \"Recall\": recall,\n",
    "        \"F1-Score\": f1,\n",
    "        \"IoU\": iou,\n",
    "        \"Pixel Accuracy\": pixel_accuracy,\n",
    "        \"MSE\": mse,\n",
    "        \"Confusion Matrix\": {\n",
    "            \"TP\": tp,\n",
    "            \"FP\": fp,\n",
    "            \"FN\": fn,\n",
    "            \"TN\": tn\n",
    "        }\n",
    "    }\n",
    "\n"
   ]
  },
  {
   "cell_type": "code",
   "execution_count": 150,
   "id": "711d2a04-587d-44e4-8cc1-0d99e7a40aaa",
   "metadata": {},
   "outputs": [],
   "source": [
    "from tensorflow.keras.preprocessing.image import ImageDataGenerator\n",
    "# Calculate Robustness Loss and Accuracy\n",
    "data_gen = ImageDataGenerator(rotation_range=20, width_shift_range=0.1, height_shift_range=0.1, zoom_range=0.1)\n",
    "augmented_data = data_gen.flow(X_valid, y_valid, batch_size=32)"
   ]
  },
  {
   "cell_type": "code",
   "execution_count": 151,
   "id": "51293646-3fa2-4344-a36c-64c5abb8ea19",
   "metadata": {},
   "outputs": [
    {
     "name": "stdout",
     "output_type": "stream",
     "text": [
      "\n",
      "Prediction for FCN...\n",
      "8/8 [==============================] - 91s 11s/step\n",
      "Prediction for U-Net...\n",
      "8/8 [==============================] - 425s 53s/step\n"
     ]
    }
   ],
   "source": [
    "import tensorflow as tf\n",
    "import numpy as np\n",
    "from sklearn.metrics import precision_score, recall_score, f1_score, jaccard_score\n",
    "from sklearn.metrics import mean_squared_error, confusion_matrix\n",
    "\n",
    "print(\"\\nPrediction for FCN...\")\n",
    "fcn_pred = fcn_model.predict(X_valid)\n",
    "print(\"Prediction for U-Net...\")\n",
    "unet_pred = unet_model.predict(X_valid)\n",
    "\n",
    "# Threshold predictions\n",
    "fcn_pred_binary = (fcn_pred > 0.5).astype(np.uint8)\n",
    "unet_pred_binary = (unet_pred > 0.5).astype(np.uint8)\n",
    "\n",
    "# Flatten arrays \n",
    "y_valid_flat = y_valid.flatten()\n",
    "fcn_pred_flat = fcn_pred_binary.flatten()\n",
    "unet_pred_flat = unet_pred_binary.flatten()\n",
    "\n",
    "# Calculate metrics for FCN and U-Net\n",
    "fcn_metrics = calculate_metrics(y_valid_flat, fcn_pred_flat, fcn_pred)\n",
    "unet_metrics = calculate_metrics(y_valid_flat, unet_pred_flat, unet_pred)"
   ]
  },
  {
   "cell_type": "code",
   "execution_count": 152,
   "id": "d69cfe5d-8826-45c8-9648-fcf29d639cfb",
   "metadata": {},
   "outputs": [
    {
     "name": "stdout",
     "output_type": "stream",
     "text": [
      "8/8 [==============================] - 97s 12s/step - loss: 0.7951 - accuracy: 0.8793\n",
      "Robustness Evaluation (FCN): Loss = 0.7951, Accuracy = 0.8793\n",
      "8/8 [==============================] - 433s 53s/step - loss: 0.7225 - accuracy: 0.8758\n",
      "U-Net Robustness - Loss on Noisy Data: 0.7225, Accuracy on Noisy Data: 0.8758\n"
     ]
    }
   ],
   "source": [
    "\n",
    "loss, accuracy = fcn_model.evaluate(augmented_data)\n",
    "print(f\"Robustness Evaluation (FCN): Loss = {loss:.4f}, Accuracy = {accuracy:.4f}\")\n",
    "\n",
    "unet_loss_noisy, unet_accuracy_noisy = unet_model.evaluate(augmented_data)\n",
    "print(f\"U-Net Robustness - Loss on Noisy Data: {unet_loss_noisy:.4f}, Accuracy on Noisy Data: {unet_accuracy_noisy:.4f}\")\n"
   ]
  },
  {
   "cell_type": "code",
   "execution_count": 153,
   "id": "c0979ff1-ae72-4dc0-9ae4-518d58b4f43b",
   "metadata": {},
   "outputs": [
    {
     "data": {
      "text/html": [
       "<div>\n",
       "<style scoped>\n",
       "    .dataframe tbody tr th:only-of-type {\n",
       "        vertical-align: middle;\n",
       "    }\n",
       "\n",
       "    .dataframe tbody tr th {\n",
       "        vertical-align: top;\n",
       "    }\n",
       "\n",
       "    .dataframe thead th {\n",
       "        text-align: right;\n",
       "    }\n",
       "</style>\n",
       "<table border=\"1\" class=\"dataframe\">\n",
       "  <thead>\n",
       "    <tr style=\"text-align: right;\">\n",
       "      <th></th>\n",
       "      <th>Model</th>\n",
       "      <th>Precision</th>\n",
       "      <th>Recall</th>\n",
       "      <th>F1-Score</th>\n",
       "      <th>IoU</th>\n",
       "      <th>MSE</th>\n",
       "      <th>Pixel Accuracy</th>\n",
       "      <th>True Positives (TP)</th>\n",
       "      <th>False Positives (FP)</th>\n",
       "      <th>False Negatives (FN)</th>\n",
       "      <th>True Negatives (TN)</th>\n",
       "      <th>Robustness Loss</th>\n",
       "      <th>Robustness Accuracy</th>\n",
       "    </tr>\n",
       "  </thead>\n",
       "  <tbody>\n",
       "    <tr>\n",
       "      <th>0</th>\n",
       "      <td>FCN</td>\n",
       "      <td>0.9417</td>\n",
       "      <td>0.8862</td>\n",
       "      <td>0.9131</td>\n",
       "      <td>0.8401</td>\n",
       "      <td>0.0102</td>\n",
       "      <td>0.9846</td>\n",
       "      <td>1296976</td>\n",
       "      <td>80336</td>\n",
       "      <td>166557</td>\n",
       "      <td>14446915</td>\n",
       "      <td>0.7951</td>\n",
       "      <td>0.8793</td>\n",
       "    </tr>\n",
       "    <tr>\n",
       "      <th>1</th>\n",
       "      <td>U-Net</td>\n",
       "      <td>0.9122</td>\n",
       "      <td>0.9561</td>\n",
       "      <td>0.9336</td>\n",
       "      <td>0.8755</td>\n",
       "      <td>0.0094</td>\n",
       "      <td>0.9876</td>\n",
       "      <td>1399334</td>\n",
       "      <td>134716</td>\n",
       "      <td>64199</td>\n",
       "      <td>14392535</td>\n",
       "      <td>0.7225</td>\n",
       "      <td>0.8758</td>\n",
       "    </tr>\n",
       "  </tbody>\n",
       "</table>\n",
       "</div>"
      ],
      "text/plain": [
       "   Model  Precision  Recall  F1-Score     IoU     MSE  Pixel Accuracy  \\\n",
       "0    FCN     0.9417  0.8862    0.9131  0.8401  0.0102          0.9846   \n",
       "1  U-Net     0.9122  0.9561    0.9336  0.8755  0.0094          0.9876   \n",
       "\n",
       "   True Positives (TP)  False Positives (FP)  False Negatives (FN)  \\\n",
       "0              1296976                 80336                166557   \n",
       "1              1399334                134716                 64199   \n",
       "\n",
       "   True Negatives (TN)  Robustness Loss  Robustness Accuracy  \n",
       "0             14446915           0.7951               0.8793  \n",
       "1             14392535           0.7225               0.8758  "
      ]
     },
     "execution_count": 153,
     "metadata": {},
     "output_type": "execute_result"
    }
   ],
   "source": [
    "# Tabulation metrics\n",
    "metrics_data = {\n",
    "    \"Model\": [\"FCN\", \"U-Net\"],\n",
    "    \"Precision\": [fcn_metrics['Precision'], unet_metrics['Precision']],\n",
    "    \"Recall\": [fcn_metrics['Recall'], unet_metrics['Recall']],\n",
    "    \"F1-Score\": [fcn_metrics['F1-Score'], unet_metrics['F1-Score']],\n",
    "    \"IoU\": [fcn_metrics['IoU'], unet_metrics['IoU']],\n",
    "    \"MSE\": [fcn_metrics['MSE'], unet_metrics['MSE']],\n",
    "    \"Pixel Accuracy\": [fcn_metrics['Pixel Accuracy'], unet_metrics['Pixel Accuracy']],\n",
    "    \"True Positives (TP)\": [fcn_metrics['Confusion Matrix']['TP'], unet_metrics['Confusion Matrix']['TP']],\n",
    "    \"False Positives (FP)\": [fcn_metrics['Confusion Matrix']['FP'], unet_metrics['Confusion Matrix']['FP']],\n",
    "    \"False Negatives (FN)\": [fcn_metrics['Confusion Matrix']['FN'], unet_metrics['Confusion Matrix']['FN']],\n",
    "    \"True Negatives (TN)\": [fcn_metrics['Confusion Matrix']['TN'], unet_metrics['Confusion Matrix']['TN']],\n",
    "    \"Robustness Loss\": [loss, unet_loss_noisy],\n",
    "    \"Robustness Accuracy\": [accuracy, unet_accuracy_noisy]\n",
    "}\n",
    "\n",
    "# Creating the DataFrame\n",
    "fcn_UNet_metrics_df = pd.DataFrame(metrics_data)\n",
    "fcn_UNet_metrics_df = pd.DataFrame(metrics_data).round(4)\n",
    "\n",
    "fcn_UNet_metrics_df"
   ]
  },
  {
   "cell_type": "markdown",
   "id": "6deecc3c-6d6b-42b9-959d-1ba229a0e41f",
   "metadata": {},
   "source": [
    "Above table provides a comprehensive result of building localization of FCN and U-Net models performance in semantic segmentation tasks. \n",
    "The Fully Convolutional Network (FCN) demonstrated strong overall performance, achieving a Precision of 0.94 and an F1-Score of 0.91, reflecting its ability to identify building regions accurately while maintaining a balance between precision and recall. Its Intersection over Union (IoU) of 0.84 and Pixel Accuracy of 0.98 indicate that the model is effective in localizing buildings but occasionally misses finer details, as shown by its higher False Negatives (FN) count.\n",
    "The U-Net model excelled in precision delineation of object boundaries, achieving a higher Recall of 0.96 and an F1-Score of 0.93, which highlights its robustness in capturing subtle details and ensuring fewer missed building regions, as reflected by its lower False Negatives (FN) count. With an IoU of 0.88 and Pixel Accuracy of 0.99, U-Net provides superior segmentation performance, benefiting from its skip connections that preserve spatial details across encoder-decoder layers. This architecture also yielded a lower MSE (0.01), underscoring its precision in generating binary masks for localized building regions.\n",
    "While both models are effective for semantic segmentation, U-Net truly outperformed FCN in recall, IoU, and pixel accuracy, making it more adept for tasks requiring precise boundary delineation. Yet, FCN's efficiency and high precision make it a valuable alternative in scenarios prioritizing computational simplicity."
   ]
  },
  {
   "cell_type": "code",
   "execution_count": 38,
   "id": "b0909ee7-310a-4f23-8f65-7826752ed98c",
   "metadata": {},
   "outputs": [],
   "source": [
    "## Visualize Building Localization Model Result"
   ]
  },
  {
   "cell_type": "code",
   "execution_count": 154,
   "id": "7873f7d3-dfba-42bd-825f-8429b57d1b47",
   "metadata": {},
   "outputs": [
    {
     "data": {
      "image/png": "[encoded data removed]",
      "text/plain": [
       "<Figure size 1800x600 with 2 Axes>"
      ]
     },
     "metadata": {},
     "output_type": "display_data"
    }
   ],
   "source": [
    "import pandas as pd\n",
    "import matplotlib.pyplot as plt\n",
    "import seaborn as sns\n",
    "\n",
    "# Quantitative Metrics Bar Plot\n",
    "def plot_metrics(df, metrics, title, ax):\n",
    "    df_metrics = df.melt(id_vars=\"Model\", value_vars=metrics, var_name=\"Metric\", value_name=\"Value\")\n",
    "    \n",
    "    sns.barplot(data=df_metrics, x=\"Metric\", y=\"Value\", hue=\"Model\", ax=ax)\n",
    "    ax.set_title(title, fontsize=16)\n",
    "    ax.set_ylabel(\"Value\")\n",
    "    ax.set_xlabel(\"Metrics\")\n",
    "    ax.tick_params(axis='x', rotation=45)\n",
    "\n",
    "quantitative_metrics = [\n",
    "    \"Precision\", \"Recall\", \"F1-Score\", \"IoU\", \"MSE\", \"Pixel Accuracy\"\n",
    "]\n",
    "\n",
    "# plot_metrics(metrics_df, quantitative_metrics, \"Quantitative Metrics Comparison\")\n",
    "\n",
    "# Error Analysis Plot\n",
    "def plot_error_analysis(df, metrics, title, ax):\n",
    "    df_error = df.melt(id_vars=\"Model\", value_vars=metrics, var_name=\"Confusion Matrix\", value_name=\"Value\")\n",
    "    \n",
    "    sns.barplot(data=df_error, x=\"Confusion Matrix\", y=\"Value\", hue=\"Model\", ax=ax)\n",
    "    ax.set_title(title, fontsize=16)\n",
    "    ax.set_ylabel(\"Count\")\n",
    "    ax.set_xlabel(\"Confusion Metrics\")\n",
    "    ax.tick_params(axis='x', rotation=45)\n",
    "\n",
    "error_metrics = [\n",
    "    \"True Positives (TP)\", \"False Positives (FP)\", \"False Negatives (FN)\"\n",
    "]\n",
    "\n",
    "# plot_error_analysis(metrics_df, error_metrics, \"Confusion Matrix\")\n",
    "\n",
    "fig, axes = plt.subplots(1, 2, figsize=(18, 6))\n",
    "\n",
    "plot_metrics(metrics_df, quantitative_metrics, \"Quantitative Metrics Comparison\", axes[0])\n",
    "plot_error_analysis(metrics_df, error_metrics, \"Confusion Matrix\", axes[1])\n",
    "\n",
    "plt.tight_layout()\n",
    "plt.show()"
   ]
  },
  {
   "cell_type": "markdown",
   "id": "46a7d24e-2478-48da-86c0-b0016ba8252c",
   "metadata": {},
   "source": [
    "# Damage Classification Model Result and Performance"
   ]
  },
  {
   "cell_type": "code",
   "execution_count": 38,
   "id": "4774200f-3702-48dc-bde6-12c8ab007a63",
   "metadata": {},
   "outputs": [],
   "source": [
    "def damage_class_calculate_metrics(y_true, y_pred, y_pred_raw, average='weighted'):\n",
    "    precision = precision_score(y_true, y_pred, average=average)\n",
    "    recall = recall_score(y_true, y_pred, average=average)\n",
    "    f1 = f1_score(y_true, y_pred, average=average)\n",
    "    iou = jaccard_score(y_true, y_pred, average=average)\n",
    "    pixel_accuracy = np.mean(y_true == y_pred)\n",
    "    mse = mean_squared_error(y_true, y_pred_raw.argmax(axis=1))\n",
    "\n",
    "    # calculate confusion matrix in diagonal elements\n",
    "    cm = confusion_matrix(y_true, y_pred, labels=np.unique(y_true))\n",
    "    tp = np.diag(cm)\n",
    "    fp = cm.sum(axis=0) - tp\n",
    "    fn = cm.sum(axis=1) - tp\n",
    "    tn = cm.sum() - (tp + fp + fn)\n",
    "\n",
    "    total_tp = tp.sum()\n",
    "    total_fp = fp.sum()\n",
    "    total_fn = fn.sum()\n",
    "    total_tn = tn.sum()\n",
    "\n",
    "    return {\n",
    "        \"Precision\": precision,\n",
    "        \"Recall\": recall,\n",
    "        \"F1-Score\": f1,\n",
    "        \"IoU\": iou,\n",
    "        \"Pixel Accuracy\": pixel_accuracy,\n",
    "        \"MSE\": mse,\n",
    "        \"Confusion Matrix\": {\n",
    "            \"TP\": total_tp,\n",
    "            \"FP\": total_fp,\n",
    "            \"FN\": total_fn,\n",
    "            \"TN\": total_tn\n",
    "        }\n",
    "    }\n",
    "\n"
   ]
  },
  {
   "cell_type": "code",
   "execution_count": 40,
   "id": "a29b772e-6144-47fd-a413-4337bf7ef7ab",
   "metadata": {},
   "outputs": [],
   "source": [
    "from sklearn.metrics import precision_score, recall_score, f1_score, jaccard_score\n",
    "from sklearn.metrics import mean_squared_error, confusion_matrix\n",
    "simplecnn_metrics = damage_class_calculate_metrics(true_labels, CNN_predicted_classes, CNN_predictions, average='weighted')\n",
    "mobilenet_metrics =  damage_class_calculate_metrics(true_labels, mobilenet_predicted_classes, mobilenet_predictions, average='weighted')\n",
    "resnet_metrics = damage_class_calculate_metrics(true_labels, resnet50_predicted_classes, resnet50_predictions, average='weighted')"
   ]
  },
  {
   "cell_type": "code",
   "execution_count": 42,
   "id": "9fdac0f3-1809-4922-88b8-77c4cd4ec36b",
   "metadata": {},
   "outputs": [],
   "source": [
    "def robustness_loss(predictions, true_labels_one_hot):\n",
    "    loss = np.abs(predictions - true_labels_one_hot).mean()\n",
    "    return loss\n",
    "\n",
    "def robustness_accuracy(predictions, true_labels_one_hot, threshold=0.1):\n",
    "    robust = np.abs(predictions - true_labels_one_hot) < threshold\n",
    "    return robust.sum() / true_labels_one_hot.size\n",
    "\n"
   ]
  },
  {
   "cell_type": "code",
   "execution_count": 44,
   "id": "14d40f88-cd9e-4998-9aeb-6e41df92ec92",
   "metadata": {},
   "outputs": [],
   "source": [
    "from tensorflow.keras.utils import to_categorical\n",
    "true_labels_one_hot = to_categorical(true_labels, num_classes=CNN_predictions.shape[1])\n",
    "simplecnn_robustness_loss = robustness_loss(CNN_predictions, true_labels_one_hot)\n",
    "simplecnn_robustness_acc = robustness_accuracy(CNN_predictions, true_labels_one_hot)\n",
    "\n",
    "mobilenet_robustness_loss = robustness_loss(mobilenet_predictions, true_labels_one_hot)\n",
    "mobilenet_robustness_acc = robustness_accuracy(mobilenet_predictions, true_labels_one_hot)\n",
    "\n",
    "resnet50_robustness_loss = robustness_loss(resnet50_predictions, true_labels_one_hot)\n",
    "resnet50_robustness_acc = robustness_accuracy(resnet50_predictions, true_labels_one_hot)"
   ]
  },
  {
   "cell_type": "code",
   "execution_count": 46,
   "id": "0e6bb0a2-ada1-4ec6-a388-6afb8dab4684",
   "metadata": {},
   "outputs": [
    {
     "data": {
      "text/html": [
       "<div>\n",
       "<style scoped>\n",
       "    .dataframe tbody tr th:only-of-type {\n",
       "        vertical-align: middle;\n",
       "    }\n",
       "\n",
       "    .dataframe tbody tr th {\n",
       "        vertical-align: top;\n",
       "    }\n",
       "\n",
       "    .dataframe thead th {\n",
       "        text-align: right;\n",
       "    }\n",
       "</style>\n",
       "<table border=\"1\" class=\"dataframe\">\n",
       "  <thead>\n",
       "    <tr style=\"text-align: right;\">\n",
       "      <th></th>\n",
       "      <th>Model</th>\n",
       "      <th>Precision</th>\n",
       "      <th>Recall</th>\n",
       "      <th>F1-Score</th>\n",
       "      <th>IoU</th>\n",
       "      <th>Pixel Accuracy</th>\n",
       "      <th>MSE</th>\n",
       "      <th>True Positives (TP)</th>\n",
       "      <th>False Positives (FP)</th>\n",
       "      <th>False Negatives (FN)</th>\n",
       "      <th>True Negatives (TN)</th>\n",
       "      <th>Robustness Loss</th>\n",
       "      <th>Robustness Accuracy</th>\n",
       "    </tr>\n",
       "  </thead>\n",
       "  <tbody>\n",
       "    <tr>\n",
       "      <th>0</th>\n",
       "      <td>SimpleCNN</td>\n",
       "      <td>0.5522</td>\n",
       "      <td>0.5814</td>\n",
       "      <td>0.5521</td>\n",
       "      <td>0.4001</td>\n",
       "      <td>0.5814</td>\n",
       "      <td>0.6954</td>\n",
       "      <td>4207</td>\n",
       "      <td>3029</td>\n",
       "      <td>3029</td>\n",
       "      <td>18679</td>\n",
       "      <td>0.3011</td>\n",
       "      <td>0.2282</td>\n",
       "    </tr>\n",
       "    <tr>\n",
       "      <th>1</th>\n",
       "      <td>MobileNet</td>\n",
       "      <td>0.7041</td>\n",
       "      <td>0.7034</td>\n",
       "      <td>0.7029</td>\n",
       "      <td>0.5461</td>\n",
       "      <td>0.7034</td>\n",
       "      <td>0.5325</td>\n",
       "      <td>5090</td>\n",
       "      <td>2146</td>\n",
       "      <td>2146</td>\n",
       "      <td>19562</td>\n",
       "      <td>0.1944</td>\n",
       "      <td>0.5513</td>\n",
       "    </tr>\n",
       "    <tr>\n",
       "      <th>2</th>\n",
       "      <td>ResNet50</td>\n",
       "      <td>0.6738</td>\n",
       "      <td>0.6674</td>\n",
       "      <td>0.6694</td>\n",
       "      <td>0.5066</td>\n",
       "      <td>0.6674</td>\n",
       "      <td>0.6497</td>\n",
       "      <td>4829</td>\n",
       "      <td>2407</td>\n",
       "      <td>2407</td>\n",
       "      <td>19301</td>\n",
       "      <td>0.2266</td>\n",
       "      <td>0.4502</td>\n",
       "    </tr>\n",
       "  </tbody>\n",
       "</table>\n",
       "</div>"
      ],
      "text/plain": [
       "       Model  Precision  Recall  F1-Score     IoU  Pixel Accuracy     MSE  \\\n",
       "0  SimpleCNN     0.5522  0.5814    0.5521  0.4001          0.5814  0.6954   \n",
       "1  MobileNet     0.7041  0.7034    0.7029  0.5461          0.7034  0.5325   \n",
       "2   ResNet50     0.6738  0.6674    0.6694  0.5066          0.6674  0.6497   \n",
       "\n",
       "   True Positives (TP)  False Positives (FP)  False Negatives (FN)  \\\n",
       "0                 4207                  3029                  3029   \n",
       "1                 5090                  2146                  2146   \n",
       "2                 4829                  2407                  2407   \n",
       "\n",
       "   True Negatives (TN)  Robustness Loss  Robustness Accuracy  \n",
       "0                18679           0.3011               0.2282  \n",
       "1                19562           0.1944               0.5513  \n",
       "2                19301           0.2266               0.4502  "
      ]
     },
     "execution_count": 46,
     "metadata": {},
     "output_type": "execute_result"
    }
   ],
   "source": [
    "damage_class_metrics_data = {\n",
    "    \"Model\": [\"SimpleCNN\", \"MobileNet\", \"ResNet50\"],\n",
    "    \"Precision\": [simplecnn_metrics['Precision'], mobilenet_metrics['Precision'], resnet_metrics['Precision']],\n",
    "    \"Recall\": [simplecnn_metrics['Recall'], mobilenet_metrics['Recall'], resnet_metrics['Recall']],\n",
    "    \"F1-Score\": [simplecnn_metrics['F1-Score'], mobilenet_metrics['F1-Score'], resnet_metrics['F1-Score']],\n",
    "    \"IoU\": [simplecnn_metrics['IoU'], mobilenet_metrics['IoU'], resnet_metrics['IoU']],\n",
    "    \"Pixel Accuracy\": [simplecnn_metrics['Pixel Accuracy'], mobilenet_metrics['Pixel Accuracy'], resnet_metrics['Pixel Accuracy']],\n",
    "    \"MSE\": [simplecnn_metrics['MSE'], mobilenet_metrics['MSE'], resnet_metrics['MSE']],\n",
    "    \"True Positives (TP)\": [simplecnn_metrics['Confusion Matrix']['TP'], mobilenet_metrics['Confusion Matrix']['TP'], resnet_metrics['Confusion Matrix']['TP']],\n",
    "    \"False Positives (FP)\": [simplecnn_metrics['Confusion Matrix']['FP'], mobilenet_metrics['Confusion Matrix']['FP'], resnet_metrics['Confusion Matrix']['FP']],\n",
    "    \"False Negatives (FN)\": [simplecnn_metrics['Confusion Matrix']['FN'], mobilenet_metrics['Confusion Matrix']['FN'], resnet_metrics['Confusion Matrix']['FN']],\n",
    "    \"True Negatives (TN)\": [simplecnn_metrics['Confusion Matrix']['TN'], mobilenet_metrics['Confusion Matrix']['TN'], resnet_metrics['Confusion Matrix']['TN']],\n",
    "    \"Robustness Loss\": [simplecnn_robustness_loss, mobilenet_robustness_loss, resnet50_robustness_loss],\n",
    "    \"Robustness Accuracy\": [simplecnn_robustness_acc, mobilenet_robustness_acc, resnet50_robustness_acc]\n",
    "}\n",
    "\n",
    "damage_class_metrics_df = pd.DataFrame(damage_class_metrics_data).round(4)\n",
    "damage_class_metrics_df\n"
   ]
  },
  {
   "cell_type": "code",
   "execution_count": 52,
   "id": "ade59c8b-26d7-418c-af27-670773963a0b",
   "metadata": {},
   "outputs": [
    {
     "data": {
      "image/png": "[encoded data removed]",
      "text/plain": [
       "<Figure size 1800x600 with 2 Axes>"
      ]
     },
     "metadata": {},
     "output_type": "display_data"
    }
   ],
   "source": [
    "def plot_error_analysis(df, metrics, title, ax):\n",
    "    # Flatten confusion matrix values\n",
    "    df_error = pd.DataFrame({\n",
    "        \"Model\": df[\"Model\"],\n",
    "        \"True Positives (TP)\": df[\"True Positives (TP)\"],\n",
    "        \"False Positives (FP)\": df[\"False Positives (FP)\"],\n",
    "        \"False Negatives (FN)\": df[\"False Negatives (FN)\"],\n",
    "        \"True Negatives (TN)\": df[\"True Negatives (TN)\"]\n",
    "    })\n",
    "    \n",
    "    df_error = df_error.melt(id_vars=\"Model\", value_vars=metrics, var_name=\"Confusion Matrix\", value_name=\"Value\")\n",
    "    \n",
    "    sns.barplot(data=df_error, x=\"Confusion Matrix\", y=\"Value\", hue=\"Model\", ax=ax)\n",
    "    ax.set_title(title, fontsize=16)\n",
    "    ax.set_ylabel(\"Count\")\n",
    "    ax.set_xlabel(\"Confusion Metrics\")\n",
    "    ax.tick_params(axis='x', rotation=45)\n",
    "\n",
    "error_metrics = [\n",
    "    \"True Positives (TP)\", \"False Positives (FP)\", \"False Negatives (FN)\"\n",
    "]\n",
    "\n",
    "fig, axes = plt.subplots(1, 2, figsize=(18, 6))\n",
    "\n",
    "plot_metrics(damage_class_metrics_df, quantitative_metrics, \"Quantitative Metrics Comparison\", axes[0])\n",
    "plot_error_analysis(damage_class_metrics_df, error_metrics, \"Confusion Matrix\", axes[1])\n",
    "\n",
    "plt.tight_layout()\n",
    "plt.show()"
   ]
  },
  {
   "cell_type": "markdown",
   "id": "a7849324-1b0a-4e73-9871-677410739243",
   "metadata": {},
   "source": [
    "The MobileNet model outperforms both SimpleCNN and ResNet50 across most metrics, achieving the highest precision (0.7041), recall (0.7034), and F1-score (0.7029), reflecting its strong ability to classify building damage accurately.  \n",
    "It also achieves the highest Intersection over Union (IoU) of 0.5461, which measures the overlap between the predicted and actual regions of building damage. This indicates that MobileNet is particularly effective in accurately segmenting the damaged areas, capturing a significant portion of the true damage while minimizing false positives. Additionally, the model's pixel accuracy of 0.7034 reflects its ability to correctly classify a majority of pixels in the image, further underscoring its robust performance in both classification and segmentation tasks.\n",
    "MobileNet's lower MSE (0.5325) and robustness loss (0.1944) demonstrate its efficiency and ability to generalize well in varying conditions. In comparison, SimpleCNN and ResNet50 show lower overall performance, especially in robustness and classification accuracy, therefore MobileNet proving to be the most effective model for the task."
   ]
  },
  {
   "cell_type": "code",
   "execution_count": null,
   "id": "584bd68e-e80c-4e03-8cc8-e2735a43c8ac",
   "metadata": {},
   "outputs": [],
   "source": []
  },
  {
   "cell_type": "code",
   "execution_count": null,
   "id": "8665f441-86c5-43c3-8b88-61829720bb98",
   "metadata": {},
   "outputs": [],
   "source": []
  },
  {
   "cell_type": "code",
   "execution_count": null,
   "id": "72aa2d1f-031d-4532-82ad-997830763a46",
   "metadata": {},
   "outputs": [],
   "source": []
  },
  {
   "cell_type": "code",
   "execution_count": null,
   "id": "5fde4ff5-078b-45dc-a74c-0f5bfef7c31c",
   "metadata": {},
   "outputs": [],
   "source": []
  }
 ],
 "metadata": {
  "kernelspec": {
   "display_name": "Python 3 (ipykernel)",
   "language": "python",
   "name": "python3"
  },
  "language_info": {
   "codemirror_mode": {
    "name": "ipython",
    "version": 3
   },
   "file_extension": ".py",
   "mimetype": "text/x-python",
   "name": "python",
   "nbconvert_exporter": "python",
   "pygments_lexer": "ipython3",
   "version": "3.11.7"
  }
 },
 "nbformat": 4,
 "nbformat_minor": 5
}
